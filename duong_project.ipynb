{
 "cells": [
  {
   "cell_type": "code",
   "execution_count": 5,
   "id": "62c6caea",
   "metadata": {
    "vscode": {
     "languageId": "r"
    }
   },
   "outputs": [
    {
     "name": "stderr",
     "output_type": "stream",
     "text": [
      "Installing package into 'C:/Users/quydu/AppData/Local/R/win-library/4.5'\n",
      "(as 'lib' is unspecified)\n",
      "\n"
     ]
    },
    {
     "name": "stdout",
     "output_type": "stream",
     "text": [
      "package 'IRkernel' successfully unpacked and MD5 sums checked\n",
      "\n",
      "The downloaded binary packages are in\n",
      "\tC:\\Users\\quydu\\AppData\\Local\\Temp\\RtmpMXpGE9\\downloaded_packages\n"
     ]
    }
   ],
   "source": [
    "install.packages('IRkernel')\n",
    "IRkernel::installspec()"
   ]
  },
  {
   "cell_type": "code",
   "execution_count": 7,
   "id": "f3b15ece",
   "metadata": {
    "vscode": {
     "languageId": "r"
    }
   },
   "outputs": [
    {
     "name": "stderr",
     "output_type": "stream",
     "text": [
      "Installing packages into 'C:/Users/quydu/AppData/Local/R/win-library/4.5'\n",
      "(as 'lib' is unspecified)\n",
      "\n",
      "also installing the dependencies 'sys', 'ps', 'sass', 'cachem', 'rappdirs', 'rematch', 'askpass', 'prettyunits', 'processx', 'highr', 'xfun', 'yaml', 'bslib', 'fontawesome', 'jquerylib', 'tinytex', 'bit', 'backports', 'generics', 'memoise', 'blob', 'DBI', 'tidyselect', 'data.table', 'gargle', 'cellranger', 'curl', 'ids', 'rematch2', 'pkgconfig', 'mime', 'openssl', 'timechange', 'systemfonts', 'textshaping', 'progress', 'callr', 'fs', 'knitr', 'rmarkdown', 'selectr', 'stringi', 'bit64', 'broom', 'conflicted', 'dbplyr', 'dplyr', 'dtplyr', 'forcats', 'googledrive', 'googlesheets4', 'haven', 'hms', 'httr', 'lubridate', 'magrittr', 'modelr', 'purrr', 'ragg', 'readxl', 'reprex', 'rstudioapi', 'rvest', 'stringr', 'tibble', 'tidyr', 'xml2', 'clipr', 'R6', 'vroom', 'cpp11', 'tzdb', 'gtable', 'isoband', 'withr', 'farver', 'labeling', 'RColorBrewer', 'viridisLite'\n",
      "\n",
      "\n"
     ]
    },
    {
     "name": "stdout",
     "output_type": "stream",
     "text": [
      "package 'sys' successfully unpacked and MD5 sums checked\n",
      "package 'ps' successfully unpacked and MD5 sums checked\n",
      "package 'sass' successfully unpacked and MD5 sums checked\n",
      "package 'cachem' successfully unpacked and MD5 sums checked\n",
      "package 'rappdirs' successfully unpacked and MD5 sums checked\n",
      "package 'rematch' successfully unpacked and MD5 sums checked\n",
      "package 'askpass' successfully unpacked and MD5 sums checked\n",
      "package 'prettyunits' successfully unpacked and MD5 sums checked\n",
      "package 'processx' successfully unpacked and MD5 sums checked\n",
      "package 'highr' successfully unpacked and MD5 sums checked\n",
      "package 'xfun' successfully unpacked and MD5 sums checked\n",
      "package 'yaml' successfully unpacked and MD5 sums checked\n",
      "package 'bslib' successfully unpacked and MD5 sums checked\n",
      "package 'fontawesome' successfully unpacked and MD5 sums checked\n",
      "package 'jquerylib' successfully unpacked and MD5 sums checked\n",
      "package 'tinytex' successfully unpacked and MD5 sums checked\n",
      "package 'bit' successfully unpacked and MD5 sums checked\n",
      "package 'backports' successfully unpacked and MD5 sums checked\n",
      "package 'generics' successfully unpacked and MD5 sums checked\n",
      "package 'memoise' successfully unpacked and MD5 sums checked\n",
      "package 'blob' successfully unpacked and MD5 sums checked\n",
      "package 'DBI' successfully unpacked and MD5 sums checked\n",
      "package 'tidyselect' successfully unpacked and MD5 sums checked\n",
      "package 'data.table' successfully unpacked and MD5 sums checked\n",
      "package 'gargle' successfully unpacked and MD5 sums checked\n",
      "package 'cellranger' successfully unpacked and MD5 sums checked\n",
      "package 'curl' successfully unpacked and MD5 sums checked\n",
      "package 'ids' successfully unpacked and MD5 sums checked\n",
      "package 'rematch2' successfully unpacked and MD5 sums checked\n",
      "package 'pkgconfig' successfully unpacked and MD5 sums checked\n",
      "package 'mime' successfully unpacked and MD5 sums checked\n",
      "package 'openssl' successfully unpacked and MD5 sums checked\n",
      "package 'timechange' successfully unpacked and MD5 sums checked\n",
      "package 'systemfonts' successfully unpacked and MD5 sums checked\n",
      "package 'textshaping' successfully unpacked and MD5 sums checked\n",
      "package 'progress' successfully unpacked and MD5 sums checked\n",
      "package 'callr' successfully unpacked and MD5 sums checked\n",
      "package 'fs' successfully unpacked and MD5 sums checked\n",
      "package 'knitr' successfully unpacked and MD5 sums checked\n",
      "package 'rmarkdown' successfully unpacked and MD5 sums checked\n",
      "package 'selectr' successfully unpacked and MD5 sums checked\n",
      "package 'stringi' successfully unpacked and MD5 sums checked\n",
      "package 'bit64' successfully unpacked and MD5 sums checked\n",
      "package 'broom' successfully unpacked and MD5 sums checked\n",
      "package 'conflicted' successfully unpacked and MD5 sums checked\n",
      "package 'dbplyr' successfully unpacked and MD5 sums checked\n",
      "package 'dplyr' successfully unpacked and MD5 sums checked\n",
      "package 'dtplyr' successfully unpacked and MD5 sums checked\n",
      "package 'forcats' successfully unpacked and MD5 sums checked\n",
      "package 'googledrive' successfully unpacked and MD5 sums checked\n",
      "package 'googlesheets4' successfully unpacked and MD5 sums checked\n",
      "package 'haven' successfully unpacked and MD5 sums checked\n",
      "package 'hms' successfully unpacked and MD5 sums checked\n",
      "package 'httr' successfully unpacked and MD5 sums checked\n",
      "package 'lubridate' successfully unpacked and MD5 sums checked\n",
      "package 'magrittr' successfully unpacked and MD5 sums checked\n",
      "package 'modelr' successfully unpacked and MD5 sums checked\n",
      "package 'purrr' successfully unpacked and MD5 sums checked\n",
      "package 'ragg' successfully unpacked and MD5 sums checked\n",
      "package 'readxl' successfully unpacked and MD5 sums checked\n",
      "package 'reprex' successfully unpacked and MD5 sums checked\n",
      "package 'rstudioapi' successfully unpacked and MD5 sums checked\n",
      "package 'rvest' successfully unpacked and MD5 sums checked\n",
      "package 'stringr' successfully unpacked and MD5 sums checked\n",
      "package 'tibble' successfully unpacked and MD5 sums checked\n",
      "package 'tidyr' successfully unpacked and MD5 sums checked\n",
      "package 'xml2' successfully unpacked and MD5 sums checked\n",
      "package 'clipr' successfully unpacked and MD5 sums checked\n",
      "package 'R6' successfully unpacked and MD5 sums checked\n",
      "package 'vroom' successfully unpacked and MD5 sums checked\n",
      "package 'cpp11' successfully unpacked and MD5 sums checked\n",
      "package 'tzdb' successfully unpacked and MD5 sums checked\n",
      "package 'gtable' successfully unpacked and MD5 sums checked\n",
      "package 'isoband' successfully unpacked and MD5 sums checked\n",
      "package 'withr' successfully unpacked and MD5 sums checked\n",
      "package 'farver' successfully unpacked and MD5 sums checked\n",
      "package 'labeling' successfully unpacked and MD5 sums checked\n",
      "package 'RColorBrewer' successfully unpacked and MD5 sums checked\n",
      "package 'viridisLite' successfully unpacked and MD5 sums checked\n",
      "package 'tidyverse' successfully unpacked and MD5 sums checked\n",
      "package 'readr' successfully unpacked and MD5 sums checked\n",
      "package 'ggplot2' successfully unpacked and MD5 sums checked\n",
      "package 'scales' successfully unpacked and MD5 sums checked\n",
      "\n",
      "The downloaded binary packages are in\n",
      "\tC:\\Users\\quydu\\AppData\\Local\\Temp\\RtmpMXpGE9\\downloaded_packages\n"
     ]
    }
   ],
   "source": [
    "install.packages(c(\"tidyverse\", \"readr\", \"ggplot2\", \"scales\"))"
   ]
  },
  {
   "cell_type": "code",
   "execution_count": 8,
   "id": "3b1293f0",
   "metadata": {
    "vscode": {
     "languageId": "r"
    }
   },
   "outputs": [
    {
     "name": "stderr",
     "output_type": "stream",
     "text": [
      "── \u001b[1mAttaching core tidyverse packages\u001b[22m ──────────────────────── tidyverse 2.0.0 ──\n",
      "\u001b[32m✔\u001b[39m \u001b[34mdplyr    \u001b[39m 1.1.4     \u001b[32m✔\u001b[39m \u001b[34mreadr    \u001b[39m 2.1.5\n",
      "\u001b[32m✔\u001b[39m \u001b[34mforcats  \u001b[39m 1.0.0     \u001b[32m✔\u001b[39m \u001b[34mstringr  \u001b[39m 1.5.1\n",
      "\u001b[32m✔\u001b[39m \u001b[34mggplot2  \u001b[39m 3.5.2     \u001b[32m✔\u001b[39m \u001b[34mtibble   \u001b[39m 3.3.0\n",
      "\u001b[32m✔\u001b[39m \u001b[34mlubridate\u001b[39m 1.9.4     \u001b[32m✔\u001b[39m \u001b[34mtidyr    \u001b[39m 1.3.1\n",
      "\u001b[32m✔\u001b[39m \u001b[34mpurrr    \u001b[39m 1.1.0     \n",
      "── \u001b[1mConflicts\u001b[22m ────────────────────────────────────────── tidyverse_conflicts() ──\n",
      "\u001b[31m✖\u001b[39m \u001b[34mdplyr\u001b[39m::\u001b[32mfilter()\u001b[39m masks \u001b[34mstats\u001b[39m::filter()\n",
      "\u001b[31m✖\u001b[39m \u001b[34mdplyr\u001b[39m::\u001b[32mlag()\u001b[39m    masks \u001b[34mstats\u001b[39m::lag()\n",
      "\u001b[36mℹ\u001b[39m Use the conflicted package (\u001b[3m\u001b[34m<http://conflicted.r-lib.org/>\u001b[39m\u001b[23m) to force all conflicts to become errors\n",
      "\n",
      "Attaching package: 'scales'\n",
      "\n",
      "\n",
      "The following object is masked from 'package:purrr':\n",
      "\n",
      "    discard\n",
      "\n",
      "\n",
      "The following object is masked from 'package:readr':\n",
      "\n",
      "    col_factor\n",
      "\n",
      "\n"
     ]
    }
   ],
   "source": [
    "# load libraries\n",
    "\n",
    "library(tidyverse)\n",
    "library(readr)\n",
    "library(ggplot2)\n",
    "library(scales)"
   ]
  },
  {
   "cell_type": "markdown",
   "id": "367c4e43",
   "metadata": {},
   "source": [
    "# (1) Data Description:\n",
    "\n",
    "This dataset provides a comprehensive look at Airbnb prices in Paris, Vienna, and Barcelona. Each listing is evaluated for various attributes such as room types, cleanliness and satisfaction ratings, bedrooms, distance from the city centre, and more to capture an in-depth understanding of Airbnb prices on both weekdays and weekends. Using spatial econometric methods, we analyse and identify the determinants of Airbnb prices across these cities. Our dataset includes information such as realSum (the total price of the listing), room_type (private/shared/entire home/apt), host_is_superhost (boolean value indicating if host is a superhost or not), multi (indicator whether listing is for multiple rooms or not), biz (business indicator) , guest_satisfaction_overall (overall rating from guests camparing all listings offered by host ), bedrooms, dist (distance from city center) , lng & lat coordinates for location identification etc. We hope that this data set offers insight into how global markets are affected by social dynamics and geographical factors which in turn determine pricing strategies for optimal profitability!\n",
    "\n",
    "## Source: https://www.kaggle.com/datasets/thedevastator/airbnb-prices-in-european-cities/data"
   ]
  },
  {
   "cell_type": "markdown",
   "id": "e0553d18",
   "metadata": {},
   "source": [
    "# (2) Question: \n",
    "\n",
    "## How do listing characteristics and location-based factors influence Airbnb rental prices on weekdays versus weekends across Paris, Vienna, and Barcelona?\n",
    "\n",
    "In this project, I aim to model and explain variations in the total rental price (realSum), which serves as the response variable, using at least the following explanatory variables:\n",
    "- room_type: private/ shared/ entire home/ apt\n",
    "- host_is_superhose: boolean alue indicating if host is a superhost or not\n",
    "- multi: indicator whether listing is for multiple rooms or not\n",
    "- biz: business indicator\n",
    "- guest_satisfaction_overall: overall rating from guests from all listings offered by host\n",
    "- bedrooms: number of bedrooms in the unit\n",
    "- dist: distance from city center\n",
    "- lng & lat coordinates for location identification\n",
    "\n",
    "This dataset, which includes detailed Airbnb listing data from Barcelona, Paris, and Vienna, split by weekday and weekend, allows me to compare how different features impact pricing under varying travel demand patterns.\n",
    "\n",
    "The main goal is to perform inference to identify and interpret which factors significantly influence price and whether these effects differ between weekdays and weekends. However, I will also assess prediction performance of the fitted regression models to validate the model's utility\n",
    "\n"
   ]
  },
  {
   "cell_type": "markdown",
   "id": "e999f291",
   "metadata": {},
   "source": [
    "# (3) EDA and Visualization"
   ]
  },
  {
   "cell_type": "code",
   "execution_count": null,
   "id": "6b819b5c",
   "metadata": {
    "vscode": {
     "languageId": "r"
    }
   },
   "outputs": [
    {
     "name": "stderr",
     "output_type": "stream",
     "text": [
      "\u001b[1m\u001b[22mNew names:\n",
      "\u001b[36m•\u001b[39m `` -> `...1`\n",
      "\u001b[1mRows: \u001b[22m\u001b[34m3130\u001b[39m \u001b[1mColumns: \u001b[22m\u001b[34m20\u001b[39m\n",
      "\u001b[36m──\u001b[39m \u001b[1mColumn specification\u001b[22m \u001b[36m────────────────────────────────────────────────────────\u001b[39m\n",
      "\u001b[1mDelimiter:\u001b[22m \",\"\n",
      "\u001b[31mchr\u001b[39m  (1): room_type\n",
      "\u001b[32mdbl\u001b[39m (16): ...1, realSum, person_capacity, multi, biz, cleanliness_rating, gu...\n",
      "\u001b[33mlgl\u001b[39m  (3): room_shared, room_private, host_is_superhost\n",
      "\n",
      "\u001b[36mℹ\u001b[39m Use `spec()` to retrieve the full column specification for this data.\n",
      "\u001b[36mℹ\u001b[39m Specify the column types or set `show_col_types = FALSE` to quiet this message.\n",
      "\u001b[1m\u001b[22mNew names:\n",
      "\u001b[36m•\u001b[39m `` -> `...1`\n",
      "\u001b[1mRows: \u001b[22m\u001b[34m3558\u001b[39m \u001b[1mColumns: \u001b[22m\u001b[34m20\u001b[39m\n",
      "\u001b[36m──\u001b[39m \u001b[1mColumn specification\u001b[22m \u001b[36m────────────────────────────────────────────────────────\u001b[39m\n",
      "\u001b[1mDelimiter:\u001b[22m \",\"\n",
      "\u001b[31mchr\u001b[39m  (1): room_type\n",
      "\u001b[32mdbl\u001b[39m (16): ...1, realSum, person_capacity, multi, biz, cleanliness_rating, gu...\n",
      "\u001b[33mlgl\u001b[39m  (3): room_shared, room_private, host_is_superhost\n",
      "\n",
      "\u001b[36mℹ\u001b[39m Use `spec()` to retrieve the full column specification for this data.\n",
      "\u001b[36mℹ\u001b[39m Specify the column types or set `show_col_types = FALSE` to quiet this message.\n",
      "\u001b[1m\u001b[22mNew names:\n",
      "\u001b[36m•\u001b[39m `` -> `...1`\n",
      "\u001b[1mRows: \u001b[22m\u001b[34m1738\u001b[39m \u001b[1mColumns: \u001b[22m\u001b[34m20\u001b[39m\n",
      "\u001b[36m──\u001b[39m \u001b[1mColumn specification\u001b[22m \u001b[36m────────────────────────────────────────────────────────\u001b[39m\n",
      "\u001b[1mDelimiter:\u001b[22m \",\"\n",
      "\u001b[31mchr\u001b[39m  (1): room_type\n",
      "\u001b[32mdbl\u001b[39m (16): ...1, realSum, person_capacity, multi, biz, cleanliness_rating, gu...\n",
      "\u001b[33mlgl\u001b[39m  (3): room_shared, room_private, host_is_superhost\n",
      "\n",
      "\u001b[36mℹ\u001b[39m Use `spec()` to retrieve the full column specification for this data.\n",
      "\u001b[36mℹ\u001b[39m Specify the column types or set `show_col_types = FALSE` to quiet this message.\n",
      "\u001b[1m\u001b[22mNew names:\n",
      "\u001b[36m•\u001b[39m `` -> `...1`\n",
      "\u001b[1mRows: \u001b[22m\u001b[34m1799\u001b[39m \u001b[1mColumns: \u001b[22m\u001b[34m20\u001b[39m\n",
      "\u001b[36m──\u001b[39m \u001b[1mColumn specification\u001b[22m \u001b[36m────────────────────────────────────────────────────────\u001b[39m\n",
      "\u001b[1mDelimiter:\u001b[22m \",\"\n",
      "\u001b[31mchr\u001b[39m  (1): room_type\n",
      "\u001b[32mdbl\u001b[39m (16): ...1, realSum, person_capacity, multi, biz, cleanliness_rating, gu...\n",
      "\u001b[33mlgl\u001b[39m  (3): room_shared, room_private, host_is_superhost\n",
      "\n",
      "\u001b[36mℹ\u001b[39m Use `spec()` to retrieve the full column specification for this data.\n",
      "\u001b[36mℹ\u001b[39m Specify the column types or set `show_col_types = FALSE` to quiet this message.\n",
      "\u001b[1m\u001b[22mNew names:\n",
      "\u001b[36m•\u001b[39m `` -> `...1`\n",
      "\u001b[1mRows: \u001b[22m\u001b[34m1555\u001b[39m \u001b[1mColumns: \u001b[22m\u001b[34m20\u001b[39m\n",
      "\u001b[36m──\u001b[39m \u001b[1mColumn specification\u001b[22m \u001b[36m────────────────────────────────────────────────────────\u001b[39m\n",
      "\u001b[1mDelimiter:\u001b[22m \",\"\n",
      "\u001b[31mchr\u001b[39m  (1): room_type\n",
      "\u001b[32mdbl\u001b[39m (16): ...1, realSum, person_capacity, multi, biz, cleanliness_rating, gu...\n",
      "\u001b[33mlgl\u001b[39m  (3): room_shared, room_private, host_is_superhost\n",
      "\n",
      "\u001b[36mℹ\u001b[39m Use `spec()` to retrieve the full column specification for this data.\n",
      "\u001b[36mℹ\u001b[39m Specify the column types or set `show_col_types = FALSE` to quiet this message.\n",
      "\u001b[1m\u001b[22mNew names:\n",
      "\u001b[36m•\u001b[39m `` -> `...1`\n",
      "\u001b[1mRows: \u001b[22m\u001b[34m1278\u001b[39m \u001b[1mColumns: \u001b[22m\u001b[34m20\u001b[39m\n",
      "\u001b[36m──\u001b[39m \u001b[1mColumn specification\u001b[22m \u001b[36m────────────────────────────────────────────────────────\u001b[39m\n",
      "\u001b[1mDelimiter:\u001b[22m \",\"\n",
      "\u001b[31mchr\u001b[39m  (1): room_type\n",
      "\u001b[32mdbl\u001b[39m (16): ...1, realSum, person_capacity, multi, biz, cleanliness_rating, gu...\n",
      "\u001b[33mlgl\u001b[39m  (3): room_shared, room_private, host_is_superhost\n",
      "\n",
      "\u001b[36mℹ\u001b[39m Use `spec()` to retrieve the full column specification for this data.\n",
      "\u001b[36mℹ\u001b[39m Specify the column types or set `show_col_types = FALSE` to quiet this message.\n"
     ]
    },
    {
     "data": {
      "text/html": [
       "<table class=\"dataframe\">\n",
       "<caption>A tibble: 6 × 20</caption>\n",
       "<thead>\n",
       "\t<tr><th scope=col>...1</th><th scope=col>realSum</th><th scope=col>room_type</th><th scope=col>room_shared</th><th scope=col>room_private</th><th scope=col>person_capacity</th><th scope=col>host_is_superhost</th><th scope=col>multi</th><th scope=col>biz</th><th scope=col>cleanliness_rating</th><th scope=col>guest_satisfaction_overall</th><th scope=col>bedrooms</th><th scope=col>dist</th><th scope=col>metro_dist</th><th scope=col>attr_index</th><th scope=col>attr_index_norm</th><th scope=col>rest_index</th><th scope=col>rest_index_norm</th><th scope=col>lng</th><th scope=col>lat</th></tr>\n",
       "\t<tr><th scope=col>&lt;dbl&gt;</th><th scope=col>&lt;dbl&gt;</th><th scope=col>&lt;chr&gt;</th><th scope=col>&lt;lgl&gt;</th><th scope=col>&lt;lgl&gt;</th><th scope=col>&lt;dbl&gt;</th><th scope=col>&lt;lgl&gt;</th><th scope=col>&lt;dbl&gt;</th><th scope=col>&lt;dbl&gt;</th><th scope=col>&lt;dbl&gt;</th><th scope=col>&lt;dbl&gt;</th><th scope=col>&lt;dbl&gt;</th><th scope=col>&lt;dbl&gt;</th><th scope=col>&lt;dbl&gt;</th><th scope=col>&lt;dbl&gt;</th><th scope=col>&lt;dbl&gt;</th><th scope=col>&lt;dbl&gt;</th><th scope=col>&lt;dbl&gt;</th><th scope=col>&lt;dbl&gt;</th><th scope=col>&lt;dbl&gt;</th></tr>\n",
       "</thead>\n",
       "<tbody>\n",
       "\t<tr><td>0</td><td>296.1599</td><td>Private room   </td><td>FALSE</td><td> TRUE</td><td>2</td><td> TRUE</td><td>0</td><td>0</td><td>10</td><td>97</td><td>1</td><td>0.6998206</td><td>0.1937094</td><td>518.4789</td><td>25.23938</td><td>1218.6622</td><td>71.60803</td><td>2.35385</td><td>48.86282</td></tr>\n",
       "\t<tr><td>1</td><td>288.2375</td><td>Private room   </td><td>FALSE</td><td> TRUE</td><td>2</td><td> TRUE</td><td>0</td><td>0</td><td>10</td><td>97</td><td>1</td><td>2.1000054</td><td>0.1072207</td><td>873.2170</td><td>42.50791</td><td>1000.5433</td><td>58.79146</td><td>2.32436</td><td>48.85902</td></tr>\n",
       "\t<tr><td>2</td><td>211.3431</td><td>Private room   </td><td>FALSE</td><td> TRUE</td><td>2</td><td>FALSE</td><td>0</td><td>0</td><td>10</td><td>94</td><td>1</td><td>3.3023251</td><td>0.2347238</td><td>444.5561</td><td>21.64084</td><td> 902.8545</td><td>53.05131</td><td>2.31714</td><td>48.87475</td></tr>\n",
       "\t<tr><td>3</td><td>298.9561</td><td>Entire home/apt</td><td>FALSE</td><td>FALSE</td><td>2</td><td>FALSE</td><td>0</td><td>1</td><td> 9</td><td>91</td><td>1</td><td>0.5475667</td><td>0.1959965</td><td>542.1420</td><td>26.39129</td><td>1199.1842</td><td>70.46351</td><td>2.35600</td><td>48.86100</td></tr>\n",
       "\t<tr><td>4</td><td>247.9262</td><td>Entire home/apt</td><td>FALSE</td><td>FALSE</td><td>4</td><td>FALSE</td><td>0</td><td>0</td><td> 7</td><td>82</td><td>1</td><td>1.1979209</td><td>0.1035729</td><td>406.9290</td><td>19.80916</td><td>1070.7755</td><td>62.91827</td><td>2.35915</td><td>48.86648</td></tr>\n",
       "\t<tr><td>5</td><td>527.0761</td><td>Entire home/apt</td><td>FALSE</td><td>FALSE</td><td>4</td><td> TRUE</td><td>0</td><td>0</td><td>10</td><td>93</td><td>1</td><td>1.5432015</td><td>0.5491303</td><td>967.4781</td><td>47.09651</td><td>1095.8704</td><td>64.39284</td><td>2.33201</td><td>48.85891</td></tr>\n",
       "</tbody>\n",
       "</table>\n"
      ],
      "text/latex": [
       "A tibble: 6 × 20\n",
       "\\begin{tabular}{llllllllllllllllllll}\n",
       " ...1 & realSum & room\\_type & room\\_shared & room\\_private & person\\_capacity & host\\_is\\_superhost & multi & biz & cleanliness\\_rating & guest\\_satisfaction\\_overall & bedrooms & dist & metro\\_dist & attr\\_index & attr\\_index\\_norm & rest\\_index & rest\\_index\\_norm & lng & lat\\\\\n",
       " <dbl> & <dbl> & <chr> & <lgl> & <lgl> & <dbl> & <lgl> & <dbl> & <dbl> & <dbl> & <dbl> & <dbl> & <dbl> & <dbl> & <dbl> & <dbl> & <dbl> & <dbl> & <dbl> & <dbl>\\\\\n",
       "\\hline\n",
       "\t 0 & 296.1599 & Private room    & FALSE &  TRUE & 2 &  TRUE & 0 & 0 & 10 & 97 & 1 & 0.6998206 & 0.1937094 & 518.4789 & 25.23938 & 1218.6622 & 71.60803 & 2.35385 & 48.86282\\\\\n",
       "\t 1 & 288.2375 & Private room    & FALSE &  TRUE & 2 &  TRUE & 0 & 0 & 10 & 97 & 1 & 2.1000054 & 0.1072207 & 873.2170 & 42.50791 & 1000.5433 & 58.79146 & 2.32436 & 48.85902\\\\\n",
       "\t 2 & 211.3431 & Private room    & FALSE &  TRUE & 2 & FALSE & 0 & 0 & 10 & 94 & 1 & 3.3023251 & 0.2347238 & 444.5561 & 21.64084 &  902.8545 & 53.05131 & 2.31714 & 48.87475\\\\\n",
       "\t 3 & 298.9561 & Entire home/apt & FALSE & FALSE & 2 & FALSE & 0 & 1 &  9 & 91 & 1 & 0.5475667 & 0.1959965 & 542.1420 & 26.39129 & 1199.1842 & 70.46351 & 2.35600 & 48.86100\\\\\n",
       "\t 4 & 247.9262 & Entire home/apt & FALSE & FALSE & 4 & FALSE & 0 & 0 &  7 & 82 & 1 & 1.1979209 & 0.1035729 & 406.9290 & 19.80916 & 1070.7755 & 62.91827 & 2.35915 & 48.86648\\\\\n",
       "\t 5 & 527.0761 & Entire home/apt & FALSE & FALSE & 4 &  TRUE & 0 & 0 & 10 & 93 & 1 & 1.5432015 & 0.5491303 & 967.4781 & 47.09651 & 1095.8704 & 64.39284 & 2.33201 & 48.85891\\\\\n",
       "\\end{tabular}\n"
      ],
      "text/markdown": [
       "\n",
       "A tibble: 6 × 20\n",
       "\n",
       "| ...1 &lt;dbl&gt; | realSum &lt;dbl&gt; | room_type &lt;chr&gt; | room_shared &lt;lgl&gt; | room_private &lt;lgl&gt; | person_capacity &lt;dbl&gt; | host_is_superhost &lt;lgl&gt; | multi &lt;dbl&gt; | biz &lt;dbl&gt; | cleanliness_rating &lt;dbl&gt; | guest_satisfaction_overall &lt;dbl&gt; | bedrooms &lt;dbl&gt; | dist &lt;dbl&gt; | metro_dist &lt;dbl&gt; | attr_index &lt;dbl&gt; | attr_index_norm &lt;dbl&gt; | rest_index &lt;dbl&gt; | rest_index_norm &lt;dbl&gt; | lng &lt;dbl&gt; | lat &lt;dbl&gt; |\n",
       "|---|---|---|---|---|---|---|---|---|---|---|---|---|---|---|---|---|---|---|---|\n",
       "| 0 | 296.1599 | Private room    | FALSE |  TRUE | 2 |  TRUE | 0 | 0 | 10 | 97 | 1 | 0.6998206 | 0.1937094 | 518.4789 | 25.23938 | 1218.6622 | 71.60803 | 2.35385 | 48.86282 |\n",
       "| 1 | 288.2375 | Private room    | FALSE |  TRUE | 2 |  TRUE | 0 | 0 | 10 | 97 | 1 | 2.1000054 | 0.1072207 | 873.2170 | 42.50791 | 1000.5433 | 58.79146 | 2.32436 | 48.85902 |\n",
       "| 2 | 211.3431 | Private room    | FALSE |  TRUE | 2 | FALSE | 0 | 0 | 10 | 94 | 1 | 3.3023251 | 0.2347238 | 444.5561 | 21.64084 |  902.8545 | 53.05131 | 2.31714 | 48.87475 |\n",
       "| 3 | 298.9561 | Entire home/apt | FALSE | FALSE | 2 | FALSE | 0 | 1 |  9 | 91 | 1 | 0.5475667 | 0.1959965 | 542.1420 | 26.39129 | 1199.1842 | 70.46351 | 2.35600 | 48.86100 |\n",
       "| 4 | 247.9262 | Entire home/apt | FALSE | FALSE | 4 | FALSE | 0 | 0 |  7 | 82 | 1 | 1.1979209 | 0.1035729 | 406.9290 | 19.80916 | 1070.7755 | 62.91827 | 2.35915 | 48.86648 |\n",
       "| 5 | 527.0761 | Entire home/apt | FALSE | FALSE | 4 |  TRUE | 0 | 0 | 10 | 93 | 1 | 1.5432015 | 0.5491303 | 967.4781 | 47.09651 | 1095.8704 | 64.39284 | 2.33201 | 48.85891 |\n",
       "\n"
      ],
      "text/plain": [
       "  ...1 realSum  room_type       room_shared room_private person_capacity\n",
       "1 0    296.1599 Private room    FALSE        TRUE        2              \n",
       "2 1    288.2375 Private room    FALSE        TRUE        2              \n",
       "3 2    211.3431 Private room    FALSE        TRUE        2              \n",
       "4 3    298.9561 Entire home/apt FALSE       FALSE        2              \n",
       "5 4    247.9262 Entire home/apt FALSE       FALSE        4              \n",
       "6 5    527.0761 Entire home/apt FALSE       FALSE        4              \n",
       "  host_is_superhost multi biz cleanliness_rating guest_satisfaction_overall\n",
       "1  TRUE             0     0   10                 97                        \n",
       "2  TRUE             0     0   10                 97                        \n",
       "3 FALSE             0     0   10                 94                        \n",
       "4 FALSE             0     1    9                 91                        \n",
       "5 FALSE             0     0    7                 82                        \n",
       "6  TRUE             0     0   10                 93                        \n",
       "  bedrooms dist      metro_dist attr_index attr_index_norm rest_index\n",
       "1 1        0.6998206 0.1937094  518.4789   25.23938        1218.6622 \n",
       "2 1        2.1000054 0.1072207  873.2170   42.50791        1000.5433 \n",
       "3 1        3.3023251 0.2347238  444.5561   21.64084         902.8545 \n",
       "4 1        0.5475667 0.1959965  542.1420   26.39129        1199.1842 \n",
       "5 1        1.1979209 0.1035729  406.9290   19.80916        1070.7755 \n",
       "6 1        1.5432015 0.5491303  967.4781   47.09651        1095.8704 \n",
       "  rest_index_norm lng     lat     \n",
       "1 71.60803        2.35385 48.86282\n",
       "2 58.79146        2.32436 48.85902\n",
       "3 53.05131        2.31714 48.87475\n",
       "4 70.46351        2.35600 48.86100\n",
       "5 62.91827        2.35915 48.86648\n",
       "6 64.39284        2.33201 48.85891"
      ]
     },
     "metadata": {},
     "output_type": "display_data"
    },
    {
     "data": {
      "text/html": [
       "<table class=\"dataframe\">\n",
       "<caption>A tibble: 6 × 20</caption>\n",
       "<thead>\n",
       "\t<tr><th scope=col>...1</th><th scope=col>realSum</th><th scope=col>room_type</th><th scope=col>room_shared</th><th scope=col>room_private</th><th scope=col>person_capacity</th><th scope=col>host_is_superhost</th><th scope=col>multi</th><th scope=col>biz</th><th scope=col>cleanliness_rating</th><th scope=col>guest_satisfaction_overall</th><th scope=col>bedrooms</th><th scope=col>dist</th><th scope=col>metro_dist</th><th scope=col>attr_index</th><th scope=col>attr_index_norm</th><th scope=col>rest_index</th><th scope=col>rest_index_norm</th><th scope=col>lng</th><th scope=col>lat</th></tr>\n",
       "\t<tr><th scope=col>&lt;dbl&gt;</th><th scope=col>&lt;dbl&gt;</th><th scope=col>&lt;chr&gt;</th><th scope=col>&lt;lgl&gt;</th><th scope=col>&lt;lgl&gt;</th><th scope=col>&lt;dbl&gt;</th><th scope=col>&lt;lgl&gt;</th><th scope=col>&lt;dbl&gt;</th><th scope=col>&lt;dbl&gt;</th><th scope=col>&lt;dbl&gt;</th><th scope=col>&lt;dbl&gt;</th><th scope=col>&lt;dbl&gt;</th><th scope=col>&lt;dbl&gt;</th><th scope=col>&lt;dbl&gt;</th><th scope=col>&lt;dbl&gt;</th><th scope=col>&lt;dbl&gt;</th><th scope=col>&lt;dbl&gt;</th><th scope=col>&lt;dbl&gt;</th><th scope=col>&lt;dbl&gt;</th><th scope=col>&lt;dbl&gt;</th></tr>\n",
       "</thead>\n",
       "<tbody>\n",
       "\t<tr><td>0</td><td>536.3967</td><td>Entire home/apt</td><td>FALSE</td><td>FALSE</td><td>5</td><td>FALSE</td><td>0</td><td>1</td><td> 9</td><td> 89</td><td>1</td><td>1.3512012</td><td>0.21234554</td><td> 390.7768</td><td>19.00155</td><td>1030.7385</td><td>47.55037</td><td>2.35900</td><td>48.86800</td></tr>\n",
       "\t<tr><td>1</td><td>290.1016</td><td>Private room   </td><td>FALSE</td><td> TRUE</td><td>2</td><td> TRUE</td><td>0</td><td>0</td><td>10</td><td> 97</td><td>1</td><td>0.6998212</td><td>0.19371031</td><td> 518.4783</td><td>25.21104</td><td>1218.6589</td><td>56.21958</td><td>2.35385</td><td>48.86282</td></tr>\n",
       "\t<tr><td>2</td><td>445.7545</td><td>Entire home/apt</td><td>FALSE</td><td>FALSE</td><td>4</td><td>FALSE</td><td>0</td><td>1</td><td>10</td><td>100</td><td>1</td><td>0.9689817</td><td>0.29434293</td><td> 432.6899</td><td>21.03958</td><td>1069.8948</td><td>49.35674</td><td>2.36023</td><td>48.86375</td></tr>\n",
       "\t<tr><td>3</td><td>211.3431</td><td>Private room   </td><td>FALSE</td><td> TRUE</td><td>2</td><td>FALSE</td><td>0</td><td>0</td><td>10</td><td> 94</td><td>1</td><td>3.3023186</td><td>0.23473971</td><td> 444.5553</td><td>21.61653</td><td> 902.8564</td><td>41.65087</td><td>2.31714</td><td>48.87475</td></tr>\n",
       "\t<tr><td>4</td><td>266.3342</td><td>Entire home/apt</td><td>FALSE</td><td>FALSE</td><td>2</td><td> TRUE</td><td>0</td><td>0</td><td> 9</td><td> 88</td><td>1</td><td>1.4024298</td><td>0.05505193</td><td>1013.4587</td><td>49.27950</td><td>1348.0635</td><td>62.18931</td><td>2.33408</td><td>48.85384</td></tr>\n",
       "\t<tr><td>5</td><td>345.0927</td><td>Entire home/apt</td><td>FALSE</td><td>FALSE</td><td>2</td><td>FALSE</td><td>0</td><td>1</td><td> 9</td><td> 91</td><td>1</td><td>0.5475705</td><td>0.19600551</td><td> 542.1394</td><td>26.36157</td><td>1199.1796</td><td>55.32095</td><td>2.35600</td><td>48.86100</td></tr>\n",
       "</tbody>\n",
       "</table>\n"
      ],
      "text/latex": [
       "A tibble: 6 × 20\n",
       "\\begin{tabular}{llllllllllllllllllll}\n",
       " ...1 & realSum & room\\_type & room\\_shared & room\\_private & person\\_capacity & host\\_is\\_superhost & multi & biz & cleanliness\\_rating & guest\\_satisfaction\\_overall & bedrooms & dist & metro\\_dist & attr\\_index & attr\\_index\\_norm & rest\\_index & rest\\_index\\_norm & lng & lat\\\\\n",
       " <dbl> & <dbl> & <chr> & <lgl> & <lgl> & <dbl> & <lgl> & <dbl> & <dbl> & <dbl> & <dbl> & <dbl> & <dbl> & <dbl> & <dbl> & <dbl> & <dbl> & <dbl> & <dbl> & <dbl>\\\\\n",
       "\\hline\n",
       "\t 0 & 536.3967 & Entire home/apt & FALSE & FALSE & 5 & FALSE & 0 & 1 &  9 &  89 & 1 & 1.3512012 & 0.21234554 &  390.7768 & 19.00155 & 1030.7385 & 47.55037 & 2.35900 & 48.86800\\\\\n",
       "\t 1 & 290.1016 & Private room    & FALSE &  TRUE & 2 &  TRUE & 0 & 0 & 10 &  97 & 1 & 0.6998212 & 0.19371031 &  518.4783 & 25.21104 & 1218.6589 & 56.21958 & 2.35385 & 48.86282\\\\\n",
       "\t 2 & 445.7545 & Entire home/apt & FALSE & FALSE & 4 & FALSE & 0 & 1 & 10 & 100 & 1 & 0.9689817 & 0.29434293 &  432.6899 & 21.03958 & 1069.8948 & 49.35674 & 2.36023 & 48.86375\\\\\n",
       "\t 3 & 211.3431 & Private room    & FALSE &  TRUE & 2 & FALSE & 0 & 0 & 10 &  94 & 1 & 3.3023186 & 0.23473971 &  444.5553 & 21.61653 &  902.8564 & 41.65087 & 2.31714 & 48.87475\\\\\n",
       "\t 4 & 266.3342 & Entire home/apt & FALSE & FALSE & 2 &  TRUE & 0 & 0 &  9 &  88 & 1 & 1.4024298 & 0.05505193 & 1013.4587 & 49.27950 & 1348.0635 & 62.18931 & 2.33408 & 48.85384\\\\\n",
       "\t 5 & 345.0927 & Entire home/apt & FALSE & FALSE & 2 & FALSE & 0 & 1 &  9 &  91 & 1 & 0.5475705 & 0.19600551 &  542.1394 & 26.36157 & 1199.1796 & 55.32095 & 2.35600 & 48.86100\\\\\n",
       "\\end{tabular}\n"
      ],
      "text/markdown": [
       "\n",
       "A tibble: 6 × 20\n",
       "\n",
       "| ...1 &lt;dbl&gt; | realSum &lt;dbl&gt; | room_type &lt;chr&gt; | room_shared &lt;lgl&gt; | room_private &lt;lgl&gt; | person_capacity &lt;dbl&gt; | host_is_superhost &lt;lgl&gt; | multi &lt;dbl&gt; | biz &lt;dbl&gt; | cleanliness_rating &lt;dbl&gt; | guest_satisfaction_overall &lt;dbl&gt; | bedrooms &lt;dbl&gt; | dist &lt;dbl&gt; | metro_dist &lt;dbl&gt; | attr_index &lt;dbl&gt; | attr_index_norm &lt;dbl&gt; | rest_index &lt;dbl&gt; | rest_index_norm &lt;dbl&gt; | lng &lt;dbl&gt; | lat &lt;dbl&gt; |\n",
       "|---|---|---|---|---|---|---|---|---|---|---|---|---|---|---|---|---|---|---|---|\n",
       "| 0 | 536.3967 | Entire home/apt | FALSE | FALSE | 5 | FALSE | 0 | 1 |  9 |  89 | 1 | 1.3512012 | 0.21234554 |  390.7768 | 19.00155 | 1030.7385 | 47.55037 | 2.35900 | 48.86800 |\n",
       "| 1 | 290.1016 | Private room    | FALSE |  TRUE | 2 |  TRUE | 0 | 0 | 10 |  97 | 1 | 0.6998212 | 0.19371031 |  518.4783 | 25.21104 | 1218.6589 | 56.21958 | 2.35385 | 48.86282 |\n",
       "| 2 | 445.7545 | Entire home/apt | FALSE | FALSE | 4 | FALSE | 0 | 1 | 10 | 100 | 1 | 0.9689817 | 0.29434293 |  432.6899 | 21.03958 | 1069.8948 | 49.35674 | 2.36023 | 48.86375 |\n",
       "| 3 | 211.3431 | Private room    | FALSE |  TRUE | 2 | FALSE | 0 | 0 | 10 |  94 | 1 | 3.3023186 | 0.23473971 |  444.5553 | 21.61653 |  902.8564 | 41.65087 | 2.31714 | 48.87475 |\n",
       "| 4 | 266.3342 | Entire home/apt | FALSE | FALSE | 2 |  TRUE | 0 | 0 |  9 |  88 | 1 | 1.4024298 | 0.05505193 | 1013.4587 | 49.27950 | 1348.0635 | 62.18931 | 2.33408 | 48.85384 |\n",
       "| 5 | 345.0927 | Entire home/apt | FALSE | FALSE | 2 | FALSE | 0 | 1 |  9 |  91 | 1 | 0.5475705 | 0.19600551 |  542.1394 | 26.36157 | 1199.1796 | 55.32095 | 2.35600 | 48.86100 |\n",
       "\n"
      ],
      "text/plain": [
       "  ...1 realSum  room_type       room_shared room_private person_capacity\n",
       "1 0    536.3967 Entire home/apt FALSE       FALSE        5              \n",
       "2 1    290.1016 Private room    FALSE        TRUE        2              \n",
       "3 2    445.7545 Entire home/apt FALSE       FALSE        4              \n",
       "4 3    211.3431 Private room    FALSE        TRUE        2              \n",
       "5 4    266.3342 Entire home/apt FALSE       FALSE        2              \n",
       "6 5    345.0927 Entire home/apt FALSE       FALSE        2              \n",
       "  host_is_superhost multi biz cleanliness_rating guest_satisfaction_overall\n",
       "1 FALSE             0     1    9                  89                       \n",
       "2  TRUE             0     0   10                  97                       \n",
       "3 FALSE             0     1   10                 100                       \n",
       "4 FALSE             0     0   10                  94                       \n",
       "5  TRUE             0     0    9                  88                       \n",
       "6 FALSE             0     1    9                  91                       \n",
       "  bedrooms dist      metro_dist attr_index attr_index_norm rest_index\n",
       "1 1        1.3512012 0.21234554  390.7768  19.00155        1030.7385 \n",
       "2 1        0.6998212 0.19371031  518.4783  25.21104        1218.6589 \n",
       "3 1        0.9689817 0.29434293  432.6899  21.03958        1069.8948 \n",
       "4 1        3.3023186 0.23473971  444.5553  21.61653         902.8564 \n",
       "5 1        1.4024298 0.05505193 1013.4587  49.27950        1348.0635 \n",
       "6 1        0.5475705 0.19600551  542.1394  26.36157        1199.1796 \n",
       "  rest_index_norm lng     lat     \n",
       "1 47.55037        2.35900 48.86800\n",
       "2 56.21958        2.35385 48.86282\n",
       "3 49.35674        2.36023 48.86375\n",
       "4 41.65087        2.31714 48.87475\n",
       "5 62.18931        2.33408 48.85384\n",
       "6 55.32095        2.35600 48.86100"
      ]
     },
     "metadata": {},
     "output_type": "display_data"
    },
    {
     "data": {
      "text/html": [
       "<table class=\"dataframe\">\n",
       "<caption>A tibble: 6 × 20</caption>\n",
       "<thead>\n",
       "\t<tr><th scope=col>...1</th><th scope=col>realSum</th><th scope=col>room_type</th><th scope=col>room_shared</th><th scope=col>room_private</th><th scope=col>person_capacity</th><th scope=col>host_is_superhost</th><th scope=col>multi</th><th scope=col>biz</th><th scope=col>cleanliness_rating</th><th scope=col>guest_satisfaction_overall</th><th scope=col>bedrooms</th><th scope=col>dist</th><th scope=col>metro_dist</th><th scope=col>attr_index</th><th scope=col>attr_index_norm</th><th scope=col>rest_index</th><th scope=col>rest_index_norm</th><th scope=col>lng</th><th scope=col>lat</th></tr>\n",
       "\t<tr><th scope=col>&lt;dbl&gt;</th><th scope=col>&lt;dbl&gt;</th><th scope=col>&lt;chr&gt;</th><th scope=col>&lt;lgl&gt;</th><th scope=col>&lt;lgl&gt;</th><th scope=col>&lt;dbl&gt;</th><th scope=col>&lt;lgl&gt;</th><th scope=col>&lt;dbl&gt;</th><th scope=col>&lt;dbl&gt;</th><th scope=col>&lt;dbl&gt;</th><th scope=col>&lt;dbl&gt;</th><th scope=col>&lt;dbl&gt;</th><th scope=col>&lt;dbl&gt;</th><th scope=col>&lt;dbl&gt;</th><th scope=col>&lt;dbl&gt;</th><th scope=col>&lt;dbl&gt;</th><th scope=col>&lt;dbl&gt;</th><th scope=col>&lt;dbl&gt;</th><th scope=col>&lt;dbl&gt;</th><th scope=col>&lt;dbl&gt;</th></tr>\n",
       "</thead>\n",
       "<tbody>\n",
       "\t<tr><td>0</td><td>250.5668</td><td>Entire home/apt</td><td>FALSE</td><td>FALSE</td><td>3</td><td> TRUE</td><td>1</td><td>0</td><td>10</td><td>99</td><td>1</td><td>1.732893</td><td>0.2126271</td><td>118.64683</td><td>8.496979</td><td>185.09672</td><td>4.424871</td><td>16.36500</td><td>48.22300</td></tr>\n",
       "\t<tr><td>1</td><td>156.6043</td><td>Entire home/apt</td><td>FALSE</td><td>FALSE</td><td>3</td><td>FALSE</td><td>0</td><td>0</td><td>10</td><td>97</td><td>1</td><td>4.807912</td><td>0.2282531</td><td> 80.14502</td><td>5.739643</td><td> 85.72760</td><td>2.049380</td><td>16.33356</td><td>48.17459</td></tr>\n",
       "\t<tr><td>2</td><td>283.0564</td><td>Entire home/apt</td><td>FALSE</td><td>FALSE</td><td>5</td><td> TRUE</td><td>0</td><td>1</td><td>10</td><td>95</td><td>2</td><td>2.811773</td><td>0.2441629</td><td>101.24811</td><td>7.250957</td><td>151.36429</td><td>3.618473</td><td>16.33600</td><td>48.21100</td></tr>\n",
       "\t<tr><td>3</td><td>301.7554</td><td>Entire home/apt</td><td>FALSE</td><td>FALSE</td><td>4</td><td> TRUE</td><td>0</td><td>1</td><td>10</td><td>94</td><td>2</td><td>3.240595</td><td>0.6104299</td><td> 92.47394</td><td>6.622588</td><td>129.86383</td><td>3.104489</td><td>16.33006</td><td>48.20921</td></tr>\n",
       "\t<tr><td>4</td><td>150.7608</td><td>Entire home/apt</td><td>FALSE</td><td>FALSE</td><td>2</td><td> TRUE</td><td>0</td><td>1</td><td>10</td><td>96</td><td>1</td><td>2.241146</td><td>1.1195067</td><td>124.25677</td><td>8.898738</td><td>154.34897</td><td>3.689824</td><td>16.38867</td><td>48.19104</td></tr>\n",
       "\t<tr><td>5</td><td>162.4477</td><td>Private room   </td><td>FALSE</td><td> TRUE</td><td>2</td><td> TRUE</td><td>1</td><td>0</td><td>10</td><td>99</td><td>1</td><td>4.611961</td><td>0.1999263</td><td> 52.07794</td><td>3.729599</td><td> 75.51554</td><td>1.805254</td><td>16.39755</td><td>48.24682</td></tr>\n",
       "</tbody>\n",
       "</table>\n"
      ],
      "text/latex": [
       "A tibble: 6 × 20\n",
       "\\begin{tabular}{llllllllllllllllllll}\n",
       " ...1 & realSum & room\\_type & room\\_shared & room\\_private & person\\_capacity & host\\_is\\_superhost & multi & biz & cleanliness\\_rating & guest\\_satisfaction\\_overall & bedrooms & dist & metro\\_dist & attr\\_index & attr\\_index\\_norm & rest\\_index & rest\\_index\\_norm & lng & lat\\\\\n",
       " <dbl> & <dbl> & <chr> & <lgl> & <lgl> & <dbl> & <lgl> & <dbl> & <dbl> & <dbl> & <dbl> & <dbl> & <dbl> & <dbl> & <dbl> & <dbl> & <dbl> & <dbl> & <dbl> & <dbl>\\\\\n",
       "\\hline\n",
       "\t 0 & 250.5668 & Entire home/apt & FALSE & FALSE & 3 &  TRUE & 1 & 0 & 10 & 99 & 1 & 1.732893 & 0.2126271 & 118.64683 & 8.496979 & 185.09672 & 4.424871 & 16.36500 & 48.22300\\\\\n",
       "\t 1 & 156.6043 & Entire home/apt & FALSE & FALSE & 3 & FALSE & 0 & 0 & 10 & 97 & 1 & 4.807912 & 0.2282531 &  80.14502 & 5.739643 &  85.72760 & 2.049380 & 16.33356 & 48.17459\\\\\n",
       "\t 2 & 283.0564 & Entire home/apt & FALSE & FALSE & 5 &  TRUE & 0 & 1 & 10 & 95 & 2 & 2.811773 & 0.2441629 & 101.24811 & 7.250957 & 151.36429 & 3.618473 & 16.33600 & 48.21100\\\\\n",
       "\t 3 & 301.7554 & Entire home/apt & FALSE & FALSE & 4 &  TRUE & 0 & 1 & 10 & 94 & 2 & 3.240595 & 0.6104299 &  92.47394 & 6.622588 & 129.86383 & 3.104489 & 16.33006 & 48.20921\\\\\n",
       "\t 4 & 150.7608 & Entire home/apt & FALSE & FALSE & 2 &  TRUE & 0 & 1 & 10 & 96 & 1 & 2.241146 & 1.1195067 & 124.25677 & 8.898738 & 154.34897 & 3.689824 & 16.38867 & 48.19104\\\\\n",
       "\t 5 & 162.4477 & Private room    & FALSE &  TRUE & 2 &  TRUE & 1 & 0 & 10 & 99 & 1 & 4.611961 & 0.1999263 &  52.07794 & 3.729599 &  75.51554 & 1.805254 & 16.39755 & 48.24682\\\\\n",
       "\\end{tabular}\n"
      ],
      "text/markdown": [
       "\n",
       "A tibble: 6 × 20\n",
       "\n",
       "| ...1 &lt;dbl&gt; | realSum &lt;dbl&gt; | room_type &lt;chr&gt; | room_shared &lt;lgl&gt; | room_private &lt;lgl&gt; | person_capacity &lt;dbl&gt; | host_is_superhost &lt;lgl&gt; | multi &lt;dbl&gt; | biz &lt;dbl&gt; | cleanliness_rating &lt;dbl&gt; | guest_satisfaction_overall &lt;dbl&gt; | bedrooms &lt;dbl&gt; | dist &lt;dbl&gt; | metro_dist &lt;dbl&gt; | attr_index &lt;dbl&gt; | attr_index_norm &lt;dbl&gt; | rest_index &lt;dbl&gt; | rest_index_norm &lt;dbl&gt; | lng &lt;dbl&gt; | lat &lt;dbl&gt; |\n",
       "|---|---|---|---|---|---|---|---|---|---|---|---|---|---|---|---|---|---|---|---|\n",
       "| 0 | 250.5668 | Entire home/apt | FALSE | FALSE | 3 |  TRUE | 1 | 0 | 10 | 99 | 1 | 1.732893 | 0.2126271 | 118.64683 | 8.496979 | 185.09672 | 4.424871 | 16.36500 | 48.22300 |\n",
       "| 1 | 156.6043 | Entire home/apt | FALSE | FALSE | 3 | FALSE | 0 | 0 | 10 | 97 | 1 | 4.807912 | 0.2282531 |  80.14502 | 5.739643 |  85.72760 | 2.049380 | 16.33356 | 48.17459 |\n",
       "| 2 | 283.0564 | Entire home/apt | FALSE | FALSE | 5 |  TRUE | 0 | 1 | 10 | 95 | 2 | 2.811773 | 0.2441629 | 101.24811 | 7.250957 | 151.36429 | 3.618473 | 16.33600 | 48.21100 |\n",
       "| 3 | 301.7554 | Entire home/apt | FALSE | FALSE | 4 |  TRUE | 0 | 1 | 10 | 94 | 2 | 3.240595 | 0.6104299 |  92.47394 | 6.622588 | 129.86383 | 3.104489 | 16.33006 | 48.20921 |\n",
       "| 4 | 150.7608 | Entire home/apt | FALSE | FALSE | 2 |  TRUE | 0 | 1 | 10 | 96 | 1 | 2.241146 | 1.1195067 | 124.25677 | 8.898738 | 154.34897 | 3.689824 | 16.38867 | 48.19104 |\n",
       "| 5 | 162.4477 | Private room    | FALSE |  TRUE | 2 |  TRUE | 1 | 0 | 10 | 99 | 1 | 4.611961 | 0.1999263 |  52.07794 | 3.729599 |  75.51554 | 1.805254 | 16.39755 | 48.24682 |\n",
       "\n"
      ],
      "text/plain": [
       "  ...1 realSum  room_type       room_shared room_private person_capacity\n",
       "1 0    250.5668 Entire home/apt FALSE       FALSE        3              \n",
       "2 1    156.6043 Entire home/apt FALSE       FALSE        3              \n",
       "3 2    283.0564 Entire home/apt FALSE       FALSE        5              \n",
       "4 3    301.7554 Entire home/apt FALSE       FALSE        4              \n",
       "5 4    150.7608 Entire home/apt FALSE       FALSE        2              \n",
       "6 5    162.4477 Private room    FALSE        TRUE        2              \n",
       "  host_is_superhost multi biz cleanliness_rating guest_satisfaction_overall\n",
       "1  TRUE             1     0   10                 99                        \n",
       "2 FALSE             0     0   10                 97                        \n",
       "3  TRUE             0     1   10                 95                        \n",
       "4  TRUE             0     1   10                 94                        \n",
       "5  TRUE             0     1   10                 96                        \n",
       "6  TRUE             1     0   10                 99                        \n",
       "  bedrooms dist     metro_dist attr_index attr_index_norm rest_index\n",
       "1 1        1.732893 0.2126271  118.64683  8.496979        185.09672 \n",
       "2 1        4.807912 0.2282531   80.14502  5.739643         85.72760 \n",
       "3 2        2.811773 0.2441629  101.24811  7.250957        151.36429 \n",
       "4 2        3.240595 0.6104299   92.47394  6.622588        129.86383 \n",
       "5 1        2.241146 1.1195067  124.25677  8.898738        154.34897 \n",
       "6 1        4.611961 0.1999263   52.07794  3.729599         75.51554 \n",
       "  rest_index_norm lng      lat     \n",
       "1 4.424871        16.36500 48.22300\n",
       "2 2.049380        16.33356 48.17459\n",
       "3 3.618473        16.33600 48.21100\n",
       "4 3.104489        16.33006 48.20921\n",
       "5 3.689824        16.38867 48.19104\n",
       "6 1.805254        16.39755 48.24682"
      ]
     },
     "metadata": {},
     "output_type": "display_data"
    },
    {
     "data": {
      "text/html": [
       "<table class=\"dataframe\">\n",
       "<caption>A tibble: 6 × 20</caption>\n",
       "<thead>\n",
       "\t<tr><th scope=col>...1</th><th scope=col>realSum</th><th scope=col>room_type</th><th scope=col>room_shared</th><th scope=col>room_private</th><th scope=col>person_capacity</th><th scope=col>host_is_superhost</th><th scope=col>multi</th><th scope=col>biz</th><th scope=col>cleanliness_rating</th><th scope=col>guest_satisfaction_overall</th><th scope=col>bedrooms</th><th scope=col>dist</th><th scope=col>metro_dist</th><th scope=col>attr_index</th><th scope=col>attr_index_norm</th><th scope=col>rest_index</th><th scope=col>rest_index_norm</th><th scope=col>lng</th><th scope=col>lat</th></tr>\n",
       "\t<tr><th scope=col>&lt;dbl&gt;</th><th scope=col>&lt;dbl&gt;</th><th scope=col>&lt;chr&gt;</th><th scope=col>&lt;lgl&gt;</th><th scope=col>&lt;lgl&gt;</th><th scope=col>&lt;dbl&gt;</th><th scope=col>&lt;lgl&gt;</th><th scope=col>&lt;dbl&gt;</th><th scope=col>&lt;dbl&gt;</th><th scope=col>&lt;dbl&gt;</th><th scope=col>&lt;dbl&gt;</th><th scope=col>&lt;dbl&gt;</th><th scope=col>&lt;dbl&gt;</th><th scope=col>&lt;dbl&gt;</th><th scope=col>&lt;dbl&gt;</th><th scope=col>&lt;dbl&gt;</th><th scope=col>&lt;dbl&gt;</th><th scope=col>&lt;dbl&gt;</th><th scope=col>&lt;dbl&gt;</th><th scope=col>&lt;dbl&gt;</th></tr>\n",
       "</thead>\n",
       "<tbody>\n",
       "\t<tr><td>0</td><td>324.6617</td><td>Entire home/apt</td><td>FALSE</td><td>FALSE</td><td>4</td><td> TRUE</td><td>0</td><td>1</td><td>10</td><td>94</td><td>2</td><td>3.240613</td><td>0.6104498</td><td> 92.47347</td><td> 6.622340</td><td>129.86288</td><td>3.138736</td><td>16.33006</td><td>48.20921</td></tr>\n",
       "\t<tr><td>1</td><td>150.7608</td><td>Entire home/apt</td><td>FALSE</td><td>FALSE</td><td>2</td><td> TRUE</td><td>0</td><td>1</td><td>10</td><td>96</td><td>1</td><td>2.241126</td><td>1.1195048</td><td>124.25800</td><td> 8.898538</td><td>154.35032</td><td>3.730588</td><td>16.38867</td><td>48.19104</td></tr>\n",
       "\t<tr><td>2</td><td>196.3397</td><td>Entire home/apt</td><td>FALSE</td><td>FALSE</td><td>3</td><td> TRUE</td><td>0</td><td>1</td><td> 9</td><td>91</td><td>1</td><td>2.371551</td><td>0.4524187</td><td>125.41313</td><td> 8.981261</td><td>206.64249</td><td>4.994469</td><td>16.34236</td><td>48.20436</td></tr>\n",
       "\t<tr><td>3</td><td>107.7531</td><td>Private room   </td><td>FALSE</td><td> TRUE</td><td>2</td><td>FALSE</td><td>0</td><td>0</td><td> 8</td><td>92</td><td>1</td><td>3.629114</td><td>0.4731637</td><td> 62.45942</td><td> 4.472931</td><td> 93.81071</td><td>2.267369</td><td>16.37837</td><td>48.24102</td></tr>\n",
       "\t<tr><td>4</td><td>196.3397</td><td>Entire home/apt</td><td>FALSE</td><td>FALSE</td><td>4</td><td> TRUE</td><td>0</td><td>1</td><td> 9</td><td>94</td><td>1</td><td>2.395063</td><td>0.4436346</td><td>124.02036</td><td> 8.881520</td><td>202.31807</td><td>4.889950</td><td>16.34198</td><td>48.20456</td></tr>\n",
       "\t<tr><td>5</td><td>212.2338</td><td>Entire home/apt</td><td>FALSE</td><td>FALSE</td><td>2</td><td> TRUE</td><td>1</td><td>0</td><td>10</td><td>97</td><td>1</td><td>2.011143</td><td>0.6790809</td><td>145.34915</td><td>10.408947</td><td>237.98831</td><td>5.752086</td><td>16.34682</td><td>48.20620</td></tr>\n",
       "</tbody>\n",
       "</table>\n"
      ],
      "text/latex": [
       "A tibble: 6 × 20\n",
       "\\begin{tabular}{llllllllllllllllllll}\n",
       " ...1 & realSum & room\\_type & room\\_shared & room\\_private & person\\_capacity & host\\_is\\_superhost & multi & biz & cleanliness\\_rating & guest\\_satisfaction\\_overall & bedrooms & dist & metro\\_dist & attr\\_index & attr\\_index\\_norm & rest\\_index & rest\\_index\\_norm & lng & lat\\\\\n",
       " <dbl> & <dbl> & <chr> & <lgl> & <lgl> & <dbl> & <lgl> & <dbl> & <dbl> & <dbl> & <dbl> & <dbl> & <dbl> & <dbl> & <dbl> & <dbl> & <dbl> & <dbl> & <dbl> & <dbl>\\\\\n",
       "\\hline\n",
       "\t 0 & 324.6617 & Entire home/apt & FALSE & FALSE & 4 &  TRUE & 0 & 1 & 10 & 94 & 2 & 3.240613 & 0.6104498 &  92.47347 &  6.622340 & 129.86288 & 3.138736 & 16.33006 & 48.20921\\\\\n",
       "\t 1 & 150.7608 & Entire home/apt & FALSE & FALSE & 2 &  TRUE & 0 & 1 & 10 & 96 & 1 & 2.241126 & 1.1195048 & 124.25800 &  8.898538 & 154.35032 & 3.730588 & 16.38867 & 48.19104\\\\\n",
       "\t 2 & 196.3397 & Entire home/apt & FALSE & FALSE & 3 &  TRUE & 0 & 1 &  9 & 91 & 1 & 2.371551 & 0.4524187 & 125.41313 &  8.981261 & 206.64249 & 4.994469 & 16.34236 & 48.20436\\\\\n",
       "\t 3 & 107.7531 & Private room    & FALSE &  TRUE & 2 & FALSE & 0 & 0 &  8 & 92 & 1 & 3.629114 & 0.4731637 &  62.45942 &  4.472931 &  93.81071 & 2.267369 & 16.37837 & 48.24102\\\\\n",
       "\t 4 & 196.3397 & Entire home/apt & FALSE & FALSE & 4 &  TRUE & 0 & 1 &  9 & 94 & 1 & 2.395063 & 0.4436346 & 124.02036 &  8.881520 & 202.31807 & 4.889950 & 16.34198 & 48.20456\\\\\n",
       "\t 5 & 212.2338 & Entire home/apt & FALSE & FALSE & 2 &  TRUE & 1 & 0 & 10 & 97 & 1 & 2.011143 & 0.6790809 & 145.34915 & 10.408947 & 237.98831 & 5.752086 & 16.34682 & 48.20620\\\\\n",
       "\\end{tabular}\n"
      ],
      "text/markdown": [
       "\n",
       "A tibble: 6 × 20\n",
       "\n",
       "| ...1 &lt;dbl&gt; | realSum &lt;dbl&gt; | room_type &lt;chr&gt; | room_shared &lt;lgl&gt; | room_private &lt;lgl&gt; | person_capacity &lt;dbl&gt; | host_is_superhost &lt;lgl&gt; | multi &lt;dbl&gt; | biz &lt;dbl&gt; | cleanliness_rating &lt;dbl&gt; | guest_satisfaction_overall &lt;dbl&gt; | bedrooms &lt;dbl&gt; | dist &lt;dbl&gt; | metro_dist &lt;dbl&gt; | attr_index &lt;dbl&gt; | attr_index_norm &lt;dbl&gt; | rest_index &lt;dbl&gt; | rest_index_norm &lt;dbl&gt; | lng &lt;dbl&gt; | lat &lt;dbl&gt; |\n",
       "|---|---|---|---|---|---|---|---|---|---|---|---|---|---|---|---|---|---|---|---|\n",
       "| 0 | 324.6617 | Entire home/apt | FALSE | FALSE | 4 |  TRUE | 0 | 1 | 10 | 94 | 2 | 3.240613 | 0.6104498 |  92.47347 |  6.622340 | 129.86288 | 3.138736 | 16.33006 | 48.20921 |\n",
       "| 1 | 150.7608 | Entire home/apt | FALSE | FALSE | 2 |  TRUE | 0 | 1 | 10 | 96 | 1 | 2.241126 | 1.1195048 | 124.25800 |  8.898538 | 154.35032 | 3.730588 | 16.38867 | 48.19104 |\n",
       "| 2 | 196.3397 | Entire home/apt | FALSE | FALSE | 3 |  TRUE | 0 | 1 |  9 | 91 | 1 | 2.371551 | 0.4524187 | 125.41313 |  8.981261 | 206.64249 | 4.994469 | 16.34236 | 48.20436 |\n",
       "| 3 | 107.7531 | Private room    | FALSE |  TRUE | 2 | FALSE | 0 | 0 |  8 | 92 | 1 | 3.629114 | 0.4731637 |  62.45942 |  4.472931 |  93.81071 | 2.267369 | 16.37837 | 48.24102 |\n",
       "| 4 | 196.3397 | Entire home/apt | FALSE | FALSE | 4 |  TRUE | 0 | 1 |  9 | 94 | 1 | 2.395063 | 0.4436346 | 124.02036 |  8.881520 | 202.31807 | 4.889950 | 16.34198 | 48.20456 |\n",
       "| 5 | 212.2338 | Entire home/apt | FALSE | FALSE | 2 |  TRUE | 1 | 0 | 10 | 97 | 1 | 2.011143 | 0.6790809 | 145.34915 | 10.408947 | 237.98831 | 5.752086 | 16.34682 | 48.20620 |\n",
       "\n"
      ],
      "text/plain": [
       "  ...1 realSum  room_type       room_shared room_private person_capacity\n",
       "1 0    324.6617 Entire home/apt FALSE       FALSE        4              \n",
       "2 1    150.7608 Entire home/apt FALSE       FALSE        2              \n",
       "3 2    196.3397 Entire home/apt FALSE       FALSE        3              \n",
       "4 3    107.7531 Private room    FALSE        TRUE        2              \n",
       "5 4    196.3397 Entire home/apt FALSE       FALSE        4              \n",
       "6 5    212.2338 Entire home/apt FALSE       FALSE        2              \n",
       "  host_is_superhost multi biz cleanliness_rating guest_satisfaction_overall\n",
       "1  TRUE             0     1   10                 94                        \n",
       "2  TRUE             0     1   10                 96                        \n",
       "3  TRUE             0     1    9                 91                        \n",
       "4 FALSE             0     0    8                 92                        \n",
       "5  TRUE             0     1    9                 94                        \n",
       "6  TRUE             1     0   10                 97                        \n",
       "  bedrooms dist     metro_dist attr_index attr_index_norm rest_index\n",
       "1 2        3.240613 0.6104498   92.47347   6.622340       129.86288 \n",
       "2 1        2.241126 1.1195048  124.25800   8.898538       154.35032 \n",
       "3 1        2.371551 0.4524187  125.41313   8.981261       206.64249 \n",
       "4 1        3.629114 0.4731637   62.45942   4.472931        93.81071 \n",
       "5 1        2.395063 0.4436346  124.02036   8.881520       202.31807 \n",
       "6 1        2.011143 0.6790809  145.34915  10.408947       237.98831 \n",
       "  rest_index_norm lng      lat     \n",
       "1 3.138736        16.33006 48.20921\n",
       "2 3.730588        16.38867 48.19104\n",
       "3 4.994469        16.34236 48.20436\n",
       "4 2.267369        16.37837 48.24102\n",
       "5 4.889950        16.34198 48.20456\n",
       "6 5.752086        16.34682 48.20620"
      ]
     },
     "metadata": {},
     "output_type": "display_data"
    },
    {
     "data": {
      "text/html": [
       "<table class=\"dataframe\">\n",
       "<caption>A tibble: 6 × 20</caption>\n",
       "<thead>\n",
       "\t<tr><th scope=col>...1</th><th scope=col>realSum</th><th scope=col>room_type</th><th scope=col>room_shared</th><th scope=col>room_private</th><th scope=col>person_capacity</th><th scope=col>host_is_superhost</th><th scope=col>multi</th><th scope=col>biz</th><th scope=col>cleanliness_rating</th><th scope=col>guest_satisfaction_overall</th><th scope=col>bedrooms</th><th scope=col>dist</th><th scope=col>metro_dist</th><th scope=col>attr_index</th><th scope=col>attr_index_norm</th><th scope=col>rest_index</th><th scope=col>rest_index_norm</th><th scope=col>lng</th><th scope=col>lat</th></tr>\n",
       "\t<tr><th scope=col>&lt;dbl&gt;</th><th scope=col>&lt;dbl&gt;</th><th scope=col>&lt;chr&gt;</th><th scope=col>&lt;lgl&gt;</th><th scope=col>&lt;lgl&gt;</th><th scope=col>&lt;dbl&gt;</th><th scope=col>&lt;lgl&gt;</th><th scope=col>&lt;dbl&gt;</th><th scope=col>&lt;dbl&gt;</th><th scope=col>&lt;dbl&gt;</th><th scope=col>&lt;dbl&gt;</th><th scope=col>&lt;dbl&gt;</th><th scope=col>&lt;dbl&gt;</th><th scope=col>&lt;dbl&gt;</th><th scope=col>&lt;dbl&gt;</th><th scope=col>&lt;dbl&gt;</th><th scope=col>&lt;dbl&gt;</th><th scope=col>&lt;dbl&gt;</th><th scope=col>&lt;dbl&gt;</th><th scope=col>&lt;dbl&gt;</th></tr>\n",
       "</thead>\n",
       "<tbody>\n",
       "\t<tr><td>0</td><td>474.3175</td><td>Entire home/apt</td><td>FALSE</td><td>FALSE</td><td>4</td><td>FALSE</td><td>0</td><td>1</td><td>10</td><td> 91</td><td>1</td><td>1.111996</td><td>0.63049095</td><td>526.4694</td><td>17.94293</td><td>915.5871</td><td>20.15489</td><td>2.17556</td><td>41.39624</td></tr>\n",
       "\t<tr><td>1</td><td>169.8978</td><td>Private room   </td><td>FALSE</td><td> TRUE</td><td>2</td><td> TRUE</td><td>1</td><td>0</td><td>10</td><td> 88</td><td>1</td><td>1.751839</td><td>0.12401717</td><td>320.1275</td><td>10.91046</td><td>794.2774</td><td>17.48449</td><td>2.14906</td><td>41.38714</td></tr>\n",
       "\t<tr><td>2</td><td>161.9848</td><td>Private room   </td><td>FALSE</td><td> TRUE</td><td>4</td><td>FALSE</td><td>0</td><td>1</td><td> 9</td><td> 88</td><td>1</td><td>1.670493</td><td>0.08032198</td><td>344.0739</td><td>11.72659</td><td>840.6736</td><td>18.50581</td><td>2.15357</td><td>41.37859</td></tr>\n",
       "\t<tr><td>3</td><td>367.9568</td><td>Entire home/apt</td><td>FALSE</td><td>FALSE</td><td>3</td><td>FALSE</td><td>0</td><td>1</td><td>10</td><td> 91</td><td>1</td><td>1.475847</td><td>0.09310686</td><td>400.0574</td><td>13.63460</td><td>946.5899</td><td>20.83736</td><td>2.16839</td><td>41.37390</td></tr>\n",
       "\t<tr><td>4</td><td>196.8953</td><td>Private room   </td><td>FALSE</td><td> TRUE</td><td>3</td><td>FALSE</td><td>1</td><td>0</td><td> 9</td><td> 91</td><td>1</td><td>1.855452</td><td>0.27248605</td><td>346.0422</td><td>11.79368</td><td>792.2960</td><td>17.44087</td><td>2.15238</td><td>41.37699</td></tr>\n",
       "\t<tr><td>5</td><td>330.9517</td><td>Entire home/apt</td><td>FALSE</td><td>FALSE</td><td>3</td><td>FALSE</td><td>0</td><td>1</td><td> 9</td><td>100</td><td>2</td><td>2.565611</td><td>0.70129045</td><td>391.0874</td><td>13.32889</td><td>525.5139</td><td>11.56818</td><td>2.18197</td><td>41.40842</td></tr>\n",
       "</tbody>\n",
       "</table>\n"
      ],
      "text/latex": [
       "A tibble: 6 × 20\n",
       "\\begin{tabular}{llllllllllllllllllll}\n",
       " ...1 & realSum & room\\_type & room\\_shared & room\\_private & person\\_capacity & host\\_is\\_superhost & multi & biz & cleanliness\\_rating & guest\\_satisfaction\\_overall & bedrooms & dist & metro\\_dist & attr\\_index & attr\\_index\\_norm & rest\\_index & rest\\_index\\_norm & lng & lat\\\\\n",
       " <dbl> & <dbl> & <chr> & <lgl> & <lgl> & <dbl> & <lgl> & <dbl> & <dbl> & <dbl> & <dbl> & <dbl> & <dbl> & <dbl> & <dbl> & <dbl> & <dbl> & <dbl> & <dbl> & <dbl>\\\\\n",
       "\\hline\n",
       "\t 0 & 474.3175 & Entire home/apt & FALSE & FALSE & 4 & FALSE & 0 & 1 & 10 &  91 & 1 & 1.111996 & 0.63049095 & 526.4694 & 17.94293 & 915.5871 & 20.15489 & 2.17556 & 41.39624\\\\\n",
       "\t 1 & 169.8978 & Private room    & FALSE &  TRUE & 2 &  TRUE & 1 & 0 & 10 &  88 & 1 & 1.751839 & 0.12401717 & 320.1275 & 10.91046 & 794.2774 & 17.48449 & 2.14906 & 41.38714\\\\\n",
       "\t 2 & 161.9848 & Private room    & FALSE &  TRUE & 4 & FALSE & 0 & 1 &  9 &  88 & 1 & 1.670493 & 0.08032198 & 344.0739 & 11.72659 & 840.6736 & 18.50581 & 2.15357 & 41.37859\\\\\n",
       "\t 3 & 367.9568 & Entire home/apt & FALSE & FALSE & 3 & FALSE & 0 & 1 & 10 &  91 & 1 & 1.475847 & 0.09310686 & 400.0574 & 13.63460 & 946.5899 & 20.83736 & 2.16839 & 41.37390\\\\\n",
       "\t 4 & 196.8953 & Private room    & FALSE &  TRUE & 3 & FALSE & 1 & 0 &  9 &  91 & 1 & 1.855452 & 0.27248605 & 346.0422 & 11.79368 & 792.2960 & 17.44087 & 2.15238 & 41.37699\\\\\n",
       "\t 5 & 330.9517 & Entire home/apt & FALSE & FALSE & 3 & FALSE & 0 & 1 &  9 & 100 & 2 & 2.565611 & 0.70129045 & 391.0874 & 13.32889 & 525.5139 & 11.56818 & 2.18197 & 41.40842\\\\\n",
       "\\end{tabular}\n"
      ],
      "text/markdown": [
       "\n",
       "A tibble: 6 × 20\n",
       "\n",
       "| ...1 &lt;dbl&gt; | realSum &lt;dbl&gt; | room_type &lt;chr&gt; | room_shared &lt;lgl&gt; | room_private &lt;lgl&gt; | person_capacity &lt;dbl&gt; | host_is_superhost &lt;lgl&gt; | multi &lt;dbl&gt; | biz &lt;dbl&gt; | cleanliness_rating &lt;dbl&gt; | guest_satisfaction_overall &lt;dbl&gt; | bedrooms &lt;dbl&gt; | dist &lt;dbl&gt; | metro_dist &lt;dbl&gt; | attr_index &lt;dbl&gt; | attr_index_norm &lt;dbl&gt; | rest_index &lt;dbl&gt; | rest_index_norm &lt;dbl&gt; | lng &lt;dbl&gt; | lat &lt;dbl&gt; |\n",
       "|---|---|---|---|---|---|---|---|---|---|---|---|---|---|---|---|---|---|---|---|\n",
       "| 0 | 474.3175 | Entire home/apt | FALSE | FALSE | 4 | FALSE | 0 | 1 | 10 |  91 | 1 | 1.111996 | 0.63049095 | 526.4694 | 17.94293 | 915.5871 | 20.15489 | 2.17556 | 41.39624 |\n",
       "| 1 | 169.8978 | Private room    | FALSE |  TRUE | 2 |  TRUE | 1 | 0 | 10 |  88 | 1 | 1.751839 | 0.12401717 | 320.1275 | 10.91046 | 794.2774 | 17.48449 | 2.14906 | 41.38714 |\n",
       "| 2 | 161.9848 | Private room    | FALSE |  TRUE | 4 | FALSE | 0 | 1 |  9 |  88 | 1 | 1.670493 | 0.08032198 | 344.0739 | 11.72659 | 840.6736 | 18.50581 | 2.15357 | 41.37859 |\n",
       "| 3 | 367.9568 | Entire home/apt | FALSE | FALSE | 3 | FALSE | 0 | 1 | 10 |  91 | 1 | 1.475847 | 0.09310686 | 400.0574 | 13.63460 | 946.5899 | 20.83736 | 2.16839 | 41.37390 |\n",
       "| 4 | 196.8953 | Private room    | FALSE |  TRUE | 3 | FALSE | 1 | 0 |  9 |  91 | 1 | 1.855452 | 0.27248605 | 346.0422 | 11.79368 | 792.2960 | 17.44087 | 2.15238 | 41.37699 |\n",
       "| 5 | 330.9517 | Entire home/apt | FALSE | FALSE | 3 | FALSE | 0 | 1 |  9 | 100 | 2 | 2.565611 | 0.70129045 | 391.0874 | 13.32889 | 525.5139 | 11.56818 | 2.18197 | 41.40842 |\n",
       "\n"
      ],
      "text/plain": [
       "  ...1 realSum  room_type       room_shared room_private person_capacity\n",
       "1 0    474.3175 Entire home/apt FALSE       FALSE        4              \n",
       "2 1    169.8978 Private room    FALSE        TRUE        2              \n",
       "3 2    161.9848 Private room    FALSE        TRUE        4              \n",
       "4 3    367.9568 Entire home/apt FALSE       FALSE        3              \n",
       "5 4    196.8953 Private room    FALSE        TRUE        3              \n",
       "6 5    330.9517 Entire home/apt FALSE       FALSE        3              \n",
       "  host_is_superhost multi biz cleanliness_rating guest_satisfaction_overall\n",
       "1 FALSE             0     1   10                  91                       \n",
       "2  TRUE             1     0   10                  88                       \n",
       "3 FALSE             0     1    9                  88                       \n",
       "4 FALSE             0     1   10                  91                       \n",
       "5 FALSE             1     0    9                  91                       \n",
       "6 FALSE             0     1    9                 100                       \n",
       "  bedrooms dist     metro_dist attr_index attr_index_norm rest_index\n",
       "1 1        1.111996 0.63049095 526.4694   17.94293        915.5871  \n",
       "2 1        1.751839 0.12401717 320.1275   10.91046        794.2774  \n",
       "3 1        1.670493 0.08032198 344.0739   11.72659        840.6736  \n",
       "4 1        1.475847 0.09310686 400.0574   13.63460        946.5899  \n",
       "5 1        1.855452 0.27248605 346.0422   11.79368        792.2960  \n",
       "6 2        2.565611 0.70129045 391.0874   13.32889        525.5139  \n",
       "  rest_index_norm lng     lat     \n",
       "1 20.15489        2.17556 41.39624\n",
       "2 17.48449        2.14906 41.38714\n",
       "3 18.50581        2.15357 41.37859\n",
       "4 20.83736        2.16839 41.37390\n",
       "5 17.44087        2.15238 41.37699\n",
       "6 11.56818        2.18197 41.40842"
      ]
     },
     "metadata": {},
     "output_type": "display_data"
    },
    {
     "data": {
      "text/html": [
       "<table class=\"dataframe\">\n",
       "<caption>A tibble: 6 × 20</caption>\n",
       "<thead>\n",
       "\t<tr><th scope=col>...1</th><th scope=col>realSum</th><th scope=col>room_type</th><th scope=col>room_shared</th><th scope=col>room_private</th><th scope=col>person_capacity</th><th scope=col>host_is_superhost</th><th scope=col>multi</th><th scope=col>biz</th><th scope=col>cleanliness_rating</th><th scope=col>guest_satisfaction_overall</th><th scope=col>bedrooms</th><th scope=col>dist</th><th scope=col>metro_dist</th><th scope=col>attr_index</th><th scope=col>attr_index_norm</th><th scope=col>rest_index</th><th scope=col>rest_index_norm</th><th scope=col>lng</th><th scope=col>lat</th></tr>\n",
       "\t<tr><th scope=col>&lt;dbl&gt;</th><th scope=col>&lt;dbl&gt;</th><th scope=col>&lt;chr&gt;</th><th scope=col>&lt;lgl&gt;</th><th scope=col>&lt;lgl&gt;</th><th scope=col>&lt;dbl&gt;</th><th scope=col>&lt;lgl&gt;</th><th scope=col>&lt;dbl&gt;</th><th scope=col>&lt;dbl&gt;</th><th scope=col>&lt;dbl&gt;</th><th scope=col>&lt;dbl&gt;</th><th scope=col>&lt;dbl&gt;</th><th scope=col>&lt;dbl&gt;</th><th scope=col>&lt;dbl&gt;</th><th scope=col>&lt;dbl&gt;</th><th scope=col>&lt;dbl&gt;</th><th scope=col>&lt;dbl&gt;</th><th scope=col>&lt;dbl&gt;</th><th scope=col>&lt;dbl&gt;</th><th scope=col>&lt;dbl&gt;</th></tr>\n",
       "</thead>\n",
       "<tbody>\n",
       "\t<tr><td>0</td><td>532.0362</td><td>Entire home/apt</td><td>FALSE</td><td>FALSE</td><td>4</td><td>FALSE</td><td>0</td><td>1</td><td>10</td><td>91</td><td>1</td><td>1.1119980</td><td>0.63050396</td><td>526.4715</td><td>20.32767</td><td> 915.5915</td><td>20.11247</td><td>2.17556</td><td>41.39624</td></tr>\n",
       "\t<tr><td>1</td><td>169.8978</td><td>Private room   </td><td>FALSE</td><td> TRUE</td><td>2</td><td> TRUE</td><td>1</td><td>0</td><td>10</td><td>88</td><td>1</td><td>1.7518309</td><td>0.12401273</td><td>320.1283</td><td>12.36052</td><td> 794.2797</td><td>17.44766</td><td>2.14906</td><td>41.38714</td></tr>\n",
       "\t<tr><td>2</td><td>196.8953</td><td>Private room   </td><td>FALSE</td><td> TRUE</td><td>2</td><td>FALSE</td><td>1</td><td>0</td><td> 9</td><td>90</td><td>1</td><td>0.6217308</td><td>0.29751560</td><td>503.3540</td><td>19.43508</td><td>1242.4342</td><td>27.29211</td><td>2.16500</td><td>41.38300</td></tr>\n",
       "\t<tr><td>3</td><td>141.2712</td><td>Private room   </td><td>FALSE</td><td> TRUE</td><td>3</td><td>FALSE</td><td>0</td><td>1</td><td> 9</td><td>86</td><td>1</td><td>1.6483109</td><td>0.08944189</td><td>342.5958</td><td>13.22802</td><td> 820.9220</td><td>18.03290</td><td>2.15342</td><td>41.37912</td></tr>\n",
       "\t<tr><td>4</td><td>715.2000</td><td>Entire home/apt</td><td>FALSE</td><td>FALSE</td><td>4</td><td> TRUE</td><td>0</td><td>1</td><td> 9</td><td>95</td><td>2</td><td>0.6935603</td><td>0.35765301</td><td>537.8031</td><td>20.76520</td><td>1081.5601</td><td>23.75824</td><td>2.17498</td><td>41.39214</td></tr>\n",
       "\t<tr><td>5</td><td>173.3889</td><td>Private room   </td><td>FALSE</td><td> TRUE</td><td>2</td><td>FALSE</td><td>0</td><td>0</td><td> 9</td><td>96</td><td>1</td><td>1.4742189</td><td>0.59051076</td><td>448.4062</td><td>17.31348</td><td> 752.7611</td><td>16.53563</td><td>2.18195</td><td>41.39691</td></tr>\n",
       "</tbody>\n",
       "</table>\n"
      ],
      "text/latex": [
       "A tibble: 6 × 20\n",
       "\\begin{tabular}{llllllllllllllllllll}\n",
       " ...1 & realSum & room\\_type & room\\_shared & room\\_private & person\\_capacity & host\\_is\\_superhost & multi & biz & cleanliness\\_rating & guest\\_satisfaction\\_overall & bedrooms & dist & metro\\_dist & attr\\_index & attr\\_index\\_norm & rest\\_index & rest\\_index\\_norm & lng & lat\\\\\n",
       " <dbl> & <dbl> & <chr> & <lgl> & <lgl> & <dbl> & <lgl> & <dbl> & <dbl> & <dbl> & <dbl> & <dbl> & <dbl> & <dbl> & <dbl> & <dbl> & <dbl> & <dbl> & <dbl> & <dbl>\\\\\n",
       "\\hline\n",
       "\t 0 & 532.0362 & Entire home/apt & FALSE & FALSE & 4 & FALSE & 0 & 1 & 10 & 91 & 1 & 1.1119980 & 0.63050396 & 526.4715 & 20.32767 &  915.5915 & 20.11247 & 2.17556 & 41.39624\\\\\n",
       "\t 1 & 169.8978 & Private room    & FALSE &  TRUE & 2 &  TRUE & 1 & 0 & 10 & 88 & 1 & 1.7518309 & 0.12401273 & 320.1283 & 12.36052 &  794.2797 & 17.44766 & 2.14906 & 41.38714\\\\\n",
       "\t 2 & 196.8953 & Private room    & FALSE &  TRUE & 2 & FALSE & 1 & 0 &  9 & 90 & 1 & 0.6217308 & 0.29751560 & 503.3540 & 19.43508 & 1242.4342 & 27.29211 & 2.16500 & 41.38300\\\\\n",
       "\t 3 & 141.2712 & Private room    & FALSE &  TRUE & 3 & FALSE & 0 & 1 &  9 & 86 & 1 & 1.6483109 & 0.08944189 & 342.5958 & 13.22802 &  820.9220 & 18.03290 & 2.15342 & 41.37912\\\\\n",
       "\t 4 & 715.2000 & Entire home/apt & FALSE & FALSE & 4 &  TRUE & 0 & 1 &  9 & 95 & 2 & 0.6935603 & 0.35765301 & 537.8031 & 20.76520 & 1081.5601 & 23.75824 & 2.17498 & 41.39214\\\\\n",
       "\t 5 & 173.3889 & Private room    & FALSE &  TRUE & 2 & FALSE & 0 & 0 &  9 & 96 & 1 & 1.4742189 & 0.59051076 & 448.4062 & 17.31348 &  752.7611 & 16.53563 & 2.18195 & 41.39691\\\\\n",
       "\\end{tabular}\n"
      ],
      "text/markdown": [
       "\n",
       "A tibble: 6 × 20\n",
       "\n",
       "| ...1 &lt;dbl&gt; | realSum &lt;dbl&gt; | room_type &lt;chr&gt; | room_shared &lt;lgl&gt; | room_private &lt;lgl&gt; | person_capacity &lt;dbl&gt; | host_is_superhost &lt;lgl&gt; | multi &lt;dbl&gt; | biz &lt;dbl&gt; | cleanliness_rating &lt;dbl&gt; | guest_satisfaction_overall &lt;dbl&gt; | bedrooms &lt;dbl&gt; | dist &lt;dbl&gt; | metro_dist &lt;dbl&gt; | attr_index &lt;dbl&gt; | attr_index_norm &lt;dbl&gt; | rest_index &lt;dbl&gt; | rest_index_norm &lt;dbl&gt; | lng &lt;dbl&gt; | lat &lt;dbl&gt; |\n",
       "|---|---|---|---|---|---|---|---|---|---|---|---|---|---|---|---|---|---|---|---|\n",
       "| 0 | 532.0362 | Entire home/apt | FALSE | FALSE | 4 | FALSE | 0 | 1 | 10 | 91 | 1 | 1.1119980 | 0.63050396 | 526.4715 | 20.32767 |  915.5915 | 20.11247 | 2.17556 | 41.39624 |\n",
       "| 1 | 169.8978 | Private room    | FALSE |  TRUE | 2 |  TRUE | 1 | 0 | 10 | 88 | 1 | 1.7518309 | 0.12401273 | 320.1283 | 12.36052 |  794.2797 | 17.44766 | 2.14906 | 41.38714 |\n",
       "| 2 | 196.8953 | Private room    | FALSE |  TRUE | 2 | FALSE | 1 | 0 |  9 | 90 | 1 | 0.6217308 | 0.29751560 | 503.3540 | 19.43508 | 1242.4342 | 27.29211 | 2.16500 | 41.38300 |\n",
       "| 3 | 141.2712 | Private room    | FALSE |  TRUE | 3 | FALSE | 0 | 1 |  9 | 86 | 1 | 1.6483109 | 0.08944189 | 342.5958 | 13.22802 |  820.9220 | 18.03290 | 2.15342 | 41.37912 |\n",
       "| 4 | 715.2000 | Entire home/apt | FALSE | FALSE | 4 |  TRUE | 0 | 1 |  9 | 95 | 2 | 0.6935603 | 0.35765301 | 537.8031 | 20.76520 | 1081.5601 | 23.75824 | 2.17498 | 41.39214 |\n",
       "| 5 | 173.3889 | Private room    | FALSE |  TRUE | 2 | FALSE | 0 | 0 |  9 | 96 | 1 | 1.4742189 | 0.59051076 | 448.4062 | 17.31348 |  752.7611 | 16.53563 | 2.18195 | 41.39691 |\n",
       "\n"
      ],
      "text/plain": [
       "  ...1 realSum  room_type       room_shared room_private person_capacity\n",
       "1 0    532.0362 Entire home/apt FALSE       FALSE        4              \n",
       "2 1    169.8978 Private room    FALSE        TRUE        2              \n",
       "3 2    196.8953 Private room    FALSE        TRUE        2              \n",
       "4 3    141.2712 Private room    FALSE        TRUE        3              \n",
       "5 4    715.2000 Entire home/apt FALSE       FALSE        4              \n",
       "6 5    173.3889 Private room    FALSE        TRUE        2              \n",
       "  host_is_superhost multi biz cleanliness_rating guest_satisfaction_overall\n",
       "1 FALSE             0     1   10                 91                        \n",
       "2  TRUE             1     0   10                 88                        \n",
       "3 FALSE             1     0    9                 90                        \n",
       "4 FALSE             0     1    9                 86                        \n",
       "5  TRUE             0     1    9                 95                        \n",
       "6 FALSE             0     0    9                 96                        \n",
       "  bedrooms dist      metro_dist attr_index attr_index_norm rest_index\n",
       "1 1        1.1119980 0.63050396 526.4715   20.32767         915.5915 \n",
       "2 1        1.7518309 0.12401273 320.1283   12.36052         794.2797 \n",
       "3 1        0.6217308 0.29751560 503.3540   19.43508        1242.4342 \n",
       "4 1        1.6483109 0.08944189 342.5958   13.22802         820.9220 \n",
       "5 2        0.6935603 0.35765301 537.8031   20.76520        1081.5601 \n",
       "6 1        1.4742189 0.59051076 448.4062   17.31348         752.7611 \n",
       "  rest_index_norm lng     lat     \n",
       "1 20.11247        2.17556 41.39624\n",
       "2 17.44766        2.14906 41.38714\n",
       "3 27.29211        2.16500 41.38300\n",
       "4 18.03290        2.15342 41.37912\n",
       "5 23.75824        2.17498 41.39214\n",
       "6 16.53563        2.18195 41.39691"
      ]
     },
     "metadata": {},
     "output_type": "display_data"
    }
   ],
   "source": [
    "# load the csv files for each city (weekday and weekend)\n",
    "\n",
    "# IMPORTANT NOTE: Ensure the CSV files are in the \"data\" directory relative to your working directory\n",
    "paris_weekday <- read_csv(\"data/paris_weekdays.csv\")\n",
    "paris_weekend <- read_csv(\"data/paris_weekends.csv\")\n",
    "vienna_weekday <- read_csv(\"data/vienna_weekdays.csv\")\n",
    "vienna_weekend <- read_csv(\"data/vienna_weekends.csv\")\n",
    "barcelona_weekday <- read_csv(\"data/barcelona_weekdays.csv\")\n",
    "barcelona_weekend <- read_csv(\"data/barcelona_weekends.csv\")\n",
    "\n",
    "head(paris_weekday)\n",
    "head(paris_weekend)\n",
    "head(vienna_weekday)\n",
    "head(vienna_weekend)\n",
    "head(barcelona_weekday)\n",
    "head(barcelona_weekend)"
   ]
  },
  {
   "cell_type": "code",
   "execution_count": 10,
   "id": "d750c929",
   "metadata": {
    "vscode": {
     "languageId": "r"
    }
   },
   "outputs": [
    {
     "data": {
      "text/html": [
       "<table class=\"dataframe\">\n",
       "<caption>A tibble: 6 × 22</caption>\n",
       "<thead>\n",
       "\t<tr><th scope=col>...1</th><th scope=col>realSum</th><th scope=col>room_type</th><th scope=col>room_shared</th><th scope=col>room_private</th><th scope=col>person_capacity</th><th scope=col>host_is_superhost</th><th scope=col>multi</th><th scope=col>biz</th><th scope=col>cleanliness_rating</th><th scope=col>⋯</th><th scope=col>dist</th><th scope=col>metro_dist</th><th scope=col>attr_index</th><th scope=col>attr_index_norm</th><th scope=col>rest_index</th><th scope=col>rest_index_norm</th><th scope=col>lng</th><th scope=col>lat</th><th scope=col>city</th><th scope=col>day_type</th></tr>\n",
       "\t<tr><th scope=col>&lt;dbl&gt;</th><th scope=col>&lt;dbl&gt;</th><th scope=col>&lt;chr&gt;</th><th scope=col>&lt;lgl&gt;</th><th scope=col>&lt;lgl&gt;</th><th scope=col>&lt;dbl&gt;</th><th scope=col>&lt;lgl&gt;</th><th scope=col>&lt;dbl&gt;</th><th scope=col>&lt;dbl&gt;</th><th scope=col>&lt;dbl&gt;</th><th scope=col>⋯</th><th scope=col>&lt;dbl&gt;</th><th scope=col>&lt;dbl&gt;</th><th scope=col>&lt;dbl&gt;</th><th scope=col>&lt;dbl&gt;</th><th scope=col>&lt;dbl&gt;</th><th scope=col>&lt;dbl&gt;</th><th scope=col>&lt;dbl&gt;</th><th scope=col>&lt;dbl&gt;</th><th scope=col>&lt;chr&gt;</th><th scope=col>&lt;chr&gt;</th></tr>\n",
       "</thead>\n",
       "<tbody>\n",
       "\t<tr><td>0</td><td>296.1599</td><td>Private room   </td><td>FALSE</td><td> TRUE</td><td>2</td><td> TRUE</td><td>0</td><td>0</td><td>10</td><td>⋯</td><td>0.6998206</td><td>0.1937094</td><td>518.4789</td><td>25.23938</td><td>1218.6622</td><td>71.60803</td><td>2.35385</td><td>48.86282</td><td>Paris</td><td>Weekday</td></tr>\n",
       "\t<tr><td>1</td><td>288.2375</td><td>Private room   </td><td>FALSE</td><td> TRUE</td><td>2</td><td> TRUE</td><td>0</td><td>0</td><td>10</td><td>⋯</td><td>2.1000054</td><td>0.1072207</td><td>873.2170</td><td>42.50791</td><td>1000.5433</td><td>58.79146</td><td>2.32436</td><td>48.85902</td><td>Paris</td><td>Weekday</td></tr>\n",
       "\t<tr><td>2</td><td>211.3431</td><td>Private room   </td><td>FALSE</td><td> TRUE</td><td>2</td><td>FALSE</td><td>0</td><td>0</td><td>10</td><td>⋯</td><td>3.3023251</td><td>0.2347238</td><td>444.5561</td><td>21.64084</td><td> 902.8545</td><td>53.05131</td><td>2.31714</td><td>48.87475</td><td>Paris</td><td>Weekday</td></tr>\n",
       "\t<tr><td>3</td><td>298.9561</td><td>Entire home/apt</td><td>FALSE</td><td>FALSE</td><td>2</td><td>FALSE</td><td>0</td><td>1</td><td> 9</td><td>⋯</td><td>0.5475667</td><td>0.1959965</td><td>542.1420</td><td>26.39129</td><td>1199.1842</td><td>70.46351</td><td>2.35600</td><td>48.86100</td><td>Paris</td><td>Weekday</td></tr>\n",
       "\t<tr><td>4</td><td>247.9262</td><td>Entire home/apt</td><td>FALSE</td><td>FALSE</td><td>4</td><td>FALSE</td><td>0</td><td>0</td><td> 7</td><td>⋯</td><td>1.1979209</td><td>0.1035729</td><td>406.9290</td><td>19.80916</td><td>1070.7755</td><td>62.91827</td><td>2.35915</td><td>48.86648</td><td>Paris</td><td>Weekday</td></tr>\n",
       "\t<tr><td>5</td><td>527.0761</td><td>Entire home/apt</td><td>FALSE</td><td>FALSE</td><td>4</td><td> TRUE</td><td>0</td><td>0</td><td>10</td><td>⋯</td><td>1.5432015</td><td>0.5491303</td><td>967.4781</td><td>47.09651</td><td>1095.8704</td><td>64.39284</td><td>2.33201</td><td>48.85891</td><td>Paris</td><td>Weekday</td></tr>\n",
       "</tbody>\n",
       "</table>\n"
      ],
      "text/latex": [
       "A tibble: 6 × 22\n",
       "\\begin{tabular}{lllllllllllllllllllll}\n",
       " ...1 & realSum & room\\_type & room\\_shared & room\\_private & person\\_capacity & host\\_is\\_superhost & multi & biz & cleanliness\\_rating & ⋯ & dist & metro\\_dist & attr\\_index & attr\\_index\\_norm & rest\\_index & rest\\_index\\_norm & lng & lat & city & day\\_type\\\\\n",
       " <dbl> & <dbl> & <chr> & <lgl> & <lgl> & <dbl> & <lgl> & <dbl> & <dbl> & <dbl> & ⋯ & <dbl> & <dbl> & <dbl> & <dbl> & <dbl> & <dbl> & <dbl> & <dbl> & <chr> & <chr>\\\\\n",
       "\\hline\n",
       "\t 0 & 296.1599 & Private room    & FALSE &  TRUE & 2 &  TRUE & 0 & 0 & 10 & ⋯ & 0.6998206 & 0.1937094 & 518.4789 & 25.23938 & 1218.6622 & 71.60803 & 2.35385 & 48.86282 & Paris & Weekday\\\\\n",
       "\t 1 & 288.2375 & Private room    & FALSE &  TRUE & 2 &  TRUE & 0 & 0 & 10 & ⋯ & 2.1000054 & 0.1072207 & 873.2170 & 42.50791 & 1000.5433 & 58.79146 & 2.32436 & 48.85902 & Paris & Weekday\\\\\n",
       "\t 2 & 211.3431 & Private room    & FALSE &  TRUE & 2 & FALSE & 0 & 0 & 10 & ⋯ & 3.3023251 & 0.2347238 & 444.5561 & 21.64084 &  902.8545 & 53.05131 & 2.31714 & 48.87475 & Paris & Weekday\\\\\n",
       "\t 3 & 298.9561 & Entire home/apt & FALSE & FALSE & 2 & FALSE & 0 & 1 &  9 & ⋯ & 0.5475667 & 0.1959965 & 542.1420 & 26.39129 & 1199.1842 & 70.46351 & 2.35600 & 48.86100 & Paris & Weekday\\\\\n",
       "\t 4 & 247.9262 & Entire home/apt & FALSE & FALSE & 4 & FALSE & 0 & 0 &  7 & ⋯ & 1.1979209 & 0.1035729 & 406.9290 & 19.80916 & 1070.7755 & 62.91827 & 2.35915 & 48.86648 & Paris & Weekday\\\\\n",
       "\t 5 & 527.0761 & Entire home/apt & FALSE & FALSE & 4 &  TRUE & 0 & 0 & 10 & ⋯ & 1.5432015 & 0.5491303 & 967.4781 & 47.09651 & 1095.8704 & 64.39284 & 2.33201 & 48.85891 & Paris & Weekday\\\\\n",
       "\\end{tabular}\n"
      ],
      "text/markdown": [
       "\n",
       "A tibble: 6 × 22\n",
       "\n",
       "| ...1 &lt;dbl&gt; | realSum &lt;dbl&gt; | room_type &lt;chr&gt; | room_shared &lt;lgl&gt; | room_private &lt;lgl&gt; | person_capacity &lt;dbl&gt; | host_is_superhost &lt;lgl&gt; | multi &lt;dbl&gt; | biz &lt;dbl&gt; | cleanliness_rating &lt;dbl&gt; | ⋯ ⋯ | dist &lt;dbl&gt; | metro_dist &lt;dbl&gt; | attr_index &lt;dbl&gt; | attr_index_norm &lt;dbl&gt; | rest_index &lt;dbl&gt; | rest_index_norm &lt;dbl&gt; | lng &lt;dbl&gt; | lat &lt;dbl&gt; | city &lt;chr&gt; | day_type &lt;chr&gt; |\n",
       "|---|---|---|---|---|---|---|---|---|---|---|---|---|---|---|---|---|---|---|---|---|\n",
       "| 0 | 296.1599 | Private room    | FALSE |  TRUE | 2 |  TRUE | 0 | 0 | 10 | ⋯ | 0.6998206 | 0.1937094 | 518.4789 | 25.23938 | 1218.6622 | 71.60803 | 2.35385 | 48.86282 | Paris | Weekday |\n",
       "| 1 | 288.2375 | Private room    | FALSE |  TRUE | 2 |  TRUE | 0 | 0 | 10 | ⋯ | 2.1000054 | 0.1072207 | 873.2170 | 42.50791 | 1000.5433 | 58.79146 | 2.32436 | 48.85902 | Paris | Weekday |\n",
       "| 2 | 211.3431 | Private room    | FALSE |  TRUE | 2 | FALSE | 0 | 0 | 10 | ⋯ | 3.3023251 | 0.2347238 | 444.5561 | 21.64084 |  902.8545 | 53.05131 | 2.31714 | 48.87475 | Paris | Weekday |\n",
       "| 3 | 298.9561 | Entire home/apt | FALSE | FALSE | 2 | FALSE | 0 | 1 |  9 | ⋯ | 0.5475667 | 0.1959965 | 542.1420 | 26.39129 | 1199.1842 | 70.46351 | 2.35600 | 48.86100 | Paris | Weekday |\n",
       "| 4 | 247.9262 | Entire home/apt | FALSE | FALSE | 4 | FALSE | 0 | 0 |  7 | ⋯ | 1.1979209 | 0.1035729 | 406.9290 | 19.80916 | 1070.7755 | 62.91827 | 2.35915 | 48.86648 | Paris | Weekday |\n",
       "| 5 | 527.0761 | Entire home/apt | FALSE | FALSE | 4 |  TRUE | 0 | 0 | 10 | ⋯ | 1.5432015 | 0.5491303 | 967.4781 | 47.09651 | 1095.8704 | 64.39284 | 2.33201 | 48.85891 | Paris | Weekday |\n",
       "\n"
      ],
      "text/plain": [
       "  ...1 realSum  room_type       room_shared room_private person_capacity\n",
       "1 0    296.1599 Private room    FALSE        TRUE        2              \n",
       "2 1    288.2375 Private room    FALSE        TRUE        2              \n",
       "3 2    211.3431 Private room    FALSE        TRUE        2              \n",
       "4 3    298.9561 Entire home/apt FALSE       FALSE        2              \n",
       "5 4    247.9262 Entire home/apt FALSE       FALSE        4              \n",
       "6 5    527.0761 Entire home/apt FALSE       FALSE        4              \n",
       "  host_is_superhost multi biz cleanliness_rating ⋯ dist      metro_dist\n",
       "1  TRUE             0     0   10                 ⋯ 0.6998206 0.1937094 \n",
       "2  TRUE             0     0   10                 ⋯ 2.1000054 0.1072207 \n",
       "3 FALSE             0     0   10                 ⋯ 3.3023251 0.2347238 \n",
       "4 FALSE             0     1    9                 ⋯ 0.5475667 0.1959965 \n",
       "5 FALSE             0     0    7                 ⋯ 1.1979209 0.1035729 \n",
       "6  TRUE             0     0   10                 ⋯ 1.5432015 0.5491303 \n",
       "  attr_index attr_index_norm rest_index rest_index_norm lng     lat      city \n",
       "1 518.4789   25.23938        1218.6622  71.60803        2.35385 48.86282 Paris\n",
       "2 873.2170   42.50791        1000.5433  58.79146        2.32436 48.85902 Paris\n",
       "3 444.5561   21.64084         902.8545  53.05131        2.31714 48.87475 Paris\n",
       "4 542.1420   26.39129        1199.1842  70.46351        2.35600 48.86100 Paris\n",
       "5 406.9290   19.80916        1070.7755  62.91827        2.35915 48.86648 Paris\n",
       "6 967.4781   47.09651        1095.8704  64.39284        2.33201 48.85891 Paris\n",
       "  day_type\n",
       "1 Weekday \n",
       "2 Weekday \n",
       "3 Weekday \n",
       "4 Weekday \n",
       "5 Weekday \n",
       "6 Weekday "
      ]
     },
     "metadata": {},
     "output_type": "display_data"
    }
   ],
   "source": [
    "# combine the data into one dataframe\n",
    "combined_data <- bind_rows(\n",
    "  paris_weekday %>% mutate(city = \"Paris\", day_type = \"Weekday\"),\n",
    "  paris_weekend %>% mutate(city = \"Paris\", day_type = \"Weekend\"),\n",
    "  vienna_weekday %>% mutate(city = \"Vienna\", day_type = \"Weekday\"),\n",
    "  vienna_weekend %>% mutate(city = \"Vienna\", day_type = \"Weekend\"),\n",
    "  barcelona_weekday %>% mutate(city = \"Barcelona\", day_type = \"Weekday\"),\n",
    "  barcelona_weekend %>% mutate(city = \"Barcelona\", day_type = \"Weekend\")\n",
    ")\n",
    "\n",
    "head(combined_data)"
   ]
  },
  {
   "cell_type": "code",
   "execution_count": 12,
   "id": "39ed3766",
   "metadata": {
    "vscode": {
     "languageId": "r"
    }
   },
   "outputs": [
    {
     "data": {
      "text/html": [
       "TRUE"
      ],
      "text/latex": [
       "TRUE"
      ],
      "text/markdown": [
       "TRUE"
      ],
      "text/plain": [
       "[1] TRUE"
      ]
     },
     "metadata": {},
     "output_type": "display_data"
    }
   ],
   "source": [
    "# check if all the rows in each csv file are included\n",
    "nrow(paris_weekday) + nrow(paris_weekend) + nrow(vienna_weekday) + \n",
    "  nrow(vienna_weekend) + nrow(barcelona_weekday) + nrow(barcelona_weekend) == nrow(combined_data)"
   ]
  },
  {
   "cell_type": "code",
   "execution_count": 13,
   "id": "1eef09e9",
   "metadata": {
    "vscode": {
     "languageId": "r"
    }
   },
   "outputs": [
    {
     "data": {
      "text/plain": [
       "      ...1         realSum          room_type         room_shared    \n",
       " Min.   :   0   Min.   :   63.58   Length:13058       Mode :logical  \n",
       " 1st Qu.: 544   1st Qu.:  187.93   Class :character   FALSE:12936    \n",
       " Median :1088   Median :  260.74   Mode  :character   TRUE :122      \n",
       " Mean   :1254   Mean   :  330.21                                     \n",
       " 3rd Qu.:1740   3rd Qu.:  380.29                                     \n",
       " Max.   :3557   Max.   :16445.61                                     \n",
       " room_private    person_capacity host_is_superhost     multi       \n",
       " Mode :logical   Min.   :2.000   Mode :logical     Min.   :0.0000  \n",
       " FALSE:8478      1st Qu.:2.000   FALSE:10598       1st Qu.:0.0000  \n",
       " TRUE :4580      Median :2.000   TRUE :2460        Median :0.0000  \n",
       "                 Mean   :2.988                     Mean   :0.2716  \n",
       "                 3rd Qu.:4.000                     3rd Qu.:1.0000  \n",
       "                 Max.   :6.000                     Max.   :1.0000  \n",
       "      biz         cleanliness_rating guest_satisfaction_overall    bedrooms    \n",
       " Min.   :0.0000   Min.   : 2.000     Min.   : 20.00             Min.   :0.000  \n",
       " 1st Qu.:0.0000   1st Qu.: 9.000     1st Qu.: 89.00             1st Qu.:1.000  \n",
       " Median :0.0000   Median :10.000     Median : 94.00             Median :1.000  \n",
       " Mean   :0.2886   Mean   : 9.326     Mean   : 92.29             Mean   :1.049  \n",
       " 3rd Qu.:1.0000   3rd Qu.:10.000     3rd Qu.: 98.00             3rd Qu.:1.000  \n",
       " Max.   :1.0000   Max.   :10.000     Max.   :100.00             Max.   :6.000  \n",
       "      dist            metro_dist        attr_index      attr_index_norm  \n",
       " Min.   : 0.03981   Min.   :0.00322   Min.   :  19.38   Min.   :  1.388  \n",
       " 1st Qu.: 1.60730   1st Qu.:0.17573   1st Qu.: 165.91   1st Qu.:  8.916  \n",
       " Median : 2.64658   Median :0.26937   Median : 290.56   Median : 13.473  \n",
       " Mean   : 2.84407   Mean   :0.35482   Mean   : 324.76   Mean   : 15.307  \n",
       " 3rd Qu.: 3.86714   3rd Qu.:0.41386   3rd Qu.: 430.55   3rd Qu.: 19.991  \n",
       " Max.   :13.33967   Max.   :5.23838   Max.   :2934.13   Max.   :100.000  \n",
       "   rest_index      rest_index_norm         lng              lat       \n",
       " Min.   :  26.51   Min.   :  0.6407   Min.   : 2.093   Min.   :41.35  \n",
       " 1st Qu.: 283.98   1st Qu.:  6.5305   1st Qu.: 2.286   1st Qu.:48.18  \n",
       " Median : 628.68   Median : 25.7289   Median : 2.350   Median :48.83  \n",
       " Mean   : 658.28   Mean   : 27.1653   Mean   : 6.102   Mean   :47.06  \n",
       " 3rd Qu.: 948.30   3rd Qu.: 41.2363   3rd Qu.:16.318   3rd Qu.:48.87  \n",
       " Max.   :4552.36   Max.   :100.0000   Max.   :16.547   Max.   :48.90  \n",
       "     city             day_type        \n",
       " Length:13058       Length:13058      \n",
       " Class :character   Class :character  \n",
       " Mode  :character   Mode  :character  \n",
       "                                      \n",
       "                                      \n",
       "                                      "
      ]
     },
     "metadata": {},
     "output_type": "display_data"
    }
   ],
   "source": [
    "# data summary\n",
    "summary(combined_data)"
   ]
  },
  {
   "cell_type": "code",
   "execution_count": 15,
   "id": "99aa821f",
   "metadata": {
    "vscode": {
     "languageId": "r"
    }
   },
   "outputs": [
    {
     "data": {
      "text/html": [
       "<style>\n",
       ".dl-inline {width: auto; margin:0; padding: 0}\n",
       ".dl-inline>dt, .dl-inline>dd {float: none; width: auto; display: inline-block}\n",
       ".dl-inline>dt::after {content: \":\\0020\"; padding-right: .5ex}\n",
       ".dl-inline>dt:not(:first-of-type) {padding-left: .5ex}\n",
       "</style><dl class=dl-inline><dt>...1</dt><dd>TRUE</dd><dt>realSum</dt><dd>TRUE</dd><dt>room_type</dt><dd>FALSE</dd><dt>room_shared</dt><dd>FALSE</dd><dt>room_private</dt><dd>FALSE</dd><dt>person_capacity</dt><dd>TRUE</dd><dt>host_is_superhost</dt><dd>FALSE</dd><dt>multi</dt><dd>TRUE</dd><dt>biz</dt><dd>TRUE</dd><dt>cleanliness_rating</dt><dd>TRUE</dd><dt>guest_satisfaction_overall</dt><dd>TRUE</dd><dt>bedrooms</dt><dd>TRUE</dd><dt>dist</dt><dd>TRUE</dd><dt>metro_dist</dt><dd>TRUE</dd><dt>attr_index</dt><dd>TRUE</dd><dt>attr_index_norm</dt><dd>TRUE</dd><dt>rest_index</dt><dd>TRUE</dd><dt>rest_index_norm</dt><dd>TRUE</dd><dt>lng</dt><dd>TRUE</dd><dt>lat</dt><dd>TRUE</dd><dt>city</dt><dd>FALSE</dd><dt>day_type</dt><dd>FALSE</dd></dl>\n"
      ],
      "text/latex": [
       "\\begin{description*}\n",
       "\\item[...1] TRUE\n",
       "\\item[realSum] TRUE\n",
       "\\item[room\\textbackslash{}\\_type] FALSE\n",
       "\\item[room\\textbackslash{}\\_shared] FALSE\n",
       "\\item[room\\textbackslash{}\\_private] FALSE\n",
       "\\item[person\\textbackslash{}\\_capacity] TRUE\n",
       "\\item[host\\textbackslash{}\\_is\\textbackslash{}\\_superhost] FALSE\n",
       "\\item[multi] TRUE\n",
       "\\item[biz] TRUE\n",
       "\\item[cleanliness\\textbackslash{}\\_rating] TRUE\n",
       "\\item[guest\\textbackslash{}\\_satisfaction\\textbackslash{}\\_overall] TRUE\n",
       "\\item[bedrooms] TRUE\n",
       "\\item[dist] TRUE\n",
       "\\item[metro\\textbackslash{}\\_dist] TRUE\n",
       "\\item[attr\\textbackslash{}\\_index] TRUE\n",
       "\\item[attr\\textbackslash{}\\_index\\textbackslash{}\\_norm] TRUE\n",
       "\\item[rest\\textbackslash{}\\_index] TRUE\n",
       "\\item[rest\\textbackslash{}\\_index\\textbackslash{}\\_norm] TRUE\n",
       "\\item[lng] TRUE\n",
       "\\item[lat] TRUE\n",
       "\\item[city] FALSE\n",
       "\\item[day\\textbackslash{}\\_type] FALSE\n",
       "\\end{description*}\n"
      ],
      "text/markdown": [
       "...1\n",
       ":   TRUErealSum\n",
       ":   TRUEroom_type\n",
       ":   FALSEroom_shared\n",
       ":   FALSEroom_private\n",
       ":   FALSEperson_capacity\n",
       ":   TRUEhost_is_superhost\n",
       ":   FALSEmulti\n",
       ":   TRUEbiz\n",
       ":   TRUEcleanliness_rating\n",
       ":   TRUEguest_satisfaction_overall\n",
       ":   TRUEbedrooms\n",
       ":   TRUEdist\n",
       ":   TRUEmetro_dist\n",
       ":   TRUEattr_index\n",
       ":   TRUEattr_index_norm\n",
       ":   TRUErest_index\n",
       ":   TRUErest_index_norm\n",
       ":   TRUElng\n",
       ":   TRUElat\n",
       ":   TRUEcity\n",
       ":   FALSEday_type\n",
       ":   FALSE\n",
       "\n"
      ],
      "text/plain": [
       "                      ...1                    realSum \n",
       "                      TRUE                       TRUE \n",
       "                 room_type                room_shared \n",
       "                     FALSE                      FALSE \n",
       "              room_private            person_capacity \n",
       "                     FALSE                       TRUE \n",
       "         host_is_superhost                      multi \n",
       "                     FALSE                       TRUE \n",
       "                       biz         cleanliness_rating \n",
       "                      TRUE                       TRUE \n",
       "guest_satisfaction_overall                   bedrooms \n",
       "                      TRUE                       TRUE \n",
       "                      dist                 metro_dist \n",
       "                      TRUE                       TRUE \n",
       "                attr_index            attr_index_norm \n",
       "                      TRUE                       TRUE \n",
       "                rest_index            rest_index_norm \n",
       "                      TRUE                       TRUE \n",
       "                       lng                        lat \n",
       "                      TRUE                       TRUE \n",
       "                      city                   day_type \n",
       "                     FALSE                      FALSE "
      ]
     },
     "metadata": {},
     "output_type": "display_data"
    }
   ],
   "source": [
    "# list numerical columns\n",
    "numerical_columns <- sapply(combined_data, is.numeric)\n",
    "numerical_columns"
   ]
  },
  {
   "cell_type": "code",
   "execution_count": null,
   "id": "0d1d74e3",
   "metadata": {
    "vscode": {
     "languageId": "r"
    }
   },
   "outputs": [
    {
     "data": {
      "text/plain": [
       "    realSum                  room_type    room_shared     room_private   \n",
       " Min.   :  63.58   Entire home/apt:8288   Mode :logical   Mode :logical  \n",
       " 1st Qu.: 187.35   Private room   :4574   FALSE:12862     FALSE:8410     \n",
       " Median : 259.75   Shared room    : 122   TRUE :122       TRUE :4574     \n",
       " Mean   : 314.43                                                         \n",
       " 3rd Qu.: 376.55                                                         \n",
       " Max.   :1412.99                                                         \n",
       " person_capacity host_is_superhost multi    biz        cleanliness_rating.V1  \n",
       " Min.   :2.000   FALSE:10535       0:9455   0:9245   Min.   :-7.645253632020  \n",
       " 1st Qu.:2.000   TRUE : 2449       1:3529   1:3739   1st Qu.:-0.338994107210  \n",
       " Median :2.000                                       Median : 0.704757253477  \n",
       " Mean   :2.977                                       Mean   : 0.000000000000  \n",
       " 3rd Qu.:4.000                                       3rd Qu.: 0.704757253477  \n",
       " Max.   :6.000                                       Max.   : 0.704757253477  \n",
       " guest_satisfaction_overall.V1    bedrooms              dist.V1         \n",
       " Min.   :-8.581315201970       Min.   :0.000   Min.   :-1.710997236980  \n",
       " 1st Qu.:-0.389756802033       1st Qu.:1.000   1st Qu.:-0.756713211043  \n",
       " Median : 0.203834386368       Median :1.000   Median :-0.121355410995  \n",
       " Mean   : 0.000000000000       Mean   :1.041   Mean   : 0.000000000000  \n",
       " 3rd Qu.: 0.678707337089       3rd Qu.:1.000   3rd Qu.: 0.624543231904  \n",
       " Max.   : 0.916143812450       Max.   :5.000   Max.   : 6.411675203500  \n",
       "       metro_dist.V1       attr_index_norm   rest_index_norm   \n",
       " Min.   :-1.034361534400   Min.   :  1.388   Min.   :  0.6407  \n",
       " 1st Qu.:-0.527005683618   1st Qu.:  8.911   1st Qu.:  6.4653  \n",
       " Median :-0.252207689517   Median : 13.446   Median : 25.6330  \n",
       " Mean   : 0.000000000000   Mean   : 15.279   Mean   : 27.0970  \n",
       " 3rd Qu.: 0.173266988077   3rd Qu.: 19.945   3rd Qu.: 41.1523  \n",
       " Max.   :14.348442503700   Max.   :100.000   Max.   :100.0000  \n",
       "      lng              lat               city         day_type   \n",
       " Min.   : 2.093   Min.   :41.35   Barcelona:2819   Weekday:6384  \n",
       " 1st Qu.: 2.286   1st Qu.:48.18   Paris    :6631   Weekend:6600  \n",
       " Median : 2.350   Median :48.83   Vienna   :3534                 \n",
       " Mean   : 6.121   Mean   :47.06                                  \n",
       " 3rd Qu.:16.319   3rd Qu.:48.87                                  \n",
       " Max.   :16.547   Max.   :48.90                                  \n",
       " price_per_person\n",
       " Min.   : 14.69  \n",
       " 1st Qu.: 71.22  \n",
       " Median : 98.45  \n",
       " Mean   :111.39  \n",
       " 3rd Qu.:136.08  \n",
       " Max.   :606.18  "
      ]
     },
     "metadata": {},
     "output_type": "display_data"
    }
   ],
   "source": [
    "# Clean the combined dataset\n",
    "clean_data <- combined_data %>%\n",
    "  # Drop unnecessary columns\n",
    "  select(-1, -attr_index, -rest_index) %>%\n",
    "  # Convert categorical variables to factors\n",
    "  mutate(\n",
    "    room_type = as.factor(room_type),\n",
    "    host_is_superhost = as.factor(host_is_superhost),\n",
    "    multi = as.factor(multi),\n",
    "    biz = as.factor(biz),\n",
    "    city = as.factor(city),\n",
    "    day_type = as.factor(day_type)\n",
    "  ) %>%\n",
    "  # Remove outliers (e.g., prices beyond 3 standard deviations)\n",
    "  filter(realSum <= mean(realSum) + 3*sd(realSum)) %>%\n",
    "  # Create price per person column\n",
    "  mutate(price_per_person = realSum/person_capacity) %>%\n",
    "  # Scale numerical variables\n",
    "  mutate(across(c(cleanliness_rating, guest_satisfaction_overall, \n",
    "                  dist, metro_dist), scale)) %>%\n",
    "  # Remove any rows with missing values\n",
    "  na.omit()\n",
    "\n",
    "summary(clean_data)"
   ]
  },
  {
   "cell_type": "code",
   "execution_count": 17,
   "id": "4f649cad",
   "metadata": {
    "vscode": {
     "languageId": "r"
    }
   },
   "outputs": [
    {
     "data": {
      "text/html": [
       "<table class=\"dataframe\">\n",
       "<caption>A tibble: 6 × 20</caption>\n",
       "<thead>\n",
       "\t<tr><th scope=col>realSum</th><th scope=col>room_type</th><th scope=col>room_shared</th><th scope=col>room_private</th><th scope=col>person_capacity</th><th scope=col>host_is_superhost</th><th scope=col>multi</th><th scope=col>biz</th><th scope=col>cleanliness_rating</th><th scope=col>guest_satisfaction_overall</th><th scope=col>bedrooms</th><th scope=col>dist</th><th scope=col>metro_dist</th><th scope=col>attr_index_norm</th><th scope=col>rest_index_norm</th><th scope=col>lng</th><th scope=col>lat</th><th scope=col>city</th><th scope=col>day_type</th><th scope=col>price_per_person</th></tr>\n",
       "\t<tr><th scope=col>&lt;dbl&gt;</th><th scope=col>&lt;fct&gt;</th><th scope=col>&lt;lgl&gt;</th><th scope=col>&lt;lgl&gt;</th><th scope=col>&lt;dbl&gt;</th><th scope=col>&lt;fct&gt;</th><th scope=col>&lt;fct&gt;</th><th scope=col>&lt;fct&gt;</th><th scope=col>&lt;dbl[,1]&gt;</th><th scope=col>&lt;dbl[,1]&gt;</th><th scope=col>&lt;dbl&gt;</th><th scope=col>&lt;dbl[,1]&gt;</th><th scope=col>&lt;dbl[,1]&gt;</th><th scope=col>&lt;dbl&gt;</th><th scope=col>&lt;dbl&gt;</th><th scope=col>&lt;dbl&gt;</th><th scope=col>&lt;dbl&gt;</th><th scope=col>&lt;fct&gt;</th><th scope=col>&lt;fct&gt;</th><th scope=col>&lt;dbl&gt;</th></tr>\n",
       "</thead>\n",
       "<tbody>\n",
       "\t<tr><td>296.1599</td><td>Private room   </td><td>FALSE</td><td> TRUE</td><td>2</td><td>TRUE </td><td>0</td><td>0</td><td> 0.7047573</td><td> 0.55998910</td><td>1</td><td>-1.3079086</td><td>-0.4746347</td><td>25.23938</td><td>71.60803</td><td>2.35385</td><td>48.86282</td><td>Paris</td><td>Weekday</td><td>148.07997</td></tr>\n",
       "\t<tr><td>288.2375</td><td>Private room   </td><td>FALSE</td><td> TRUE</td><td>2</td><td>TRUE </td><td>0</td><td>0</td><td> 0.7047573</td><td> 0.55998910</td><td>1</td><td>-0.4527684</td><td>-0.7287699</td><td>42.50791</td><td>58.79146</td><td>2.32436</td><td>48.85902</td><td>Paris</td><td>Weekday</td><td>144.11874</td></tr>\n",
       "\t<tr><td>211.3431</td><td>Private room   </td><td>FALSE</td><td> TRUE</td><td>2</td><td>FALSE</td><td>0</td><td>0</td><td> 0.7047573</td><td> 0.20383439</td><td>1</td><td> 0.2815289</td><td>-0.3541195</td><td>21.64084</td><td>53.05131</td><td>2.31714</td><td>48.87475</td><td>Paris</td><td>Weekday</td><td>105.67154</td></tr>\n",
       "\t<tr><td>298.9561</td><td>Entire home/apt</td><td>FALSE</td><td>FALSE</td><td>2</td><td>FALSE</td><td>0</td><td>1</td><td>-0.3389941</td><td>-0.15232033</td><td>1</td><td>-1.4008953</td><td>-0.4679143</td><td>26.39129</td><td>70.46351</td><td>2.35600</td><td>48.86100</td><td>Paris</td><td>Weekday</td><td>149.47805</td></tr>\n",
       "\t<tr><td>247.9262</td><td>Entire home/apt</td><td>FALSE</td><td>FALSE</td><td>4</td><td>FALSE</td><td>0</td><td>0</td><td>-2.4264968</td><td>-1.22078447</td><td>1</td><td>-1.0037019</td><td>-0.7394885</td><td>19.80916</td><td>62.91827</td><td>2.35915</td><td>48.86648</td><td>Paris</td><td>Weekday</td><td> 61.98155</td></tr>\n",
       "\t<tr><td>527.0761</td><td>Entire home/apt</td><td>FALSE</td><td>FALSE</td><td>4</td><td>TRUE </td><td>0</td><td>0</td><td> 0.7047573</td><td> 0.08511615</td><td>1</td><td>-0.7928274</td><td> 0.5697205</td><td>47.09651</td><td>64.39284</td><td>2.33201</td><td>48.85891</td><td>Paris</td><td>Weekday</td><td>131.76904</td></tr>\n",
       "</tbody>\n",
       "</table>\n"
      ],
      "text/latex": [
       "A tibble: 6 × 20\n",
       "\\begin{tabular}{llllllllllllllllllll}\n",
       " realSum & room\\_type & room\\_shared & room\\_private & person\\_capacity & host\\_is\\_superhost & multi & biz & cleanliness\\_rating & guest\\_satisfaction\\_overall & bedrooms & dist & metro\\_dist & attr\\_index\\_norm & rest\\_index\\_norm & lng & lat & city & day\\_type & price\\_per\\_person\\\\\n",
       " <dbl> & <fct> & <lgl> & <lgl> & <dbl> & <fct> & <fct> & <fct> & <dbl{[},1{]}> & <dbl{[},1{]}> & <dbl> & <dbl{[},1{]}> & <dbl{[},1{]}> & <dbl> & <dbl> & <dbl> & <dbl> & <fct> & <fct> & <dbl>\\\\\n",
       "\\hline\n",
       "\t 296.1599 & Private room    & FALSE &  TRUE & 2 & TRUE  & 0 & 0 &  0.7047573 &  0.55998910 & 1 & -1.3079086 & -0.4746347 & 25.23938 & 71.60803 & 2.35385 & 48.86282 & Paris & Weekday & 148.07997\\\\\n",
       "\t 288.2375 & Private room    & FALSE &  TRUE & 2 & TRUE  & 0 & 0 &  0.7047573 &  0.55998910 & 1 & -0.4527684 & -0.7287699 & 42.50791 & 58.79146 & 2.32436 & 48.85902 & Paris & Weekday & 144.11874\\\\\n",
       "\t 211.3431 & Private room    & FALSE &  TRUE & 2 & FALSE & 0 & 0 &  0.7047573 &  0.20383439 & 1 &  0.2815289 & -0.3541195 & 21.64084 & 53.05131 & 2.31714 & 48.87475 & Paris & Weekday & 105.67154\\\\\n",
       "\t 298.9561 & Entire home/apt & FALSE & FALSE & 2 & FALSE & 0 & 1 & -0.3389941 & -0.15232033 & 1 & -1.4008953 & -0.4679143 & 26.39129 & 70.46351 & 2.35600 & 48.86100 & Paris & Weekday & 149.47805\\\\\n",
       "\t 247.9262 & Entire home/apt & FALSE & FALSE & 4 & FALSE & 0 & 0 & -2.4264968 & -1.22078447 & 1 & -1.0037019 & -0.7394885 & 19.80916 & 62.91827 & 2.35915 & 48.86648 & Paris & Weekday &  61.98155\\\\\n",
       "\t 527.0761 & Entire home/apt & FALSE & FALSE & 4 & TRUE  & 0 & 0 &  0.7047573 &  0.08511615 & 1 & -0.7928274 &  0.5697205 & 47.09651 & 64.39284 & 2.33201 & 48.85891 & Paris & Weekday & 131.76904\\\\\n",
       "\\end{tabular}\n"
      ],
      "text/markdown": [
       "\n",
       "A tibble: 6 × 20\n",
       "\n",
       "| realSum &lt;dbl&gt; | room_type &lt;fct&gt; | room_shared &lt;lgl&gt; | room_private &lt;lgl&gt; | person_capacity &lt;dbl&gt; | host_is_superhost &lt;fct&gt; | multi &lt;fct&gt; | biz &lt;fct&gt; | cleanliness_rating &lt;dbl[,1]&gt; | guest_satisfaction_overall &lt;dbl[,1]&gt; | bedrooms &lt;dbl&gt; | dist &lt;dbl[,1]&gt; | metro_dist &lt;dbl[,1]&gt; | attr_index_norm &lt;dbl&gt; | rest_index_norm &lt;dbl&gt; | lng &lt;dbl&gt; | lat &lt;dbl&gt; | city &lt;fct&gt; | day_type &lt;fct&gt; | price_per_person &lt;dbl&gt; |\n",
       "|---|---|---|---|---|---|---|---|---|---|---|---|---|---|---|---|---|---|---|---|\n",
       "| 296.1599 | Private room    | FALSE |  TRUE | 2 | TRUE  | 0 | 0 |  0.7047573 |  0.55998910 | 1 | -1.3079086 | -0.4746347 | 25.23938 | 71.60803 | 2.35385 | 48.86282 | Paris | Weekday | 148.07997 |\n",
       "| 288.2375 | Private room    | FALSE |  TRUE | 2 | TRUE  | 0 | 0 |  0.7047573 |  0.55998910 | 1 | -0.4527684 | -0.7287699 | 42.50791 | 58.79146 | 2.32436 | 48.85902 | Paris | Weekday | 144.11874 |\n",
       "| 211.3431 | Private room    | FALSE |  TRUE | 2 | FALSE | 0 | 0 |  0.7047573 |  0.20383439 | 1 |  0.2815289 | -0.3541195 | 21.64084 | 53.05131 | 2.31714 | 48.87475 | Paris | Weekday | 105.67154 |\n",
       "| 298.9561 | Entire home/apt | FALSE | FALSE | 2 | FALSE | 0 | 1 | -0.3389941 | -0.15232033 | 1 | -1.4008953 | -0.4679143 | 26.39129 | 70.46351 | 2.35600 | 48.86100 | Paris | Weekday | 149.47805 |\n",
       "| 247.9262 | Entire home/apt | FALSE | FALSE | 4 | FALSE | 0 | 0 | -2.4264968 | -1.22078447 | 1 | -1.0037019 | -0.7394885 | 19.80916 | 62.91827 | 2.35915 | 48.86648 | Paris | Weekday |  61.98155 |\n",
       "| 527.0761 | Entire home/apt | FALSE | FALSE | 4 | TRUE  | 0 | 0 |  0.7047573 |  0.08511615 | 1 | -0.7928274 |  0.5697205 | 47.09651 | 64.39284 | 2.33201 | 48.85891 | Paris | Weekday | 131.76904 |\n",
       "\n"
      ],
      "text/plain": [
       "  realSum  room_type       room_shared room_private person_capacity\n",
       "1 296.1599 Private room    FALSE        TRUE        2              \n",
       "2 288.2375 Private room    FALSE        TRUE        2              \n",
       "3 211.3431 Private room    FALSE        TRUE        2              \n",
       "4 298.9561 Entire home/apt FALSE       FALSE        2              \n",
       "5 247.9262 Entire home/apt FALSE       FALSE        4              \n",
       "6 527.0761 Entire home/apt FALSE       FALSE        4              \n",
       "  host_is_superhost multi biz cleanliness_rating guest_satisfaction_overall\n",
       "1 TRUE              0     0    0.7047573          0.55998910               \n",
       "2 TRUE              0     0    0.7047573          0.55998910               \n",
       "3 FALSE             0     0    0.7047573          0.20383439               \n",
       "4 FALSE             0     1   -0.3389941         -0.15232033               \n",
       "5 FALSE             0     0   -2.4264968         -1.22078447               \n",
       "6 TRUE              0     0    0.7047573          0.08511615               \n",
       "  bedrooms dist       metro_dist attr_index_norm rest_index_norm lng    \n",
       "1 1        -1.3079086 -0.4746347 25.23938        71.60803        2.35385\n",
       "2 1        -0.4527684 -0.7287699 42.50791        58.79146        2.32436\n",
       "3 1         0.2815289 -0.3541195 21.64084        53.05131        2.31714\n",
       "4 1        -1.4008953 -0.4679143 26.39129        70.46351        2.35600\n",
       "5 1        -1.0037019 -0.7394885 19.80916        62.91827        2.35915\n",
       "6 1        -0.7928274  0.5697205 47.09651        64.39284        2.33201\n",
       "  lat      city  day_type price_per_person\n",
       "1 48.86282 Paris Weekday  148.07997       \n",
       "2 48.85902 Paris Weekday  144.11874       \n",
       "3 48.87475 Paris Weekday  105.67154       \n",
       "4 48.86100 Paris Weekday  149.47805       \n",
       "5 48.86648 Paris Weekday   61.98155       \n",
       "6 48.85891 Paris Weekday  131.76904       "
      ]
     },
     "metadata": {},
     "output_type": "display_data"
    }
   ],
   "source": [
    "head(clean_data)"
   ]
  },
  {
   "cell_type": "code",
   "execution_count": null,
   "id": "44529e3f",
   "metadata": {
    "vscode": {
     "languageId": "r"
    }
   },
   "outputs": [
    {
     "data": {
      "image/png": "[encoded data removed]",
      "text/plain": [
       "plot without title"
      ]
     },
     "metadata": {
      "image/png": {
       "height": 420,
       "width": 420
      }
     },
     "output_type": "display_data"
    }
   ],
   "source": [
    "# Price Distribution by City and Room Type with log scale\n",
    "\n",
    "ggplot(clean_data, aes(x = room_type, y = realSum, fill = day_type)) +\n",
    "  geom_boxplot(alpha = 0.7) +\n",
    "  facet_wrap(~city, scales = \"free_y\", ncol = 1) +\n",
    "  scale_y_log10(labels = scales::dollar_format()) +\n",
    "  labs(\n",
    "    title = \"Airbnb Price Distribution by City and Room Type\",\n",
    "    subtitle = \"Comparing Weekday vs Weekend Prices\",\n",
    "    x = \"Room Type\",\n",
    "    y = \"Price (USD, log scale)\",\n",
    "    fill = \"Day Type\"\n",
    "  ) +\n",
    "  theme_minimal() +\n",
    "  theme(\n",
    "    axis.text.x = element_text(angle = 45, hjust = 1),\n",
    "    legend.position = \"top\",\n",
    "    panel.grid.major.x = element_blank()  \n",
    "  )"
   ]
  },
  {
   "cell_type": "markdown",
   "id": "acc39179",
   "metadata": {},
   "source": [
    "### Price Distribution Analysis\n",
    "\n",
    "The boxplot visualization reveals clear pricing hierarchies and patterns across the three cities. Entire homes/apartments consistently command the highest median prices in all cities, with Paris leading the price range, followed by Barcelona, while Vienna offers more affordable options. The spread of prices for entire homes is notably wider, suggesting greater price flexibility in this category.\n",
    "\n",
    "Private rooms occupy the middle price tier, with remarkably consistent pricing between $100-300 across all three cities. The narrower price ranges for private rooms indicate more standardized pricing in this category, likely due to stronger market competition. Interestingly, the weekend premium for private rooms remains minimal across all cities.\n",
    "\n",
    "Shared rooms emerge as the most affordable option with the most concentrated price distribution. Barcelona shows a notable weekend premium for shared rooms, while Paris displays an interesting pattern of multiple price tiers in this category. Vienna maintains the most stable pricing between weekdays and weekends across all room types.\n",
    "\n",
    "The log scale effectively highlights these price variations while revealing that price variability is highest for entire homes in Paris, moderate for private rooms across all cities, and most concentrated for shared rooms. These patterns suggest different market dynamics and pricing strategies across cities and room types, with Paris commanding premium prices, Barcelona showing moderate levels, and Vienna positioning itself as the most affordable"
   ]
  },
  {
   "cell_type": "markdown",
   "id": "fa0e65fa",
   "metadata": {},
   "source": [
    "# (4) Methods and Plan\n",
    "\n",
    "## Proposed Method: Multiple Linear Regression with Interaction Terms\n",
    "\n",
    "Given our research question about how various listing characteristics and location-based factors influence Airbnb prices across different cities and time periods, I propose using multiple linear regression with interaction terms. The model will use log-transformed price (realSum) as the response variable, given the right-skewed distribution revealed in our EDA.\n",
    "\n",
    "The base model structure will be:\n"
   ]
  },
  {
   "cell_type": "code",
   "execution_count": 26,
   "id": "2d85253b",
   "metadata": {
    "vscode": {
     "languageId": "r"
    }
   },
   "outputs": [
    {
     "data": {
      "text/plain": [
       "log(realSum) ~ room_type + host_is_superhost + multi + biz + \n",
       "    guest_satisfaction_overall + bedrooms + dist + city + day_type + \n",
       "    city:day_type + room_type:day_type"
      ]
     },
     "metadata": {},
     "output_type": "display_data"
    }
   ],
   "source": [
    "log(realSum) ~ room_type + host_is_superhost + multi + biz + \n",
    "                guest_satisfaction_overall + bedrooms + dist + \n",
    "                city + day_type + \n",
    "                city:day_type + room_type:day_type"
   ]
  },
  {
   "cell_type": "markdown",
   "id": "b716c0d1",
   "metadata": {},
   "source": [
    "\n",
    "\n",
    "## Method Appropriateness\n",
    "\n",
    "This method aligns well with our research goals because:\n",
    "1. The log transformation of prices addresses the observed right-skewed distribution\n",
    "2. Interaction terms (city:day_type, room_type:day_type) allow us to examine how pricing patterns differ between weekdays and weekends across cities and room types\n",
    "3. Multiple regression can quantify the relative importance of different factors while controlling for others\n",
    "4. The method provides interpretable coefficients for both categorical and continuous variables\n",
    "\n",
    "## Required Assumptions\n",
    "\n",
    "The method requires several key assumptions:\n",
    "1. Linearity: After log transformation, relationships between predictors and price should be approximately linear\n",
    "2. Independence: Observations should be independent (may be violated if same properties listed multiple times)\n",
    "3. Homoscedasticity: Variance of residuals should be constant\n",
    "4. Normality: Residuals should be approximately normally distributed\n",
    "5. No multicollinearity: Predictors should not be highly correlated\n",
    "\n",
    "## Potential Limitations\n",
    "\n",
    "The proposed method has several limitations:\n",
    "1. Spatial autocorrelation is not directly addressed - nearby properties may have correlated prices\n",
    "2. The model assumes additive effects (even with interactions), which may miss complex non-linear relationships\n",
    "3. Time-based patterns beyond weekday/weekend differences are not captured\n",
    "4. The log transformation, while helpful for the price distribution, may complicate interpretation\n",
    "5. The model cannot capture potential seasonal variations or long-term trends in pricing\n",
    "\n",
    "These limitations could be addressed in future analyses through techniques like spatial regression or time series methods, but the proposed approach provides a solid foundation for understanding the main pricing determinants while maintaining interpretability."
   ]
  }
 ],
 "metadata": {
  "kernelspec": {
   "display_name": "R",
   "language": "R",
   "name": "ir"
  },
  "language_info": {
   "codemirror_mode": "r",
   "file_extension": ".r",
   "mimetype": "text/x-r-source",
   "name": "R",
   "pygments_lexer": "r",
   "version": "4.5.1"
  }
 },
 "nbformat": 4,
 "nbformat_minor": 5
}
