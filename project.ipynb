{
 "cells": [
  {
   "cell_type": "markdown",
   "id": "e2ebf631-d006-4f37-8155-23437faee1bd",
   "metadata": {},
   "source": [
    "# STAT 301 Project: AIRBNB"
   ]
  },
  {
   "cell_type": "code",
   "execution_count": 13,
   "id": "45378523",
   "metadata": {
    "vscode": {
     "languageId": "r"
    }
   },
   "outputs": [],
   "source": [
    "# please run this code in case you haven't installed these packages yet\n",
    "\n",
    "# install.packages(c('car', 'corrplot', 'skimr'))"
   ]
  },
  {
   "cell_type": "markdown",
   "id": "4ab06dac-91ba-472c-9c56-ba8b1d9f94d1",
   "metadata": {},
   "source": [
    " https://www.kaggle.com/datasets/thedevastator/airbnb-prices-in-european-cities/data?select=london_weekdays.csv"
   ]
  },
  {
   "cell_type": "code",
   "execution_count": 14,
   "id": "02a69739-7fc7-47f8-98fa-bb6c472c4730",
   "metadata": {
    "vscode": {
     "languageId": "r"
    }
   },
   "outputs": [],
   "source": [
    "library(dplyr)\n",
    "library(tidyr)\n",
    "library(readr)\n",
    "library(broom)\n",
    "library(stringr)\n",
    "library(ggplot2)\n",
    "library(car)\n",
    "library(skimr)\n"
   ]
  },
  {
   "cell_type": "markdown",
   "id": "ec9fdd23-821d-4327-9b3c-57071ad08bd4",
   "metadata": {},
   "source": [
    "## 1. Data Set Overview"
   ]
  },
  {
   "cell_type": "markdown",
   "id": "ce93fd98-6d3b-42f8-8cef-112089ad99b0",
   "metadata": {},
   "source": [
    "### Merging Multiple CSV Files and Creating a Day Type Variable\n",
    "\n",
    "In this step, we merged multiple Airbnb datasets and created a new categorical variable indicating whether each observation comes from a weekday or a weekend.\n",
    "\n",
    "#### Step-by-step explanation:\n",
    "\n",
    "1. **File List Definition**  \n",
    "   We defined a character vector `file_list` that contains the names of six CSV files, representing data from three cities (Barcelona, London, Paris) across both weekdays and weekends.\n",
    "\n",
    "2. **Reading and Tagging Data**  \n",
    "   We used `lapply()` to loop through each file name:\n",
    "   - Each file was read using `read_csv()`.\n",
    "   - We created a new column `day_type` using `mutate()`, which assigns either `\"weekday\"` or `\"weekend\"` depending on whether the file name contains the string `\"weekends\"`. This was done using `str_detect()` from the `stringr` package.\n",
    "\n",
    "3. **Merging Datasets**  \n",
    "   All the data frames were combined into a single data frame `df_all` using `bind_rows()`.\n",
    "\n",
    "4. **Result Inspection**  \n",
    "   We used `head(df_all)` to view the first few rows and `summary(df_all)` to examine the summary statistics of the merged dataset.\n",
    "\n",
    "#### Purpose:\n",
    "By creating the `day_type` variable directly from the file names, we are able to track which observations came from weekdays and which from weekends. This allows for further grouped analysis and modeling based on day-of-week effects.\n"
   ]
  },
  {
   "cell_type": "code",
   "execution_count": 15,
   "id": "2b660ddb-b96d-4a1d-90ee-bab2988c5176",
   "metadata": {
    "scrolled": true,
    "vscode": {
     "languageId": "r"
    }
   },
   "outputs": [
    {
     "name": "stderr",
     "output_type": "stream",
     "text": [
      "\u001b[1m\u001b[22mNew names:\n",
      "\u001b[36m•\u001b[39m `` -> `...1`\n",
      "\u001b[1mRows: \u001b[22m\u001b[34m3130\u001b[39m \u001b[1mColumns: \u001b[22m\u001b[34m20\u001b[39m\n",
      "\u001b[36m──\u001b[39m \u001b[1mColumn specification\u001b[22m \u001b[36m────────────────────────────────────────────────────────\u001b[39m\n",
      "\u001b[1mDelimiter:\u001b[22m \",\"\n",
      "\u001b[31mchr\u001b[39m  (1): room_type\n",
      "\u001b[32mdbl\u001b[39m (16): ...1, realSum, person_capacity, multi, biz, cleanliness_rating, gu...\n",
      "\u001b[33mlgl\u001b[39m  (3): room_shared, room_private, host_is_superhost\n",
      "\n",
      "\u001b[36mℹ\u001b[39m Use `spec()` to retrieve the full column specification for this data.\n",
      "\u001b[36mℹ\u001b[39m Specify the column types or set `show_col_types = FALSE` to quiet this message.\n",
      "\u001b[1m\u001b[22mNew names:\n",
      "\u001b[36m•\u001b[39m `` -> `...1`\n",
      "\u001b[1mRows: \u001b[22m\u001b[34m3558\u001b[39m \u001b[1mColumns: \u001b[22m\u001b[34m20\u001b[39m\n",
      "\u001b[36m──\u001b[39m \u001b[1mColumn specification\u001b[22m \u001b[36m────────────────────────────────────────────────────────\u001b[39m\n",
      "\u001b[1mDelimiter:\u001b[22m \",\"\n",
      "\u001b[31mchr\u001b[39m  (1): room_type\n",
      "\u001b[32mdbl\u001b[39m (16): ...1, realSum, person_capacity, multi, biz, cleanliness_rating, gu...\n",
      "\u001b[33mlgl\u001b[39m  (3): room_shared, room_private, host_is_superhost\n",
      "\n",
      "\u001b[36mℹ\u001b[39m Use `spec()` to retrieve the full column specification for this data.\n",
      "\u001b[36mℹ\u001b[39m Specify the column types or set `show_col_types = FALSE` to quiet this message.\n",
      "\u001b[1m\u001b[22mNew names:\n",
      "\u001b[36m•\u001b[39m `` -> `...1`\n",
      "\u001b[1mRows: \u001b[22m\u001b[34m1738\u001b[39m \u001b[1mColumns: \u001b[22m\u001b[34m20\u001b[39m\n",
      "\u001b[36m──\u001b[39m \u001b[1mColumn specification\u001b[22m \u001b[36m────────────────────────────────────────────────────────\u001b[39m\n",
      "\u001b[1mDelimiter:\u001b[22m \",\"\n",
      "\u001b[31mchr\u001b[39m  (1): room_type\n",
      "\u001b[32mdbl\u001b[39m (16): ...1, realSum, person_capacity, multi, biz, cleanliness_rating, gu...\n",
      "\u001b[33mlgl\u001b[39m  (3): room_shared, room_private, host_is_superhost\n",
      "\n",
      "\u001b[36mℹ\u001b[39m Use `spec()` to retrieve the full column specification for this data.\n",
      "\u001b[36mℹ\u001b[39m Specify the column types or set `show_col_types = FALSE` to quiet this message.\n",
      "\u001b[1m\u001b[22mNew names:\n",
      "\u001b[36m•\u001b[39m `` -> `...1`\n",
      "\u001b[1mRows: \u001b[22m\u001b[34m1799\u001b[39m \u001b[1mColumns: \u001b[22m\u001b[34m20\u001b[39m\n",
      "\u001b[36m──\u001b[39m \u001b[1mColumn specification\u001b[22m \u001b[36m────────────────────────────────────────────────────────\u001b[39m\n",
      "\u001b[1mDelimiter:\u001b[22m \",\"\n",
      "\u001b[31mchr\u001b[39m  (1): room_type\n",
      "\u001b[32mdbl\u001b[39m (16): ...1, realSum, person_capacity, multi, biz, cleanliness_rating, gu...\n",
      "\u001b[33mlgl\u001b[39m  (3): room_shared, room_private, host_is_superhost\n",
      "\n",
      "\u001b[36mℹ\u001b[39m Use `spec()` to retrieve the full column specification for this data.\n",
      "\u001b[36mℹ\u001b[39m Specify the column types or set `show_col_types = FALSE` to quiet this message.\n",
      "\u001b[1m\u001b[22mNew names:\n",
      "\u001b[36m•\u001b[39m `` -> `...1`\n",
      "\u001b[1mRows: \u001b[22m\u001b[34m1555\u001b[39m \u001b[1mColumns: \u001b[22m\u001b[34m20\u001b[39m\n",
      "\u001b[36m──\u001b[39m \u001b[1mColumn specification\u001b[22m \u001b[36m────────────────────────────────────────────────────────\u001b[39m\n",
      "\u001b[1mDelimiter:\u001b[22m \",\"\n",
      "\u001b[31mchr\u001b[39m  (1): room_type\n",
      "\u001b[32mdbl\u001b[39m (16): ...1, realSum, person_capacity, multi, biz, cleanliness_rating, gu...\n",
      "\u001b[33mlgl\u001b[39m  (3): room_shared, room_private, host_is_superhost\n",
      "\n",
      "\u001b[36mℹ\u001b[39m Use `spec()` to retrieve the full column specification for this data.\n",
      "\u001b[36mℹ\u001b[39m Specify the column types or set `show_col_types = FALSE` to quiet this message.\n",
      "\u001b[1m\u001b[22mNew names:\n",
      "\u001b[36m•\u001b[39m `` -> `...1`\n",
      "\u001b[1mRows: \u001b[22m\u001b[34m1278\u001b[39m \u001b[1mColumns: \u001b[22m\u001b[34m20\u001b[39m\n",
      "\u001b[36m──\u001b[39m \u001b[1mColumn specification\u001b[22m \u001b[36m────────────────────────────────────────────────────────\u001b[39m\n",
      "\u001b[1mDelimiter:\u001b[22m \",\"\n",
      "\u001b[31mchr\u001b[39m  (1): room_type\n",
      "\u001b[32mdbl\u001b[39m (16): ...1, realSum, person_capacity, multi, biz, cleanliness_rating, gu...\n",
      "\u001b[33mlgl\u001b[39m  (3): room_shared, room_private, host_is_superhost\n",
      "\n",
      "\u001b[36mℹ\u001b[39m Use `spec()` to retrieve the full column specification for this data.\n",
      "\u001b[36mℹ\u001b[39m Specify the column types or set `show_col_types = FALSE` to quiet this message.\n"
     ]
    },
    {
     "data": {
      "text/html": [
       "<table class=\"dataframe\">\n",
       "<caption>A tibble: 6 × 20</caption>\n",
       "<thead>\n",
       "\t<tr><th scope=col>...1</th><th scope=col>realSum</th><th scope=col>room_type</th><th scope=col>room_shared</th><th scope=col>room_private</th><th scope=col>person_capacity</th><th scope=col>host_is_superhost</th><th scope=col>multi</th><th scope=col>biz</th><th scope=col>cleanliness_rating</th><th scope=col>guest_satisfaction_overall</th><th scope=col>bedrooms</th><th scope=col>dist</th><th scope=col>metro_dist</th><th scope=col>attr_index</th><th scope=col>attr_index_norm</th><th scope=col>rest_index</th><th scope=col>rest_index_norm</th><th scope=col>lng</th><th scope=col>lat</th></tr>\n",
       "\t<tr><th scope=col>&lt;dbl&gt;</th><th scope=col>&lt;dbl&gt;</th><th scope=col>&lt;chr&gt;</th><th scope=col>&lt;lgl&gt;</th><th scope=col>&lt;lgl&gt;</th><th scope=col>&lt;dbl&gt;</th><th scope=col>&lt;lgl&gt;</th><th scope=col>&lt;dbl&gt;</th><th scope=col>&lt;dbl&gt;</th><th scope=col>&lt;dbl&gt;</th><th scope=col>&lt;dbl&gt;</th><th scope=col>&lt;dbl&gt;</th><th scope=col>&lt;dbl&gt;</th><th scope=col>&lt;dbl&gt;</th><th scope=col>&lt;dbl&gt;</th><th scope=col>&lt;dbl&gt;</th><th scope=col>&lt;dbl&gt;</th><th scope=col>&lt;dbl&gt;</th><th scope=col>&lt;dbl&gt;</th><th scope=col>&lt;dbl&gt;</th></tr>\n",
       "</thead>\n",
       "<tbody>\n",
       "\t<tr><td>0</td><td>296.1599</td><td>Private room   </td><td>FALSE</td><td> TRUE</td><td>2</td><td> TRUE</td><td>0</td><td>0</td><td>10</td><td>97</td><td>1</td><td>0.6998206</td><td>0.1937094</td><td>518.4789</td><td>25.23938</td><td>1218.6622</td><td>71.60803</td><td>2.35385</td><td>48.86282</td></tr>\n",
       "\t<tr><td>1</td><td>288.2375</td><td>Private room   </td><td>FALSE</td><td> TRUE</td><td>2</td><td> TRUE</td><td>0</td><td>0</td><td>10</td><td>97</td><td>1</td><td>2.1000054</td><td>0.1072207</td><td>873.2170</td><td>42.50791</td><td>1000.5433</td><td>58.79146</td><td>2.32436</td><td>48.85902</td></tr>\n",
       "\t<tr><td>2</td><td>211.3431</td><td>Private room   </td><td>FALSE</td><td> TRUE</td><td>2</td><td>FALSE</td><td>0</td><td>0</td><td>10</td><td>94</td><td>1</td><td>3.3023251</td><td>0.2347238</td><td>444.5561</td><td>21.64084</td><td> 902.8545</td><td>53.05131</td><td>2.31714</td><td>48.87475</td></tr>\n",
       "\t<tr><td>3</td><td>298.9561</td><td>Entire home/apt</td><td>FALSE</td><td>FALSE</td><td>2</td><td>FALSE</td><td>0</td><td>1</td><td> 9</td><td>91</td><td>1</td><td>0.5475667</td><td>0.1959965</td><td>542.1420</td><td>26.39129</td><td>1199.1842</td><td>70.46351</td><td>2.35600</td><td>48.86100</td></tr>\n",
       "\t<tr><td>4</td><td>247.9262</td><td>Entire home/apt</td><td>FALSE</td><td>FALSE</td><td>4</td><td>FALSE</td><td>0</td><td>0</td><td> 7</td><td>82</td><td>1</td><td>1.1979209</td><td>0.1035729</td><td>406.9290</td><td>19.80916</td><td>1070.7755</td><td>62.91827</td><td>2.35915</td><td>48.86648</td></tr>\n",
       "\t<tr><td>5</td><td>527.0761</td><td>Entire home/apt</td><td>FALSE</td><td>FALSE</td><td>4</td><td> TRUE</td><td>0</td><td>0</td><td>10</td><td>93</td><td>1</td><td>1.5432015</td><td>0.5491303</td><td>967.4781</td><td>47.09651</td><td>1095.8704</td><td>64.39284</td><td>2.33201</td><td>48.85891</td></tr>\n",
       "</tbody>\n",
       "</table>\n"
      ],
      "text/latex": [
       "A tibble: 6 × 20\n",
       "\\begin{tabular}{llllllllllllllllllll}\n",
       " ...1 & realSum & room\\_type & room\\_shared & room\\_private & person\\_capacity & host\\_is\\_superhost & multi & biz & cleanliness\\_rating & guest\\_satisfaction\\_overall & bedrooms & dist & metro\\_dist & attr\\_index & attr\\_index\\_norm & rest\\_index & rest\\_index\\_norm & lng & lat\\\\\n",
       " <dbl> & <dbl> & <chr> & <lgl> & <lgl> & <dbl> & <lgl> & <dbl> & <dbl> & <dbl> & <dbl> & <dbl> & <dbl> & <dbl> & <dbl> & <dbl> & <dbl> & <dbl> & <dbl> & <dbl>\\\\\n",
       "\\hline\n",
       "\t 0 & 296.1599 & Private room    & FALSE &  TRUE & 2 &  TRUE & 0 & 0 & 10 & 97 & 1 & 0.6998206 & 0.1937094 & 518.4789 & 25.23938 & 1218.6622 & 71.60803 & 2.35385 & 48.86282\\\\\n",
       "\t 1 & 288.2375 & Private room    & FALSE &  TRUE & 2 &  TRUE & 0 & 0 & 10 & 97 & 1 & 2.1000054 & 0.1072207 & 873.2170 & 42.50791 & 1000.5433 & 58.79146 & 2.32436 & 48.85902\\\\\n",
       "\t 2 & 211.3431 & Private room    & FALSE &  TRUE & 2 & FALSE & 0 & 0 & 10 & 94 & 1 & 3.3023251 & 0.2347238 & 444.5561 & 21.64084 &  902.8545 & 53.05131 & 2.31714 & 48.87475\\\\\n",
       "\t 3 & 298.9561 & Entire home/apt & FALSE & FALSE & 2 & FALSE & 0 & 1 &  9 & 91 & 1 & 0.5475667 & 0.1959965 & 542.1420 & 26.39129 & 1199.1842 & 70.46351 & 2.35600 & 48.86100\\\\\n",
       "\t 4 & 247.9262 & Entire home/apt & FALSE & FALSE & 4 & FALSE & 0 & 0 &  7 & 82 & 1 & 1.1979209 & 0.1035729 & 406.9290 & 19.80916 & 1070.7755 & 62.91827 & 2.35915 & 48.86648\\\\\n",
       "\t 5 & 527.0761 & Entire home/apt & FALSE & FALSE & 4 &  TRUE & 0 & 0 & 10 & 93 & 1 & 1.5432015 & 0.5491303 & 967.4781 & 47.09651 & 1095.8704 & 64.39284 & 2.33201 & 48.85891\\\\\n",
       "\\end{tabular}\n"
      ],
      "text/markdown": [
       "\n",
       "A tibble: 6 × 20\n",
       "\n",
       "| ...1 &lt;dbl&gt; | realSum &lt;dbl&gt; | room_type &lt;chr&gt; | room_shared &lt;lgl&gt; | room_private &lt;lgl&gt; | person_capacity &lt;dbl&gt; | host_is_superhost &lt;lgl&gt; | multi &lt;dbl&gt; | biz &lt;dbl&gt; | cleanliness_rating &lt;dbl&gt; | guest_satisfaction_overall &lt;dbl&gt; | bedrooms &lt;dbl&gt; | dist &lt;dbl&gt; | metro_dist &lt;dbl&gt; | attr_index &lt;dbl&gt; | attr_index_norm &lt;dbl&gt; | rest_index &lt;dbl&gt; | rest_index_norm &lt;dbl&gt; | lng &lt;dbl&gt; | lat &lt;dbl&gt; |\n",
       "|---|---|---|---|---|---|---|---|---|---|---|---|---|---|---|---|---|---|---|---|\n",
       "| 0 | 296.1599 | Private room    | FALSE |  TRUE | 2 |  TRUE | 0 | 0 | 10 | 97 | 1 | 0.6998206 | 0.1937094 | 518.4789 | 25.23938 | 1218.6622 | 71.60803 | 2.35385 | 48.86282 |\n",
       "| 1 | 288.2375 | Private room    | FALSE |  TRUE | 2 |  TRUE | 0 | 0 | 10 | 97 | 1 | 2.1000054 | 0.1072207 | 873.2170 | 42.50791 | 1000.5433 | 58.79146 | 2.32436 | 48.85902 |\n",
       "| 2 | 211.3431 | Private room    | FALSE |  TRUE | 2 | FALSE | 0 | 0 | 10 | 94 | 1 | 3.3023251 | 0.2347238 | 444.5561 | 21.64084 |  902.8545 | 53.05131 | 2.31714 | 48.87475 |\n",
       "| 3 | 298.9561 | Entire home/apt | FALSE | FALSE | 2 | FALSE | 0 | 1 |  9 | 91 | 1 | 0.5475667 | 0.1959965 | 542.1420 | 26.39129 | 1199.1842 | 70.46351 | 2.35600 | 48.86100 |\n",
       "| 4 | 247.9262 | Entire home/apt | FALSE | FALSE | 4 | FALSE | 0 | 0 |  7 | 82 | 1 | 1.1979209 | 0.1035729 | 406.9290 | 19.80916 | 1070.7755 | 62.91827 | 2.35915 | 48.86648 |\n",
       "| 5 | 527.0761 | Entire home/apt | FALSE | FALSE | 4 |  TRUE | 0 | 0 | 10 | 93 | 1 | 1.5432015 | 0.5491303 | 967.4781 | 47.09651 | 1095.8704 | 64.39284 | 2.33201 | 48.85891 |\n",
       "\n"
      ],
      "text/plain": [
       "  ...1 realSum  room_type       room_shared room_private person_capacity\n",
       "1 0    296.1599 Private room    FALSE        TRUE        2              \n",
       "2 1    288.2375 Private room    FALSE        TRUE        2              \n",
       "3 2    211.3431 Private room    FALSE        TRUE        2              \n",
       "4 3    298.9561 Entire home/apt FALSE       FALSE        2              \n",
       "5 4    247.9262 Entire home/apt FALSE       FALSE        4              \n",
       "6 5    527.0761 Entire home/apt FALSE       FALSE        4              \n",
       "  host_is_superhost multi biz cleanliness_rating guest_satisfaction_overall\n",
       "1  TRUE             0     0   10                 97                        \n",
       "2  TRUE             0     0   10                 97                        \n",
       "3 FALSE             0     0   10                 94                        \n",
       "4 FALSE             0     1    9                 91                        \n",
       "5 FALSE             0     0    7                 82                        \n",
       "6  TRUE             0     0   10                 93                        \n",
       "  bedrooms dist      metro_dist attr_index attr_index_norm rest_index\n",
       "1 1        0.6998206 0.1937094  518.4789   25.23938        1218.6622 \n",
       "2 1        2.1000054 0.1072207  873.2170   42.50791        1000.5433 \n",
       "3 1        3.3023251 0.2347238  444.5561   21.64084         902.8545 \n",
       "4 1        0.5475667 0.1959965  542.1420   26.39129        1199.1842 \n",
       "5 1        1.1979209 0.1035729  406.9290   19.80916        1070.7755 \n",
       "6 1        1.5432015 0.5491303  967.4781   47.09651        1095.8704 \n",
       "  rest_index_norm lng     lat     \n",
       "1 71.60803        2.35385 48.86282\n",
       "2 58.79146        2.32436 48.85902\n",
       "3 53.05131        2.31714 48.87475\n",
       "4 70.46351        2.35600 48.86100\n",
       "5 62.91827        2.35915 48.86648\n",
       "6 64.39284        2.33201 48.85891"
      ]
     },
     "metadata": {},
     "output_type": "display_data"
    },
    {
     "data": {
      "text/html": [
       "<table class=\"dataframe\">\n",
       "<caption>A tibble: 6 × 20</caption>\n",
       "<thead>\n",
       "\t<tr><th scope=col>...1</th><th scope=col>realSum</th><th scope=col>room_type</th><th scope=col>room_shared</th><th scope=col>room_private</th><th scope=col>person_capacity</th><th scope=col>host_is_superhost</th><th scope=col>multi</th><th scope=col>biz</th><th scope=col>cleanliness_rating</th><th scope=col>guest_satisfaction_overall</th><th scope=col>bedrooms</th><th scope=col>dist</th><th scope=col>metro_dist</th><th scope=col>attr_index</th><th scope=col>attr_index_norm</th><th scope=col>rest_index</th><th scope=col>rest_index_norm</th><th scope=col>lng</th><th scope=col>lat</th></tr>\n",
       "\t<tr><th scope=col>&lt;dbl&gt;</th><th scope=col>&lt;dbl&gt;</th><th scope=col>&lt;chr&gt;</th><th scope=col>&lt;lgl&gt;</th><th scope=col>&lt;lgl&gt;</th><th scope=col>&lt;dbl&gt;</th><th scope=col>&lt;lgl&gt;</th><th scope=col>&lt;dbl&gt;</th><th scope=col>&lt;dbl&gt;</th><th scope=col>&lt;dbl&gt;</th><th scope=col>&lt;dbl&gt;</th><th scope=col>&lt;dbl&gt;</th><th scope=col>&lt;dbl&gt;</th><th scope=col>&lt;dbl&gt;</th><th scope=col>&lt;dbl&gt;</th><th scope=col>&lt;dbl&gt;</th><th scope=col>&lt;dbl&gt;</th><th scope=col>&lt;dbl&gt;</th><th scope=col>&lt;dbl&gt;</th><th scope=col>&lt;dbl&gt;</th></tr>\n",
       "</thead>\n",
       "<tbody>\n",
       "\t<tr><td>0</td><td>536.3967</td><td>Entire home/apt</td><td>FALSE</td><td>FALSE</td><td>5</td><td>FALSE</td><td>0</td><td>1</td><td> 9</td><td> 89</td><td>1</td><td>1.3512012</td><td>0.21234554</td><td> 390.7768</td><td>19.00155</td><td>1030.7385</td><td>47.55037</td><td>2.35900</td><td>48.86800</td></tr>\n",
       "\t<tr><td>1</td><td>290.1016</td><td>Private room   </td><td>FALSE</td><td> TRUE</td><td>2</td><td> TRUE</td><td>0</td><td>0</td><td>10</td><td> 97</td><td>1</td><td>0.6998212</td><td>0.19371031</td><td> 518.4783</td><td>25.21104</td><td>1218.6589</td><td>56.21958</td><td>2.35385</td><td>48.86282</td></tr>\n",
       "\t<tr><td>2</td><td>445.7545</td><td>Entire home/apt</td><td>FALSE</td><td>FALSE</td><td>4</td><td>FALSE</td><td>0</td><td>1</td><td>10</td><td>100</td><td>1</td><td>0.9689817</td><td>0.29434293</td><td> 432.6899</td><td>21.03958</td><td>1069.8948</td><td>49.35674</td><td>2.36023</td><td>48.86375</td></tr>\n",
       "\t<tr><td>3</td><td>211.3431</td><td>Private room   </td><td>FALSE</td><td> TRUE</td><td>2</td><td>FALSE</td><td>0</td><td>0</td><td>10</td><td> 94</td><td>1</td><td>3.3023186</td><td>0.23473971</td><td> 444.5553</td><td>21.61653</td><td> 902.8564</td><td>41.65087</td><td>2.31714</td><td>48.87475</td></tr>\n",
       "\t<tr><td>4</td><td>266.3342</td><td>Entire home/apt</td><td>FALSE</td><td>FALSE</td><td>2</td><td> TRUE</td><td>0</td><td>0</td><td> 9</td><td> 88</td><td>1</td><td>1.4024298</td><td>0.05505193</td><td>1013.4587</td><td>49.27950</td><td>1348.0635</td><td>62.18931</td><td>2.33408</td><td>48.85384</td></tr>\n",
       "\t<tr><td>5</td><td>345.0927</td><td>Entire home/apt</td><td>FALSE</td><td>FALSE</td><td>2</td><td>FALSE</td><td>0</td><td>1</td><td> 9</td><td> 91</td><td>1</td><td>0.5475705</td><td>0.19600551</td><td> 542.1394</td><td>26.36157</td><td>1199.1796</td><td>55.32095</td><td>2.35600</td><td>48.86100</td></tr>\n",
       "</tbody>\n",
       "</table>\n"
      ],
      "text/latex": [
       "A tibble: 6 × 20\n",
       "\\begin{tabular}{llllllllllllllllllll}\n",
       " ...1 & realSum & room\\_type & room\\_shared & room\\_private & person\\_capacity & host\\_is\\_superhost & multi & biz & cleanliness\\_rating & guest\\_satisfaction\\_overall & bedrooms & dist & metro\\_dist & attr\\_index & attr\\_index\\_norm & rest\\_index & rest\\_index\\_norm & lng & lat\\\\\n",
       " <dbl> & <dbl> & <chr> & <lgl> & <lgl> & <dbl> & <lgl> & <dbl> & <dbl> & <dbl> & <dbl> & <dbl> & <dbl> & <dbl> & <dbl> & <dbl> & <dbl> & <dbl> & <dbl> & <dbl>\\\\\n",
       "\\hline\n",
       "\t 0 & 536.3967 & Entire home/apt & FALSE & FALSE & 5 & FALSE & 0 & 1 &  9 &  89 & 1 & 1.3512012 & 0.21234554 &  390.7768 & 19.00155 & 1030.7385 & 47.55037 & 2.35900 & 48.86800\\\\\n",
       "\t 1 & 290.1016 & Private room    & FALSE &  TRUE & 2 &  TRUE & 0 & 0 & 10 &  97 & 1 & 0.6998212 & 0.19371031 &  518.4783 & 25.21104 & 1218.6589 & 56.21958 & 2.35385 & 48.86282\\\\\n",
       "\t 2 & 445.7545 & Entire home/apt & FALSE & FALSE & 4 & FALSE & 0 & 1 & 10 & 100 & 1 & 0.9689817 & 0.29434293 &  432.6899 & 21.03958 & 1069.8948 & 49.35674 & 2.36023 & 48.86375\\\\\n",
       "\t 3 & 211.3431 & Private room    & FALSE &  TRUE & 2 & FALSE & 0 & 0 & 10 &  94 & 1 & 3.3023186 & 0.23473971 &  444.5553 & 21.61653 &  902.8564 & 41.65087 & 2.31714 & 48.87475\\\\\n",
       "\t 4 & 266.3342 & Entire home/apt & FALSE & FALSE & 2 &  TRUE & 0 & 0 &  9 &  88 & 1 & 1.4024298 & 0.05505193 & 1013.4587 & 49.27950 & 1348.0635 & 62.18931 & 2.33408 & 48.85384\\\\\n",
       "\t 5 & 345.0927 & Entire home/apt & FALSE & FALSE & 2 & FALSE & 0 & 1 &  9 &  91 & 1 & 0.5475705 & 0.19600551 &  542.1394 & 26.36157 & 1199.1796 & 55.32095 & 2.35600 & 48.86100\\\\\n",
       "\\end{tabular}\n"
      ],
      "text/markdown": [
       "\n",
       "A tibble: 6 × 20\n",
       "\n",
       "| ...1 &lt;dbl&gt; | realSum &lt;dbl&gt; | room_type &lt;chr&gt; | room_shared &lt;lgl&gt; | room_private &lt;lgl&gt; | person_capacity &lt;dbl&gt; | host_is_superhost &lt;lgl&gt; | multi &lt;dbl&gt; | biz &lt;dbl&gt; | cleanliness_rating &lt;dbl&gt; | guest_satisfaction_overall &lt;dbl&gt; | bedrooms &lt;dbl&gt; | dist &lt;dbl&gt; | metro_dist &lt;dbl&gt; | attr_index &lt;dbl&gt; | attr_index_norm &lt;dbl&gt; | rest_index &lt;dbl&gt; | rest_index_norm &lt;dbl&gt; | lng &lt;dbl&gt; | lat &lt;dbl&gt; |\n",
       "|---|---|---|---|---|---|---|---|---|---|---|---|---|---|---|---|---|---|---|---|\n",
       "| 0 | 536.3967 | Entire home/apt | FALSE | FALSE | 5 | FALSE | 0 | 1 |  9 |  89 | 1 | 1.3512012 | 0.21234554 |  390.7768 | 19.00155 | 1030.7385 | 47.55037 | 2.35900 | 48.86800 |\n",
       "| 1 | 290.1016 | Private room    | FALSE |  TRUE | 2 |  TRUE | 0 | 0 | 10 |  97 | 1 | 0.6998212 | 0.19371031 |  518.4783 | 25.21104 | 1218.6589 | 56.21958 | 2.35385 | 48.86282 |\n",
       "| 2 | 445.7545 | Entire home/apt | FALSE | FALSE | 4 | FALSE | 0 | 1 | 10 | 100 | 1 | 0.9689817 | 0.29434293 |  432.6899 | 21.03958 | 1069.8948 | 49.35674 | 2.36023 | 48.86375 |\n",
       "| 3 | 211.3431 | Private room    | FALSE |  TRUE | 2 | FALSE | 0 | 0 | 10 |  94 | 1 | 3.3023186 | 0.23473971 |  444.5553 | 21.61653 |  902.8564 | 41.65087 | 2.31714 | 48.87475 |\n",
       "| 4 | 266.3342 | Entire home/apt | FALSE | FALSE | 2 |  TRUE | 0 | 0 |  9 |  88 | 1 | 1.4024298 | 0.05505193 | 1013.4587 | 49.27950 | 1348.0635 | 62.18931 | 2.33408 | 48.85384 |\n",
       "| 5 | 345.0927 | Entire home/apt | FALSE | FALSE | 2 | FALSE | 0 | 1 |  9 |  91 | 1 | 0.5475705 | 0.19600551 |  542.1394 | 26.36157 | 1199.1796 | 55.32095 | 2.35600 | 48.86100 |\n",
       "\n"
      ],
      "text/plain": [
       "  ...1 realSum  room_type       room_shared room_private person_capacity\n",
       "1 0    536.3967 Entire home/apt FALSE       FALSE        5              \n",
       "2 1    290.1016 Private room    FALSE        TRUE        2              \n",
       "3 2    445.7545 Entire home/apt FALSE       FALSE        4              \n",
       "4 3    211.3431 Private room    FALSE        TRUE        2              \n",
       "5 4    266.3342 Entire home/apt FALSE       FALSE        2              \n",
       "6 5    345.0927 Entire home/apt FALSE       FALSE        2              \n",
       "  host_is_superhost multi biz cleanliness_rating guest_satisfaction_overall\n",
       "1 FALSE             0     1    9                  89                       \n",
       "2  TRUE             0     0   10                  97                       \n",
       "3 FALSE             0     1   10                 100                       \n",
       "4 FALSE             0     0   10                  94                       \n",
       "5  TRUE             0     0    9                  88                       \n",
       "6 FALSE             0     1    9                  91                       \n",
       "  bedrooms dist      metro_dist attr_index attr_index_norm rest_index\n",
       "1 1        1.3512012 0.21234554  390.7768  19.00155        1030.7385 \n",
       "2 1        0.6998212 0.19371031  518.4783  25.21104        1218.6589 \n",
       "3 1        0.9689817 0.29434293  432.6899  21.03958        1069.8948 \n",
       "4 1        3.3023186 0.23473971  444.5553  21.61653         902.8564 \n",
       "5 1        1.4024298 0.05505193 1013.4587  49.27950        1348.0635 \n",
       "6 1        0.5475705 0.19600551  542.1394  26.36157        1199.1796 \n",
       "  rest_index_norm lng     lat     \n",
       "1 47.55037        2.35900 48.86800\n",
       "2 56.21958        2.35385 48.86282\n",
       "3 49.35674        2.36023 48.86375\n",
       "4 41.65087        2.31714 48.87475\n",
       "5 62.18931        2.33408 48.85384\n",
       "6 55.32095        2.35600 48.86100"
      ]
     },
     "metadata": {},
     "output_type": "display_data"
    },
    {
     "data": {
      "text/html": [
       "<table class=\"dataframe\">\n",
       "<caption>A tibble: 6 × 20</caption>\n",
       "<thead>\n",
       "\t<tr><th scope=col>...1</th><th scope=col>realSum</th><th scope=col>room_type</th><th scope=col>room_shared</th><th scope=col>room_private</th><th scope=col>person_capacity</th><th scope=col>host_is_superhost</th><th scope=col>multi</th><th scope=col>biz</th><th scope=col>cleanliness_rating</th><th scope=col>guest_satisfaction_overall</th><th scope=col>bedrooms</th><th scope=col>dist</th><th scope=col>metro_dist</th><th scope=col>attr_index</th><th scope=col>attr_index_norm</th><th scope=col>rest_index</th><th scope=col>rest_index_norm</th><th scope=col>lng</th><th scope=col>lat</th></tr>\n",
       "\t<tr><th scope=col>&lt;dbl&gt;</th><th scope=col>&lt;dbl&gt;</th><th scope=col>&lt;chr&gt;</th><th scope=col>&lt;lgl&gt;</th><th scope=col>&lt;lgl&gt;</th><th scope=col>&lt;dbl&gt;</th><th scope=col>&lt;lgl&gt;</th><th scope=col>&lt;dbl&gt;</th><th scope=col>&lt;dbl&gt;</th><th scope=col>&lt;dbl&gt;</th><th scope=col>&lt;dbl&gt;</th><th scope=col>&lt;dbl&gt;</th><th scope=col>&lt;dbl&gt;</th><th scope=col>&lt;dbl&gt;</th><th scope=col>&lt;dbl&gt;</th><th scope=col>&lt;dbl&gt;</th><th scope=col>&lt;dbl&gt;</th><th scope=col>&lt;dbl&gt;</th><th scope=col>&lt;dbl&gt;</th><th scope=col>&lt;dbl&gt;</th></tr>\n",
       "</thead>\n",
       "<tbody>\n",
       "\t<tr><td>0</td><td>250.5668</td><td>Entire home/apt</td><td>FALSE</td><td>FALSE</td><td>3</td><td> TRUE</td><td>1</td><td>0</td><td>10</td><td>99</td><td>1</td><td>1.732893</td><td>0.2126271</td><td>118.64683</td><td>8.496979</td><td>185.09672</td><td>4.424871</td><td>16.36500</td><td>48.22300</td></tr>\n",
       "\t<tr><td>1</td><td>156.6043</td><td>Entire home/apt</td><td>FALSE</td><td>FALSE</td><td>3</td><td>FALSE</td><td>0</td><td>0</td><td>10</td><td>97</td><td>1</td><td>4.807912</td><td>0.2282531</td><td> 80.14502</td><td>5.739643</td><td> 85.72760</td><td>2.049380</td><td>16.33356</td><td>48.17459</td></tr>\n",
       "\t<tr><td>2</td><td>283.0564</td><td>Entire home/apt</td><td>FALSE</td><td>FALSE</td><td>5</td><td> TRUE</td><td>0</td><td>1</td><td>10</td><td>95</td><td>2</td><td>2.811773</td><td>0.2441629</td><td>101.24811</td><td>7.250957</td><td>151.36429</td><td>3.618473</td><td>16.33600</td><td>48.21100</td></tr>\n",
       "\t<tr><td>3</td><td>301.7554</td><td>Entire home/apt</td><td>FALSE</td><td>FALSE</td><td>4</td><td> TRUE</td><td>0</td><td>1</td><td>10</td><td>94</td><td>2</td><td>3.240595</td><td>0.6104299</td><td> 92.47394</td><td>6.622588</td><td>129.86383</td><td>3.104489</td><td>16.33006</td><td>48.20921</td></tr>\n",
       "\t<tr><td>4</td><td>150.7608</td><td>Entire home/apt</td><td>FALSE</td><td>FALSE</td><td>2</td><td> TRUE</td><td>0</td><td>1</td><td>10</td><td>96</td><td>1</td><td>2.241146</td><td>1.1195067</td><td>124.25677</td><td>8.898738</td><td>154.34897</td><td>3.689824</td><td>16.38867</td><td>48.19104</td></tr>\n",
       "\t<tr><td>5</td><td>162.4477</td><td>Private room   </td><td>FALSE</td><td> TRUE</td><td>2</td><td> TRUE</td><td>1</td><td>0</td><td>10</td><td>99</td><td>1</td><td>4.611961</td><td>0.1999263</td><td> 52.07794</td><td>3.729599</td><td> 75.51554</td><td>1.805254</td><td>16.39755</td><td>48.24682</td></tr>\n",
       "</tbody>\n",
       "</table>\n"
      ],
      "text/latex": [
       "A tibble: 6 × 20\n",
       "\\begin{tabular}{llllllllllllllllllll}\n",
       " ...1 & realSum & room\\_type & room\\_shared & room\\_private & person\\_capacity & host\\_is\\_superhost & multi & biz & cleanliness\\_rating & guest\\_satisfaction\\_overall & bedrooms & dist & metro\\_dist & attr\\_index & attr\\_index\\_norm & rest\\_index & rest\\_index\\_norm & lng & lat\\\\\n",
       " <dbl> & <dbl> & <chr> & <lgl> & <lgl> & <dbl> & <lgl> & <dbl> & <dbl> & <dbl> & <dbl> & <dbl> & <dbl> & <dbl> & <dbl> & <dbl> & <dbl> & <dbl> & <dbl> & <dbl>\\\\\n",
       "\\hline\n",
       "\t 0 & 250.5668 & Entire home/apt & FALSE & FALSE & 3 &  TRUE & 1 & 0 & 10 & 99 & 1 & 1.732893 & 0.2126271 & 118.64683 & 8.496979 & 185.09672 & 4.424871 & 16.36500 & 48.22300\\\\\n",
       "\t 1 & 156.6043 & Entire home/apt & FALSE & FALSE & 3 & FALSE & 0 & 0 & 10 & 97 & 1 & 4.807912 & 0.2282531 &  80.14502 & 5.739643 &  85.72760 & 2.049380 & 16.33356 & 48.17459\\\\\n",
       "\t 2 & 283.0564 & Entire home/apt & FALSE & FALSE & 5 &  TRUE & 0 & 1 & 10 & 95 & 2 & 2.811773 & 0.2441629 & 101.24811 & 7.250957 & 151.36429 & 3.618473 & 16.33600 & 48.21100\\\\\n",
       "\t 3 & 301.7554 & Entire home/apt & FALSE & FALSE & 4 &  TRUE & 0 & 1 & 10 & 94 & 2 & 3.240595 & 0.6104299 &  92.47394 & 6.622588 & 129.86383 & 3.104489 & 16.33006 & 48.20921\\\\\n",
       "\t 4 & 150.7608 & Entire home/apt & FALSE & FALSE & 2 &  TRUE & 0 & 1 & 10 & 96 & 1 & 2.241146 & 1.1195067 & 124.25677 & 8.898738 & 154.34897 & 3.689824 & 16.38867 & 48.19104\\\\\n",
       "\t 5 & 162.4477 & Private room    & FALSE &  TRUE & 2 &  TRUE & 1 & 0 & 10 & 99 & 1 & 4.611961 & 0.1999263 &  52.07794 & 3.729599 &  75.51554 & 1.805254 & 16.39755 & 48.24682\\\\\n",
       "\\end{tabular}\n"
      ],
      "text/markdown": [
       "\n",
       "A tibble: 6 × 20\n",
       "\n",
       "| ...1 &lt;dbl&gt; | realSum &lt;dbl&gt; | room_type &lt;chr&gt; | room_shared &lt;lgl&gt; | room_private &lt;lgl&gt; | person_capacity &lt;dbl&gt; | host_is_superhost &lt;lgl&gt; | multi &lt;dbl&gt; | biz &lt;dbl&gt; | cleanliness_rating &lt;dbl&gt; | guest_satisfaction_overall &lt;dbl&gt; | bedrooms &lt;dbl&gt; | dist &lt;dbl&gt; | metro_dist &lt;dbl&gt; | attr_index &lt;dbl&gt; | attr_index_norm &lt;dbl&gt; | rest_index &lt;dbl&gt; | rest_index_norm &lt;dbl&gt; | lng &lt;dbl&gt; | lat &lt;dbl&gt; |\n",
       "|---|---|---|---|---|---|---|---|---|---|---|---|---|---|---|---|---|---|---|---|\n",
       "| 0 | 250.5668 | Entire home/apt | FALSE | FALSE | 3 |  TRUE | 1 | 0 | 10 | 99 | 1 | 1.732893 | 0.2126271 | 118.64683 | 8.496979 | 185.09672 | 4.424871 | 16.36500 | 48.22300 |\n",
       "| 1 | 156.6043 | Entire home/apt | FALSE | FALSE | 3 | FALSE | 0 | 0 | 10 | 97 | 1 | 4.807912 | 0.2282531 |  80.14502 | 5.739643 |  85.72760 | 2.049380 | 16.33356 | 48.17459 |\n",
       "| 2 | 283.0564 | Entire home/apt | FALSE | FALSE | 5 |  TRUE | 0 | 1 | 10 | 95 | 2 | 2.811773 | 0.2441629 | 101.24811 | 7.250957 | 151.36429 | 3.618473 | 16.33600 | 48.21100 |\n",
       "| 3 | 301.7554 | Entire home/apt | FALSE | FALSE | 4 |  TRUE | 0 | 1 | 10 | 94 | 2 | 3.240595 | 0.6104299 |  92.47394 | 6.622588 | 129.86383 | 3.104489 | 16.33006 | 48.20921 |\n",
       "| 4 | 150.7608 | Entire home/apt | FALSE | FALSE | 2 |  TRUE | 0 | 1 | 10 | 96 | 1 | 2.241146 | 1.1195067 | 124.25677 | 8.898738 | 154.34897 | 3.689824 | 16.38867 | 48.19104 |\n",
       "| 5 | 162.4477 | Private room    | FALSE |  TRUE | 2 |  TRUE | 1 | 0 | 10 | 99 | 1 | 4.611961 | 0.1999263 |  52.07794 | 3.729599 |  75.51554 | 1.805254 | 16.39755 | 48.24682 |\n",
       "\n"
      ],
      "text/plain": [
       "  ...1 realSum  room_type       room_shared room_private person_capacity\n",
       "1 0    250.5668 Entire home/apt FALSE       FALSE        3              \n",
       "2 1    156.6043 Entire home/apt FALSE       FALSE        3              \n",
       "3 2    283.0564 Entire home/apt FALSE       FALSE        5              \n",
       "4 3    301.7554 Entire home/apt FALSE       FALSE        4              \n",
       "5 4    150.7608 Entire home/apt FALSE       FALSE        2              \n",
       "6 5    162.4477 Private room    FALSE        TRUE        2              \n",
       "  host_is_superhost multi biz cleanliness_rating guest_satisfaction_overall\n",
       "1  TRUE             1     0   10                 99                        \n",
       "2 FALSE             0     0   10                 97                        \n",
       "3  TRUE             0     1   10                 95                        \n",
       "4  TRUE             0     1   10                 94                        \n",
       "5  TRUE             0     1   10                 96                        \n",
       "6  TRUE             1     0   10                 99                        \n",
       "  bedrooms dist     metro_dist attr_index attr_index_norm rest_index\n",
       "1 1        1.732893 0.2126271  118.64683  8.496979        185.09672 \n",
       "2 1        4.807912 0.2282531   80.14502  5.739643         85.72760 \n",
       "3 2        2.811773 0.2441629  101.24811  7.250957        151.36429 \n",
       "4 2        3.240595 0.6104299   92.47394  6.622588        129.86383 \n",
       "5 1        2.241146 1.1195067  124.25677  8.898738        154.34897 \n",
       "6 1        4.611961 0.1999263   52.07794  3.729599         75.51554 \n",
       "  rest_index_norm lng      lat     \n",
       "1 4.424871        16.36500 48.22300\n",
       "2 2.049380        16.33356 48.17459\n",
       "3 3.618473        16.33600 48.21100\n",
       "4 3.104489        16.33006 48.20921\n",
       "5 3.689824        16.38867 48.19104\n",
       "6 1.805254        16.39755 48.24682"
      ]
     },
     "metadata": {},
     "output_type": "display_data"
    },
    {
     "data": {
      "text/html": [
       "<table class=\"dataframe\">\n",
       "<caption>A tibble: 6 × 20</caption>\n",
       "<thead>\n",
       "\t<tr><th scope=col>...1</th><th scope=col>realSum</th><th scope=col>room_type</th><th scope=col>room_shared</th><th scope=col>room_private</th><th scope=col>person_capacity</th><th scope=col>host_is_superhost</th><th scope=col>multi</th><th scope=col>biz</th><th scope=col>cleanliness_rating</th><th scope=col>guest_satisfaction_overall</th><th scope=col>bedrooms</th><th scope=col>dist</th><th scope=col>metro_dist</th><th scope=col>attr_index</th><th scope=col>attr_index_norm</th><th scope=col>rest_index</th><th scope=col>rest_index_norm</th><th scope=col>lng</th><th scope=col>lat</th></tr>\n",
       "\t<tr><th scope=col>&lt;dbl&gt;</th><th scope=col>&lt;dbl&gt;</th><th scope=col>&lt;chr&gt;</th><th scope=col>&lt;lgl&gt;</th><th scope=col>&lt;lgl&gt;</th><th scope=col>&lt;dbl&gt;</th><th scope=col>&lt;lgl&gt;</th><th scope=col>&lt;dbl&gt;</th><th scope=col>&lt;dbl&gt;</th><th scope=col>&lt;dbl&gt;</th><th scope=col>&lt;dbl&gt;</th><th scope=col>&lt;dbl&gt;</th><th scope=col>&lt;dbl&gt;</th><th scope=col>&lt;dbl&gt;</th><th scope=col>&lt;dbl&gt;</th><th scope=col>&lt;dbl&gt;</th><th scope=col>&lt;dbl&gt;</th><th scope=col>&lt;dbl&gt;</th><th scope=col>&lt;dbl&gt;</th><th scope=col>&lt;dbl&gt;</th></tr>\n",
       "</thead>\n",
       "<tbody>\n",
       "\t<tr><td>0</td><td>324.6617</td><td>Entire home/apt</td><td>FALSE</td><td>FALSE</td><td>4</td><td> TRUE</td><td>0</td><td>1</td><td>10</td><td>94</td><td>2</td><td>3.240613</td><td>0.6104498</td><td> 92.47347</td><td> 6.622340</td><td>129.86288</td><td>3.138736</td><td>16.33006</td><td>48.20921</td></tr>\n",
       "\t<tr><td>1</td><td>150.7608</td><td>Entire home/apt</td><td>FALSE</td><td>FALSE</td><td>2</td><td> TRUE</td><td>0</td><td>1</td><td>10</td><td>96</td><td>1</td><td>2.241126</td><td>1.1195048</td><td>124.25800</td><td> 8.898538</td><td>154.35032</td><td>3.730588</td><td>16.38867</td><td>48.19104</td></tr>\n",
       "\t<tr><td>2</td><td>196.3397</td><td>Entire home/apt</td><td>FALSE</td><td>FALSE</td><td>3</td><td> TRUE</td><td>0</td><td>1</td><td> 9</td><td>91</td><td>1</td><td>2.371551</td><td>0.4524187</td><td>125.41313</td><td> 8.981261</td><td>206.64249</td><td>4.994469</td><td>16.34236</td><td>48.20436</td></tr>\n",
       "\t<tr><td>3</td><td>107.7531</td><td>Private room   </td><td>FALSE</td><td> TRUE</td><td>2</td><td>FALSE</td><td>0</td><td>0</td><td> 8</td><td>92</td><td>1</td><td>3.629114</td><td>0.4731637</td><td> 62.45942</td><td> 4.472931</td><td> 93.81071</td><td>2.267369</td><td>16.37837</td><td>48.24102</td></tr>\n",
       "\t<tr><td>4</td><td>196.3397</td><td>Entire home/apt</td><td>FALSE</td><td>FALSE</td><td>4</td><td> TRUE</td><td>0</td><td>1</td><td> 9</td><td>94</td><td>1</td><td>2.395063</td><td>0.4436346</td><td>124.02036</td><td> 8.881520</td><td>202.31807</td><td>4.889950</td><td>16.34198</td><td>48.20456</td></tr>\n",
       "\t<tr><td>5</td><td>212.2338</td><td>Entire home/apt</td><td>FALSE</td><td>FALSE</td><td>2</td><td> TRUE</td><td>1</td><td>0</td><td>10</td><td>97</td><td>1</td><td>2.011143</td><td>0.6790809</td><td>145.34915</td><td>10.408947</td><td>237.98831</td><td>5.752086</td><td>16.34682</td><td>48.20620</td></tr>\n",
       "</tbody>\n",
       "</table>\n"
      ],
      "text/latex": [
       "A tibble: 6 × 20\n",
       "\\begin{tabular}{llllllllllllllllllll}\n",
       " ...1 & realSum & room\\_type & room\\_shared & room\\_private & person\\_capacity & host\\_is\\_superhost & multi & biz & cleanliness\\_rating & guest\\_satisfaction\\_overall & bedrooms & dist & metro\\_dist & attr\\_index & attr\\_index\\_norm & rest\\_index & rest\\_index\\_norm & lng & lat\\\\\n",
       " <dbl> & <dbl> & <chr> & <lgl> & <lgl> & <dbl> & <lgl> & <dbl> & <dbl> & <dbl> & <dbl> & <dbl> & <dbl> & <dbl> & <dbl> & <dbl> & <dbl> & <dbl> & <dbl> & <dbl>\\\\\n",
       "\\hline\n",
       "\t 0 & 324.6617 & Entire home/apt & FALSE & FALSE & 4 &  TRUE & 0 & 1 & 10 & 94 & 2 & 3.240613 & 0.6104498 &  92.47347 &  6.622340 & 129.86288 & 3.138736 & 16.33006 & 48.20921\\\\\n",
       "\t 1 & 150.7608 & Entire home/apt & FALSE & FALSE & 2 &  TRUE & 0 & 1 & 10 & 96 & 1 & 2.241126 & 1.1195048 & 124.25800 &  8.898538 & 154.35032 & 3.730588 & 16.38867 & 48.19104\\\\\n",
       "\t 2 & 196.3397 & Entire home/apt & FALSE & FALSE & 3 &  TRUE & 0 & 1 &  9 & 91 & 1 & 2.371551 & 0.4524187 & 125.41313 &  8.981261 & 206.64249 & 4.994469 & 16.34236 & 48.20436\\\\\n",
       "\t 3 & 107.7531 & Private room    & FALSE &  TRUE & 2 & FALSE & 0 & 0 &  8 & 92 & 1 & 3.629114 & 0.4731637 &  62.45942 &  4.472931 &  93.81071 & 2.267369 & 16.37837 & 48.24102\\\\\n",
       "\t 4 & 196.3397 & Entire home/apt & FALSE & FALSE & 4 &  TRUE & 0 & 1 &  9 & 94 & 1 & 2.395063 & 0.4436346 & 124.02036 &  8.881520 & 202.31807 & 4.889950 & 16.34198 & 48.20456\\\\\n",
       "\t 5 & 212.2338 & Entire home/apt & FALSE & FALSE & 2 &  TRUE & 1 & 0 & 10 & 97 & 1 & 2.011143 & 0.6790809 & 145.34915 & 10.408947 & 237.98831 & 5.752086 & 16.34682 & 48.20620\\\\\n",
       "\\end{tabular}\n"
      ],
      "text/markdown": [
       "\n",
       "A tibble: 6 × 20\n",
       "\n",
       "| ...1 &lt;dbl&gt; | realSum &lt;dbl&gt; | room_type &lt;chr&gt; | room_shared &lt;lgl&gt; | room_private &lt;lgl&gt; | person_capacity &lt;dbl&gt; | host_is_superhost &lt;lgl&gt; | multi &lt;dbl&gt; | biz &lt;dbl&gt; | cleanliness_rating &lt;dbl&gt; | guest_satisfaction_overall &lt;dbl&gt; | bedrooms &lt;dbl&gt; | dist &lt;dbl&gt; | metro_dist &lt;dbl&gt; | attr_index &lt;dbl&gt; | attr_index_norm &lt;dbl&gt; | rest_index &lt;dbl&gt; | rest_index_norm &lt;dbl&gt; | lng &lt;dbl&gt; | lat &lt;dbl&gt; |\n",
       "|---|---|---|---|---|---|---|---|---|---|---|---|---|---|---|---|---|---|---|---|\n",
       "| 0 | 324.6617 | Entire home/apt | FALSE | FALSE | 4 |  TRUE | 0 | 1 | 10 | 94 | 2 | 3.240613 | 0.6104498 |  92.47347 |  6.622340 | 129.86288 | 3.138736 | 16.33006 | 48.20921 |\n",
       "| 1 | 150.7608 | Entire home/apt | FALSE | FALSE | 2 |  TRUE | 0 | 1 | 10 | 96 | 1 | 2.241126 | 1.1195048 | 124.25800 |  8.898538 | 154.35032 | 3.730588 | 16.38867 | 48.19104 |\n",
       "| 2 | 196.3397 | Entire home/apt | FALSE | FALSE | 3 |  TRUE | 0 | 1 |  9 | 91 | 1 | 2.371551 | 0.4524187 | 125.41313 |  8.981261 | 206.64249 | 4.994469 | 16.34236 | 48.20436 |\n",
       "| 3 | 107.7531 | Private room    | FALSE |  TRUE | 2 | FALSE | 0 | 0 |  8 | 92 | 1 | 3.629114 | 0.4731637 |  62.45942 |  4.472931 |  93.81071 | 2.267369 | 16.37837 | 48.24102 |\n",
       "| 4 | 196.3397 | Entire home/apt | FALSE | FALSE | 4 |  TRUE | 0 | 1 |  9 | 94 | 1 | 2.395063 | 0.4436346 | 124.02036 |  8.881520 | 202.31807 | 4.889950 | 16.34198 | 48.20456 |\n",
       "| 5 | 212.2338 | Entire home/apt | FALSE | FALSE | 2 |  TRUE | 1 | 0 | 10 | 97 | 1 | 2.011143 | 0.6790809 | 145.34915 | 10.408947 | 237.98831 | 5.752086 | 16.34682 | 48.20620 |\n",
       "\n"
      ],
      "text/plain": [
       "  ...1 realSum  room_type       room_shared room_private person_capacity\n",
       "1 0    324.6617 Entire home/apt FALSE       FALSE        4              \n",
       "2 1    150.7608 Entire home/apt FALSE       FALSE        2              \n",
       "3 2    196.3397 Entire home/apt FALSE       FALSE        3              \n",
       "4 3    107.7531 Private room    FALSE        TRUE        2              \n",
       "5 4    196.3397 Entire home/apt FALSE       FALSE        4              \n",
       "6 5    212.2338 Entire home/apt FALSE       FALSE        2              \n",
       "  host_is_superhost multi biz cleanliness_rating guest_satisfaction_overall\n",
       "1  TRUE             0     1   10                 94                        \n",
       "2  TRUE             0     1   10                 96                        \n",
       "3  TRUE             0     1    9                 91                        \n",
       "4 FALSE             0     0    8                 92                        \n",
       "5  TRUE             0     1    9                 94                        \n",
       "6  TRUE             1     0   10                 97                        \n",
       "  bedrooms dist     metro_dist attr_index attr_index_norm rest_index\n",
       "1 2        3.240613 0.6104498   92.47347   6.622340       129.86288 \n",
       "2 1        2.241126 1.1195048  124.25800   8.898538       154.35032 \n",
       "3 1        2.371551 0.4524187  125.41313   8.981261       206.64249 \n",
       "4 1        3.629114 0.4731637   62.45942   4.472931        93.81071 \n",
       "5 1        2.395063 0.4436346  124.02036   8.881520       202.31807 \n",
       "6 1        2.011143 0.6790809  145.34915  10.408947       237.98831 \n",
       "  rest_index_norm lng      lat     \n",
       "1 3.138736        16.33006 48.20921\n",
       "2 3.730588        16.38867 48.19104\n",
       "3 4.994469        16.34236 48.20436\n",
       "4 2.267369        16.37837 48.24102\n",
       "5 4.889950        16.34198 48.20456\n",
       "6 5.752086        16.34682 48.20620"
      ]
     },
     "metadata": {},
     "output_type": "display_data"
    },
    {
     "data": {
      "text/html": [
       "<table class=\"dataframe\">\n",
       "<caption>A tibble: 6 × 20</caption>\n",
       "<thead>\n",
       "\t<tr><th scope=col>...1</th><th scope=col>realSum</th><th scope=col>room_type</th><th scope=col>room_shared</th><th scope=col>room_private</th><th scope=col>person_capacity</th><th scope=col>host_is_superhost</th><th scope=col>multi</th><th scope=col>biz</th><th scope=col>cleanliness_rating</th><th scope=col>guest_satisfaction_overall</th><th scope=col>bedrooms</th><th scope=col>dist</th><th scope=col>metro_dist</th><th scope=col>attr_index</th><th scope=col>attr_index_norm</th><th scope=col>rest_index</th><th scope=col>rest_index_norm</th><th scope=col>lng</th><th scope=col>lat</th></tr>\n",
       "\t<tr><th scope=col>&lt;dbl&gt;</th><th scope=col>&lt;dbl&gt;</th><th scope=col>&lt;chr&gt;</th><th scope=col>&lt;lgl&gt;</th><th scope=col>&lt;lgl&gt;</th><th scope=col>&lt;dbl&gt;</th><th scope=col>&lt;lgl&gt;</th><th scope=col>&lt;dbl&gt;</th><th scope=col>&lt;dbl&gt;</th><th scope=col>&lt;dbl&gt;</th><th scope=col>&lt;dbl&gt;</th><th scope=col>&lt;dbl&gt;</th><th scope=col>&lt;dbl&gt;</th><th scope=col>&lt;dbl&gt;</th><th scope=col>&lt;dbl&gt;</th><th scope=col>&lt;dbl&gt;</th><th scope=col>&lt;dbl&gt;</th><th scope=col>&lt;dbl&gt;</th><th scope=col>&lt;dbl&gt;</th><th scope=col>&lt;dbl&gt;</th></tr>\n",
       "</thead>\n",
       "<tbody>\n",
       "\t<tr><td>0</td><td>474.3175</td><td>Entire home/apt</td><td>FALSE</td><td>FALSE</td><td>4</td><td>FALSE</td><td>0</td><td>1</td><td>10</td><td> 91</td><td>1</td><td>1.111996</td><td>0.63049095</td><td>526.4694</td><td>17.94293</td><td>915.5871</td><td>20.15489</td><td>2.17556</td><td>41.39624</td></tr>\n",
       "\t<tr><td>1</td><td>169.8978</td><td>Private room   </td><td>FALSE</td><td> TRUE</td><td>2</td><td> TRUE</td><td>1</td><td>0</td><td>10</td><td> 88</td><td>1</td><td>1.751839</td><td>0.12401717</td><td>320.1275</td><td>10.91046</td><td>794.2774</td><td>17.48449</td><td>2.14906</td><td>41.38714</td></tr>\n",
       "\t<tr><td>2</td><td>161.9848</td><td>Private room   </td><td>FALSE</td><td> TRUE</td><td>4</td><td>FALSE</td><td>0</td><td>1</td><td> 9</td><td> 88</td><td>1</td><td>1.670493</td><td>0.08032198</td><td>344.0739</td><td>11.72659</td><td>840.6736</td><td>18.50581</td><td>2.15357</td><td>41.37859</td></tr>\n",
       "\t<tr><td>3</td><td>367.9568</td><td>Entire home/apt</td><td>FALSE</td><td>FALSE</td><td>3</td><td>FALSE</td><td>0</td><td>1</td><td>10</td><td> 91</td><td>1</td><td>1.475847</td><td>0.09310686</td><td>400.0574</td><td>13.63460</td><td>946.5899</td><td>20.83736</td><td>2.16839</td><td>41.37390</td></tr>\n",
       "\t<tr><td>4</td><td>196.8953</td><td>Private room   </td><td>FALSE</td><td> TRUE</td><td>3</td><td>FALSE</td><td>1</td><td>0</td><td> 9</td><td> 91</td><td>1</td><td>1.855452</td><td>0.27248605</td><td>346.0422</td><td>11.79368</td><td>792.2960</td><td>17.44087</td><td>2.15238</td><td>41.37699</td></tr>\n",
       "\t<tr><td>5</td><td>330.9517</td><td>Entire home/apt</td><td>FALSE</td><td>FALSE</td><td>3</td><td>FALSE</td><td>0</td><td>1</td><td> 9</td><td>100</td><td>2</td><td>2.565611</td><td>0.70129045</td><td>391.0874</td><td>13.32889</td><td>525.5139</td><td>11.56818</td><td>2.18197</td><td>41.40842</td></tr>\n",
       "</tbody>\n",
       "</table>\n"
      ],
      "text/latex": [
       "A tibble: 6 × 20\n",
       "\\begin{tabular}{llllllllllllllllllll}\n",
       " ...1 & realSum & room\\_type & room\\_shared & room\\_private & person\\_capacity & host\\_is\\_superhost & multi & biz & cleanliness\\_rating & guest\\_satisfaction\\_overall & bedrooms & dist & metro\\_dist & attr\\_index & attr\\_index\\_norm & rest\\_index & rest\\_index\\_norm & lng & lat\\\\\n",
       " <dbl> & <dbl> & <chr> & <lgl> & <lgl> & <dbl> & <lgl> & <dbl> & <dbl> & <dbl> & <dbl> & <dbl> & <dbl> & <dbl> & <dbl> & <dbl> & <dbl> & <dbl> & <dbl> & <dbl>\\\\\n",
       "\\hline\n",
       "\t 0 & 474.3175 & Entire home/apt & FALSE & FALSE & 4 & FALSE & 0 & 1 & 10 &  91 & 1 & 1.111996 & 0.63049095 & 526.4694 & 17.94293 & 915.5871 & 20.15489 & 2.17556 & 41.39624\\\\\n",
       "\t 1 & 169.8978 & Private room    & FALSE &  TRUE & 2 &  TRUE & 1 & 0 & 10 &  88 & 1 & 1.751839 & 0.12401717 & 320.1275 & 10.91046 & 794.2774 & 17.48449 & 2.14906 & 41.38714\\\\\n",
       "\t 2 & 161.9848 & Private room    & FALSE &  TRUE & 4 & FALSE & 0 & 1 &  9 &  88 & 1 & 1.670493 & 0.08032198 & 344.0739 & 11.72659 & 840.6736 & 18.50581 & 2.15357 & 41.37859\\\\\n",
       "\t 3 & 367.9568 & Entire home/apt & FALSE & FALSE & 3 & FALSE & 0 & 1 & 10 &  91 & 1 & 1.475847 & 0.09310686 & 400.0574 & 13.63460 & 946.5899 & 20.83736 & 2.16839 & 41.37390\\\\\n",
       "\t 4 & 196.8953 & Private room    & FALSE &  TRUE & 3 & FALSE & 1 & 0 &  9 &  91 & 1 & 1.855452 & 0.27248605 & 346.0422 & 11.79368 & 792.2960 & 17.44087 & 2.15238 & 41.37699\\\\\n",
       "\t 5 & 330.9517 & Entire home/apt & FALSE & FALSE & 3 & FALSE & 0 & 1 &  9 & 100 & 2 & 2.565611 & 0.70129045 & 391.0874 & 13.32889 & 525.5139 & 11.56818 & 2.18197 & 41.40842\\\\\n",
       "\\end{tabular}\n"
      ],
      "text/markdown": [
       "\n",
       "A tibble: 6 × 20\n",
       "\n",
       "| ...1 &lt;dbl&gt; | realSum &lt;dbl&gt; | room_type &lt;chr&gt; | room_shared &lt;lgl&gt; | room_private &lt;lgl&gt; | person_capacity &lt;dbl&gt; | host_is_superhost &lt;lgl&gt; | multi &lt;dbl&gt; | biz &lt;dbl&gt; | cleanliness_rating &lt;dbl&gt; | guest_satisfaction_overall &lt;dbl&gt; | bedrooms &lt;dbl&gt; | dist &lt;dbl&gt; | metro_dist &lt;dbl&gt; | attr_index &lt;dbl&gt; | attr_index_norm &lt;dbl&gt; | rest_index &lt;dbl&gt; | rest_index_norm &lt;dbl&gt; | lng &lt;dbl&gt; | lat &lt;dbl&gt; |\n",
       "|---|---|---|---|---|---|---|---|---|---|---|---|---|---|---|---|---|---|---|---|\n",
       "| 0 | 474.3175 | Entire home/apt | FALSE | FALSE | 4 | FALSE | 0 | 1 | 10 |  91 | 1 | 1.111996 | 0.63049095 | 526.4694 | 17.94293 | 915.5871 | 20.15489 | 2.17556 | 41.39624 |\n",
       "| 1 | 169.8978 | Private room    | FALSE |  TRUE | 2 |  TRUE | 1 | 0 | 10 |  88 | 1 | 1.751839 | 0.12401717 | 320.1275 | 10.91046 | 794.2774 | 17.48449 | 2.14906 | 41.38714 |\n",
       "| 2 | 161.9848 | Private room    | FALSE |  TRUE | 4 | FALSE | 0 | 1 |  9 |  88 | 1 | 1.670493 | 0.08032198 | 344.0739 | 11.72659 | 840.6736 | 18.50581 | 2.15357 | 41.37859 |\n",
       "| 3 | 367.9568 | Entire home/apt | FALSE | FALSE | 3 | FALSE | 0 | 1 | 10 |  91 | 1 | 1.475847 | 0.09310686 | 400.0574 | 13.63460 | 946.5899 | 20.83736 | 2.16839 | 41.37390 |\n",
       "| 4 | 196.8953 | Private room    | FALSE |  TRUE | 3 | FALSE | 1 | 0 |  9 |  91 | 1 | 1.855452 | 0.27248605 | 346.0422 | 11.79368 | 792.2960 | 17.44087 | 2.15238 | 41.37699 |\n",
       "| 5 | 330.9517 | Entire home/apt | FALSE | FALSE | 3 | FALSE | 0 | 1 |  9 | 100 | 2 | 2.565611 | 0.70129045 | 391.0874 | 13.32889 | 525.5139 | 11.56818 | 2.18197 | 41.40842 |\n",
       "\n"
      ],
      "text/plain": [
       "  ...1 realSum  room_type       room_shared room_private person_capacity\n",
       "1 0    474.3175 Entire home/apt FALSE       FALSE        4              \n",
       "2 1    169.8978 Private room    FALSE        TRUE        2              \n",
       "3 2    161.9848 Private room    FALSE        TRUE        4              \n",
       "4 3    367.9568 Entire home/apt FALSE       FALSE        3              \n",
       "5 4    196.8953 Private room    FALSE        TRUE        3              \n",
       "6 5    330.9517 Entire home/apt FALSE       FALSE        3              \n",
       "  host_is_superhost multi biz cleanliness_rating guest_satisfaction_overall\n",
       "1 FALSE             0     1   10                  91                       \n",
       "2  TRUE             1     0   10                  88                       \n",
       "3 FALSE             0     1    9                  88                       \n",
       "4 FALSE             0     1   10                  91                       \n",
       "5 FALSE             1     0    9                  91                       \n",
       "6 FALSE             0     1    9                 100                       \n",
       "  bedrooms dist     metro_dist attr_index attr_index_norm rest_index\n",
       "1 1        1.111996 0.63049095 526.4694   17.94293        915.5871  \n",
       "2 1        1.751839 0.12401717 320.1275   10.91046        794.2774  \n",
       "3 1        1.670493 0.08032198 344.0739   11.72659        840.6736  \n",
       "4 1        1.475847 0.09310686 400.0574   13.63460        946.5899  \n",
       "5 1        1.855452 0.27248605 346.0422   11.79368        792.2960  \n",
       "6 2        2.565611 0.70129045 391.0874   13.32889        525.5139  \n",
       "  rest_index_norm lng     lat     \n",
       "1 20.15489        2.17556 41.39624\n",
       "2 17.48449        2.14906 41.38714\n",
       "3 18.50581        2.15357 41.37859\n",
       "4 20.83736        2.16839 41.37390\n",
       "5 17.44087        2.15238 41.37699\n",
       "6 11.56818        2.18197 41.40842"
      ]
     },
     "metadata": {},
     "output_type": "display_data"
    },
    {
     "data": {
      "text/html": [
       "<table class=\"dataframe\">\n",
       "<caption>A tibble: 6 × 20</caption>\n",
       "<thead>\n",
       "\t<tr><th scope=col>...1</th><th scope=col>realSum</th><th scope=col>room_type</th><th scope=col>room_shared</th><th scope=col>room_private</th><th scope=col>person_capacity</th><th scope=col>host_is_superhost</th><th scope=col>multi</th><th scope=col>biz</th><th scope=col>cleanliness_rating</th><th scope=col>guest_satisfaction_overall</th><th scope=col>bedrooms</th><th scope=col>dist</th><th scope=col>metro_dist</th><th scope=col>attr_index</th><th scope=col>attr_index_norm</th><th scope=col>rest_index</th><th scope=col>rest_index_norm</th><th scope=col>lng</th><th scope=col>lat</th></tr>\n",
       "\t<tr><th scope=col>&lt;dbl&gt;</th><th scope=col>&lt;dbl&gt;</th><th scope=col>&lt;chr&gt;</th><th scope=col>&lt;lgl&gt;</th><th scope=col>&lt;lgl&gt;</th><th scope=col>&lt;dbl&gt;</th><th scope=col>&lt;lgl&gt;</th><th scope=col>&lt;dbl&gt;</th><th scope=col>&lt;dbl&gt;</th><th scope=col>&lt;dbl&gt;</th><th scope=col>&lt;dbl&gt;</th><th scope=col>&lt;dbl&gt;</th><th scope=col>&lt;dbl&gt;</th><th scope=col>&lt;dbl&gt;</th><th scope=col>&lt;dbl&gt;</th><th scope=col>&lt;dbl&gt;</th><th scope=col>&lt;dbl&gt;</th><th scope=col>&lt;dbl&gt;</th><th scope=col>&lt;dbl&gt;</th><th scope=col>&lt;dbl&gt;</th></tr>\n",
       "</thead>\n",
       "<tbody>\n",
       "\t<tr><td>0</td><td>532.0362</td><td>Entire home/apt</td><td>FALSE</td><td>FALSE</td><td>4</td><td>FALSE</td><td>0</td><td>1</td><td>10</td><td>91</td><td>1</td><td>1.1119980</td><td>0.63050396</td><td>526.4715</td><td>20.32767</td><td> 915.5915</td><td>20.11247</td><td>2.17556</td><td>41.39624</td></tr>\n",
       "\t<tr><td>1</td><td>169.8978</td><td>Private room   </td><td>FALSE</td><td> TRUE</td><td>2</td><td> TRUE</td><td>1</td><td>0</td><td>10</td><td>88</td><td>1</td><td>1.7518309</td><td>0.12401273</td><td>320.1283</td><td>12.36052</td><td> 794.2797</td><td>17.44766</td><td>2.14906</td><td>41.38714</td></tr>\n",
       "\t<tr><td>2</td><td>196.8953</td><td>Private room   </td><td>FALSE</td><td> TRUE</td><td>2</td><td>FALSE</td><td>1</td><td>0</td><td> 9</td><td>90</td><td>1</td><td>0.6217308</td><td>0.29751560</td><td>503.3540</td><td>19.43508</td><td>1242.4342</td><td>27.29211</td><td>2.16500</td><td>41.38300</td></tr>\n",
       "\t<tr><td>3</td><td>141.2712</td><td>Private room   </td><td>FALSE</td><td> TRUE</td><td>3</td><td>FALSE</td><td>0</td><td>1</td><td> 9</td><td>86</td><td>1</td><td>1.6483109</td><td>0.08944189</td><td>342.5958</td><td>13.22802</td><td> 820.9220</td><td>18.03290</td><td>2.15342</td><td>41.37912</td></tr>\n",
       "\t<tr><td>4</td><td>715.2000</td><td>Entire home/apt</td><td>FALSE</td><td>FALSE</td><td>4</td><td> TRUE</td><td>0</td><td>1</td><td> 9</td><td>95</td><td>2</td><td>0.6935603</td><td>0.35765301</td><td>537.8031</td><td>20.76520</td><td>1081.5601</td><td>23.75824</td><td>2.17498</td><td>41.39214</td></tr>\n",
       "\t<tr><td>5</td><td>173.3889</td><td>Private room   </td><td>FALSE</td><td> TRUE</td><td>2</td><td>FALSE</td><td>0</td><td>0</td><td> 9</td><td>96</td><td>1</td><td>1.4742189</td><td>0.59051076</td><td>448.4062</td><td>17.31348</td><td> 752.7611</td><td>16.53563</td><td>2.18195</td><td>41.39691</td></tr>\n",
       "</tbody>\n",
       "</table>\n"
      ],
      "text/latex": [
       "A tibble: 6 × 20\n",
       "\\begin{tabular}{llllllllllllllllllll}\n",
       " ...1 & realSum & room\\_type & room\\_shared & room\\_private & person\\_capacity & host\\_is\\_superhost & multi & biz & cleanliness\\_rating & guest\\_satisfaction\\_overall & bedrooms & dist & metro\\_dist & attr\\_index & attr\\_index\\_norm & rest\\_index & rest\\_index\\_norm & lng & lat\\\\\n",
       " <dbl> & <dbl> & <chr> & <lgl> & <lgl> & <dbl> & <lgl> & <dbl> & <dbl> & <dbl> & <dbl> & <dbl> & <dbl> & <dbl> & <dbl> & <dbl> & <dbl> & <dbl> & <dbl> & <dbl>\\\\\n",
       "\\hline\n",
       "\t 0 & 532.0362 & Entire home/apt & FALSE & FALSE & 4 & FALSE & 0 & 1 & 10 & 91 & 1 & 1.1119980 & 0.63050396 & 526.4715 & 20.32767 &  915.5915 & 20.11247 & 2.17556 & 41.39624\\\\\n",
       "\t 1 & 169.8978 & Private room    & FALSE &  TRUE & 2 &  TRUE & 1 & 0 & 10 & 88 & 1 & 1.7518309 & 0.12401273 & 320.1283 & 12.36052 &  794.2797 & 17.44766 & 2.14906 & 41.38714\\\\\n",
       "\t 2 & 196.8953 & Private room    & FALSE &  TRUE & 2 & FALSE & 1 & 0 &  9 & 90 & 1 & 0.6217308 & 0.29751560 & 503.3540 & 19.43508 & 1242.4342 & 27.29211 & 2.16500 & 41.38300\\\\\n",
       "\t 3 & 141.2712 & Private room    & FALSE &  TRUE & 3 & FALSE & 0 & 1 &  9 & 86 & 1 & 1.6483109 & 0.08944189 & 342.5958 & 13.22802 &  820.9220 & 18.03290 & 2.15342 & 41.37912\\\\\n",
       "\t 4 & 715.2000 & Entire home/apt & FALSE & FALSE & 4 &  TRUE & 0 & 1 &  9 & 95 & 2 & 0.6935603 & 0.35765301 & 537.8031 & 20.76520 & 1081.5601 & 23.75824 & 2.17498 & 41.39214\\\\\n",
       "\t 5 & 173.3889 & Private room    & FALSE &  TRUE & 2 & FALSE & 0 & 0 &  9 & 96 & 1 & 1.4742189 & 0.59051076 & 448.4062 & 17.31348 &  752.7611 & 16.53563 & 2.18195 & 41.39691\\\\\n",
       "\\end{tabular}\n"
      ],
      "text/markdown": [
       "\n",
       "A tibble: 6 × 20\n",
       "\n",
       "| ...1 &lt;dbl&gt; | realSum &lt;dbl&gt; | room_type &lt;chr&gt; | room_shared &lt;lgl&gt; | room_private &lt;lgl&gt; | person_capacity &lt;dbl&gt; | host_is_superhost &lt;lgl&gt; | multi &lt;dbl&gt; | biz &lt;dbl&gt; | cleanliness_rating &lt;dbl&gt; | guest_satisfaction_overall &lt;dbl&gt; | bedrooms &lt;dbl&gt; | dist &lt;dbl&gt; | metro_dist &lt;dbl&gt; | attr_index &lt;dbl&gt; | attr_index_norm &lt;dbl&gt; | rest_index &lt;dbl&gt; | rest_index_norm &lt;dbl&gt; | lng &lt;dbl&gt; | lat &lt;dbl&gt; |\n",
       "|---|---|---|---|---|---|---|---|---|---|---|---|---|---|---|---|---|---|---|---|\n",
       "| 0 | 532.0362 | Entire home/apt | FALSE | FALSE | 4 | FALSE | 0 | 1 | 10 | 91 | 1 | 1.1119980 | 0.63050396 | 526.4715 | 20.32767 |  915.5915 | 20.11247 | 2.17556 | 41.39624 |\n",
       "| 1 | 169.8978 | Private room    | FALSE |  TRUE | 2 |  TRUE | 1 | 0 | 10 | 88 | 1 | 1.7518309 | 0.12401273 | 320.1283 | 12.36052 |  794.2797 | 17.44766 | 2.14906 | 41.38714 |\n",
       "| 2 | 196.8953 | Private room    | FALSE |  TRUE | 2 | FALSE | 1 | 0 |  9 | 90 | 1 | 0.6217308 | 0.29751560 | 503.3540 | 19.43508 | 1242.4342 | 27.29211 | 2.16500 | 41.38300 |\n",
       "| 3 | 141.2712 | Private room    | FALSE |  TRUE | 3 | FALSE | 0 | 1 |  9 | 86 | 1 | 1.6483109 | 0.08944189 | 342.5958 | 13.22802 |  820.9220 | 18.03290 | 2.15342 | 41.37912 |\n",
       "| 4 | 715.2000 | Entire home/apt | FALSE | FALSE | 4 |  TRUE | 0 | 1 |  9 | 95 | 2 | 0.6935603 | 0.35765301 | 537.8031 | 20.76520 | 1081.5601 | 23.75824 | 2.17498 | 41.39214 |\n",
       "| 5 | 173.3889 | Private room    | FALSE |  TRUE | 2 | FALSE | 0 | 0 |  9 | 96 | 1 | 1.4742189 | 0.59051076 | 448.4062 | 17.31348 |  752.7611 | 16.53563 | 2.18195 | 41.39691 |\n",
       "\n"
      ],
      "text/plain": [
       "  ...1 realSum  room_type       room_shared room_private person_capacity\n",
       "1 0    532.0362 Entire home/apt FALSE       FALSE        4              \n",
       "2 1    169.8978 Private room    FALSE        TRUE        2              \n",
       "3 2    196.8953 Private room    FALSE        TRUE        2              \n",
       "4 3    141.2712 Private room    FALSE        TRUE        3              \n",
       "5 4    715.2000 Entire home/apt FALSE       FALSE        4              \n",
       "6 5    173.3889 Private room    FALSE        TRUE        2              \n",
       "  host_is_superhost multi biz cleanliness_rating guest_satisfaction_overall\n",
       "1 FALSE             0     1   10                 91                        \n",
       "2  TRUE             1     0   10                 88                        \n",
       "3 FALSE             1     0    9                 90                        \n",
       "4 FALSE             0     1    9                 86                        \n",
       "5  TRUE             0     1    9                 95                        \n",
       "6 FALSE             0     0    9                 96                        \n",
       "  bedrooms dist      metro_dist attr_index attr_index_norm rest_index\n",
       "1 1        1.1119980 0.63050396 526.4715   20.32767         915.5915 \n",
       "2 1        1.7518309 0.12401273 320.1283   12.36052         794.2797 \n",
       "3 1        0.6217308 0.29751560 503.3540   19.43508        1242.4342 \n",
       "4 1        1.6483109 0.08944189 342.5958   13.22802         820.9220 \n",
       "5 2        0.6935603 0.35765301 537.8031   20.76520        1081.5601 \n",
       "6 1        1.4742189 0.59051076 448.4062   17.31348         752.7611 \n",
       "  rest_index_norm lng     lat     \n",
       "1 20.11247        2.17556 41.39624\n",
       "2 17.44766        2.14906 41.38714\n",
       "3 27.29211        2.16500 41.38300\n",
       "4 18.03290        2.15342 41.37912\n",
       "5 23.75824        2.17498 41.39214\n",
       "6 16.53563        2.18195 41.39691"
      ]
     },
     "metadata": {},
     "output_type": "display_data"
    }
   ],
   "source": [
    "# file_list <- c(\"barcelona_weekdays.csv\", \"barcelona_weekends.csv\",\n",
    "#                \"london_weekdays.csv\", \"london_weekends.csv\",\n",
    "#                \"paris_weekdays.csv\", \"paris_weekends.csv\")\n",
    "\n",
    "# df_all <- file_list %>%\n",
    "#   lapply(function(file) {\n",
    "#     read_csv(file) %>%\n",
    "#       mutate(\n",
    "#         day_type = ifelse(str_detect(file, \"weekends\"), \"weekend\", \"weekday\")\n",
    "#       )\n",
    "#   }) %>%\n",
    "#   bind_rows()\n",
    "\n",
    "# load the csv files for each city (weekday and weekend)\n",
    "\n",
    "# IMPORTANT NOTE: Ensure the CSV files are in the \"data\" directory relative to your working directory\n",
    "paris_weekday <- read_csv(\"data/paris_weekdays.csv\")\n",
    "paris_weekend <- read_csv(\"data/paris_weekends.csv\")\n",
    "vienna_weekday <- read_csv(\"data/vienna_weekdays.csv\")\n",
    "vienna_weekend <- read_csv(\"data/vienna_weekends.csv\")\n",
    "barcelona_weekday <- read_csv(\"data/barcelona_weekdays.csv\")\n",
    "barcelona_weekend <- read_csv(\"data/barcelona_weekends.csv\")\n",
    "\n",
    "head(paris_weekday)\n",
    "head(paris_weekend)\n",
    "head(vienna_weekday)\n",
    "head(vienna_weekend)\n",
    "head(barcelona_weekday)\n",
    "head(barcelona_weekend)"
   ]
  },
  {
   "cell_type": "markdown",
   "id": "7e78d96b-738c-4c53-9f3c-b30f556e22e7",
   "metadata": {},
   "source": [
    "| Column Name                | Description                                                                          |\n",
    "|---------------------------|--------------------------------------------------------------------------------------|\n",
    "| **realSum**               | *The total price of the Airbnb listing.* (Numeric)                                   |\n",
    "| **room_type**             | *The type of room being offered (e.g. private, shared, etc.).* (Categorical)         |\n",
    "| **room_shared**           | *Whether the room is shared or not.* (Boolean)                                       |\n",
    "| **room_private**          | *Whether the room is private or not.* (Boolean)                                      |\n",
    "| **person_capacity**       | *The maximum number of people that can stay in the room.* (Numeric)                  |\n",
    "| **host_is_superhost**     | *Whether the host is a superhost or not.* (Boolean)                                  |\n",
    "| **multi**                 | *Whether the listing is for multiple rooms or not.* (Boolean)                        |\n",
    "| **biz**                   | *Whether the listing is for business purposes or not.* (Boolean)                     |\n",
    "| **cleanliness_rating**    | *The cleanliness rating of the listing.* (Numeric)                                   |\n",
    "| **guest_satisfaction_overall** | *The overall guest satisfaction rating of the listing.* (Numeric)           |\n",
    "| **bedrooms**              | *The number of bedrooms in the listing.* (Numeric)                                   |\n",
    "| **dist**                  | *The distance from the city centre.* (Numeric)                                       |\n",
    "| **metro_dist**            | *The distance from the nearest metro station.* (Numeric)                             |\n",
    "| **attr_index**            | *An index representing the number and popularity of nearby attractions.* (Numeric)   |\n",
    "| **attr_index_norm**       | *Normalized version of `attr_index` between 0 and 1.* (Numeric)                      |\n",
    "| **rest_index**            | *An index representing the number and quality of nearby restaurants.* (Numeric)      |\n",
    "| **rest_index_norm**       | *Normalized version of `rest_index` between 0 and 1.* (Numeric)                      |\n",
    "| **lng**                   | *The longitude of the listing.* (Numeric)                                            |\n",
    "| **lat**                   | *The latitude of the listing.* (Numeric)                                             |\n",
    "| **day_type**              | *Indicates whether the listing is for a weekday or weekend.* (Categorical)           |\n"
   ]
  },
  {
   "cell_type": "code",
   "execution_count": 16,
   "id": "b20d10e6-00b7-4611-8f04-e59c9a122a2b",
   "metadata": {
    "vscode": {
     "languageId": "r"
    }
   },
   "outputs": [
    {
     "data": {
      "text/html": [
       "<table class=\"dataframe\">\n",
       "<caption>A tibble: 6 × 21</caption>\n",
       "<thead>\n",
       "\t<tr><th scope=col>...1</th><th scope=col>realSum</th><th scope=col>room_type</th><th scope=col>room_shared</th><th scope=col>room_private</th><th scope=col>person_capacity</th><th scope=col>host_is_superhost</th><th scope=col>multi</th><th scope=col>biz</th><th scope=col>cleanliness_rating</th><th scope=col>⋯</th><th scope=col>bedrooms</th><th scope=col>dist</th><th scope=col>metro_dist</th><th scope=col>attr_index</th><th scope=col>attr_index_norm</th><th scope=col>rest_index</th><th scope=col>rest_index_norm</th><th scope=col>lng</th><th scope=col>lat</th><th scope=col>day_type</th></tr>\n",
       "\t<tr><th scope=col>&lt;dbl&gt;</th><th scope=col>&lt;dbl&gt;</th><th scope=col>&lt;chr&gt;</th><th scope=col>&lt;lgl&gt;</th><th scope=col>&lt;lgl&gt;</th><th scope=col>&lt;dbl&gt;</th><th scope=col>&lt;lgl&gt;</th><th scope=col>&lt;dbl&gt;</th><th scope=col>&lt;dbl&gt;</th><th scope=col>&lt;dbl&gt;</th><th scope=col>⋯</th><th scope=col>&lt;dbl&gt;</th><th scope=col>&lt;dbl&gt;</th><th scope=col>&lt;dbl&gt;</th><th scope=col>&lt;dbl&gt;</th><th scope=col>&lt;dbl&gt;</th><th scope=col>&lt;dbl&gt;</th><th scope=col>&lt;dbl&gt;</th><th scope=col>&lt;dbl&gt;</th><th scope=col>&lt;dbl&gt;</th><th scope=col>&lt;chr&gt;</th></tr>\n",
       "</thead>\n",
       "<tbody>\n",
       "\t<tr><td>0</td><td>296.1599</td><td>Private room   </td><td>FALSE</td><td> TRUE</td><td>2</td><td> TRUE</td><td>0</td><td>0</td><td>10</td><td>⋯</td><td>1</td><td>0.6998206</td><td>0.1937094</td><td>518.4789</td><td>25.23938</td><td>1218.6622</td><td>71.60803</td><td>2.35385</td><td>48.86282</td><td>Weekday</td></tr>\n",
       "\t<tr><td>1</td><td>288.2375</td><td>Private room   </td><td>FALSE</td><td> TRUE</td><td>2</td><td> TRUE</td><td>0</td><td>0</td><td>10</td><td>⋯</td><td>1</td><td>2.1000054</td><td>0.1072207</td><td>873.2170</td><td>42.50791</td><td>1000.5433</td><td>58.79146</td><td>2.32436</td><td>48.85902</td><td>Weekday</td></tr>\n",
       "\t<tr><td>2</td><td>211.3431</td><td>Private room   </td><td>FALSE</td><td> TRUE</td><td>2</td><td>FALSE</td><td>0</td><td>0</td><td>10</td><td>⋯</td><td>1</td><td>3.3023251</td><td>0.2347238</td><td>444.5561</td><td>21.64084</td><td> 902.8545</td><td>53.05131</td><td>2.31714</td><td>48.87475</td><td>Weekday</td></tr>\n",
       "\t<tr><td>3</td><td>298.9561</td><td>Entire home/apt</td><td>FALSE</td><td>FALSE</td><td>2</td><td>FALSE</td><td>0</td><td>1</td><td> 9</td><td>⋯</td><td>1</td><td>0.5475667</td><td>0.1959965</td><td>542.1420</td><td>26.39129</td><td>1199.1842</td><td>70.46351</td><td>2.35600</td><td>48.86100</td><td>Weekday</td></tr>\n",
       "\t<tr><td>4</td><td>247.9262</td><td>Entire home/apt</td><td>FALSE</td><td>FALSE</td><td>4</td><td>FALSE</td><td>0</td><td>0</td><td> 7</td><td>⋯</td><td>1</td><td>1.1979209</td><td>0.1035729</td><td>406.9290</td><td>19.80916</td><td>1070.7755</td><td>62.91827</td><td>2.35915</td><td>48.86648</td><td>Weekday</td></tr>\n",
       "\t<tr><td>5</td><td>527.0761</td><td>Entire home/apt</td><td>FALSE</td><td>FALSE</td><td>4</td><td> TRUE</td><td>0</td><td>0</td><td>10</td><td>⋯</td><td>1</td><td>1.5432015</td><td>0.5491303</td><td>967.4781</td><td>47.09651</td><td>1095.8704</td><td>64.39284</td><td>2.33201</td><td>48.85891</td><td>Weekday</td></tr>\n",
       "</tbody>\n",
       "</table>\n"
      ],
      "text/latex": [
       "A tibble: 6 × 21\n",
       "\\begin{tabular}{lllllllllllllllllllll}\n",
       " ...1 & realSum & room\\_type & room\\_shared & room\\_private & person\\_capacity & host\\_is\\_superhost & multi & biz & cleanliness\\_rating & ⋯ & bedrooms & dist & metro\\_dist & attr\\_index & attr\\_index\\_norm & rest\\_index & rest\\_index\\_norm & lng & lat & day\\_type\\\\\n",
       " <dbl> & <dbl> & <chr> & <lgl> & <lgl> & <dbl> & <lgl> & <dbl> & <dbl> & <dbl> & ⋯ & <dbl> & <dbl> & <dbl> & <dbl> & <dbl> & <dbl> & <dbl> & <dbl> & <dbl> & <chr>\\\\\n",
       "\\hline\n",
       "\t 0 & 296.1599 & Private room    & FALSE &  TRUE & 2 &  TRUE & 0 & 0 & 10 & ⋯ & 1 & 0.6998206 & 0.1937094 & 518.4789 & 25.23938 & 1218.6622 & 71.60803 & 2.35385 & 48.86282 & Weekday\\\\\n",
       "\t 1 & 288.2375 & Private room    & FALSE &  TRUE & 2 &  TRUE & 0 & 0 & 10 & ⋯ & 1 & 2.1000054 & 0.1072207 & 873.2170 & 42.50791 & 1000.5433 & 58.79146 & 2.32436 & 48.85902 & Weekday\\\\\n",
       "\t 2 & 211.3431 & Private room    & FALSE &  TRUE & 2 & FALSE & 0 & 0 & 10 & ⋯ & 1 & 3.3023251 & 0.2347238 & 444.5561 & 21.64084 &  902.8545 & 53.05131 & 2.31714 & 48.87475 & Weekday\\\\\n",
       "\t 3 & 298.9561 & Entire home/apt & FALSE & FALSE & 2 & FALSE & 0 & 1 &  9 & ⋯ & 1 & 0.5475667 & 0.1959965 & 542.1420 & 26.39129 & 1199.1842 & 70.46351 & 2.35600 & 48.86100 & Weekday\\\\\n",
       "\t 4 & 247.9262 & Entire home/apt & FALSE & FALSE & 4 & FALSE & 0 & 0 &  7 & ⋯ & 1 & 1.1979209 & 0.1035729 & 406.9290 & 19.80916 & 1070.7755 & 62.91827 & 2.35915 & 48.86648 & Weekday\\\\\n",
       "\t 5 & 527.0761 & Entire home/apt & FALSE & FALSE & 4 &  TRUE & 0 & 0 & 10 & ⋯ & 1 & 1.5432015 & 0.5491303 & 967.4781 & 47.09651 & 1095.8704 & 64.39284 & 2.33201 & 48.85891 & Weekday\\\\\n",
       "\\end{tabular}\n"
      ],
      "text/markdown": [
       "\n",
       "A tibble: 6 × 21\n",
       "\n",
       "| ...1 &lt;dbl&gt; | realSum &lt;dbl&gt; | room_type &lt;chr&gt; | room_shared &lt;lgl&gt; | room_private &lt;lgl&gt; | person_capacity &lt;dbl&gt; | host_is_superhost &lt;lgl&gt; | multi &lt;dbl&gt; | biz &lt;dbl&gt; | cleanliness_rating &lt;dbl&gt; | ⋯ ⋯ | bedrooms &lt;dbl&gt; | dist &lt;dbl&gt; | metro_dist &lt;dbl&gt; | attr_index &lt;dbl&gt; | attr_index_norm &lt;dbl&gt; | rest_index &lt;dbl&gt; | rest_index_norm &lt;dbl&gt; | lng &lt;dbl&gt; | lat &lt;dbl&gt; | day_type &lt;chr&gt; |\n",
       "|---|---|---|---|---|---|---|---|---|---|---|---|---|---|---|---|---|---|---|---|---|\n",
       "| 0 | 296.1599 | Private room    | FALSE |  TRUE | 2 |  TRUE | 0 | 0 | 10 | ⋯ | 1 | 0.6998206 | 0.1937094 | 518.4789 | 25.23938 | 1218.6622 | 71.60803 | 2.35385 | 48.86282 | Weekday |\n",
       "| 1 | 288.2375 | Private room    | FALSE |  TRUE | 2 |  TRUE | 0 | 0 | 10 | ⋯ | 1 | 2.1000054 | 0.1072207 | 873.2170 | 42.50791 | 1000.5433 | 58.79146 | 2.32436 | 48.85902 | Weekday |\n",
       "| 2 | 211.3431 | Private room    | FALSE |  TRUE | 2 | FALSE | 0 | 0 | 10 | ⋯ | 1 | 3.3023251 | 0.2347238 | 444.5561 | 21.64084 |  902.8545 | 53.05131 | 2.31714 | 48.87475 | Weekday |\n",
       "| 3 | 298.9561 | Entire home/apt | FALSE | FALSE | 2 | FALSE | 0 | 1 |  9 | ⋯ | 1 | 0.5475667 | 0.1959965 | 542.1420 | 26.39129 | 1199.1842 | 70.46351 | 2.35600 | 48.86100 | Weekday |\n",
       "| 4 | 247.9262 | Entire home/apt | FALSE | FALSE | 4 | FALSE | 0 | 0 |  7 | ⋯ | 1 | 1.1979209 | 0.1035729 | 406.9290 | 19.80916 | 1070.7755 | 62.91827 | 2.35915 | 48.86648 | Weekday |\n",
       "| 5 | 527.0761 | Entire home/apt | FALSE | FALSE | 4 |  TRUE | 0 | 0 | 10 | ⋯ | 1 | 1.5432015 | 0.5491303 | 967.4781 | 47.09651 | 1095.8704 | 64.39284 | 2.33201 | 48.85891 | Weekday |\n",
       "\n"
      ],
      "text/plain": [
       "  ...1 realSum  room_type       room_shared room_private person_capacity\n",
       "1 0    296.1599 Private room    FALSE        TRUE        2              \n",
       "2 1    288.2375 Private room    FALSE        TRUE        2              \n",
       "3 2    211.3431 Private room    FALSE        TRUE        2              \n",
       "4 3    298.9561 Entire home/apt FALSE       FALSE        2              \n",
       "5 4    247.9262 Entire home/apt FALSE       FALSE        4              \n",
       "6 5    527.0761 Entire home/apt FALSE       FALSE        4              \n",
       "  host_is_superhost multi biz cleanliness_rating ⋯ bedrooms dist     \n",
       "1  TRUE             0     0   10                 ⋯ 1        0.6998206\n",
       "2  TRUE             0     0   10                 ⋯ 1        2.1000054\n",
       "3 FALSE             0     0   10                 ⋯ 1        3.3023251\n",
       "4 FALSE             0     1    9                 ⋯ 1        0.5475667\n",
       "5 FALSE             0     0    7                 ⋯ 1        1.1979209\n",
       "6  TRUE             0     0   10                 ⋯ 1        1.5432015\n",
       "  metro_dist attr_index attr_index_norm rest_index rest_index_norm lng    \n",
       "1 0.1937094  518.4789   25.23938        1218.6622  71.60803        2.35385\n",
       "2 0.1072207  873.2170   42.50791        1000.5433  58.79146        2.32436\n",
       "3 0.2347238  444.5561   21.64084         902.8545  53.05131        2.31714\n",
       "4 0.1959965  542.1420   26.39129        1199.1842  70.46351        2.35600\n",
       "5 0.1035729  406.9290   19.80916        1070.7755  62.91827        2.35915\n",
       "6 0.5491303  967.4781   47.09651        1095.8704  64.39284        2.33201\n",
       "  lat      day_type\n",
       "1 48.86282 Weekday \n",
       "2 48.85902 Weekday \n",
       "3 48.87475 Weekday \n",
       "4 48.86100 Weekday \n",
       "5 48.86648 Weekday \n",
       "6 48.85891 Weekday "
      ]
     },
     "metadata": {},
     "output_type": "display_data"
    },
    {
     "data": {
      "text/html": [
       "<table class=\"dataframe\">\n",
       "<caption>A tibble: 6 × 21</caption>\n",
       "<thead>\n",
       "\t<tr><th scope=col>...1</th><th scope=col>realSum</th><th scope=col>room_type</th><th scope=col>room_shared</th><th scope=col>room_private</th><th scope=col>person_capacity</th><th scope=col>host_is_superhost</th><th scope=col>multi</th><th scope=col>biz</th><th scope=col>cleanliness_rating</th><th scope=col>⋯</th><th scope=col>bedrooms</th><th scope=col>dist</th><th scope=col>metro_dist</th><th scope=col>attr_index</th><th scope=col>attr_index_norm</th><th scope=col>rest_index</th><th scope=col>rest_index_norm</th><th scope=col>lng</th><th scope=col>lat</th><th scope=col>day_type</th></tr>\n",
       "\t<tr><th scope=col>&lt;dbl&gt;</th><th scope=col>&lt;dbl&gt;</th><th scope=col>&lt;chr&gt;</th><th scope=col>&lt;lgl&gt;</th><th scope=col>&lt;lgl&gt;</th><th scope=col>&lt;dbl&gt;</th><th scope=col>&lt;lgl&gt;</th><th scope=col>&lt;dbl&gt;</th><th scope=col>&lt;dbl&gt;</th><th scope=col>&lt;dbl&gt;</th><th scope=col>⋯</th><th scope=col>&lt;dbl&gt;</th><th scope=col>&lt;dbl&gt;</th><th scope=col>&lt;dbl&gt;</th><th scope=col>&lt;dbl&gt;</th><th scope=col>&lt;dbl&gt;</th><th scope=col>&lt;dbl&gt;</th><th scope=col>&lt;dbl&gt;</th><th scope=col>&lt;dbl&gt;</th><th scope=col>&lt;dbl&gt;</th><th scope=col>&lt;chr&gt;</th></tr>\n",
       "</thead>\n",
       "<tbody>\n",
       "\t<tr><td>0</td><td>250.5668</td><td>Entire home/apt</td><td>FALSE</td><td>FALSE</td><td>3</td><td> TRUE</td><td>1</td><td>0</td><td>10</td><td>⋯</td><td>1</td><td>1.732893</td><td>0.2126271</td><td>118.64683</td><td>8.496979</td><td>185.09672</td><td>4.424871</td><td>16.36500</td><td>48.22300</td><td>Weekday</td></tr>\n",
       "\t<tr><td>1</td><td>156.6043</td><td>Entire home/apt</td><td>FALSE</td><td>FALSE</td><td>3</td><td>FALSE</td><td>0</td><td>0</td><td>10</td><td>⋯</td><td>1</td><td>4.807912</td><td>0.2282531</td><td> 80.14502</td><td>5.739643</td><td> 85.72760</td><td>2.049380</td><td>16.33356</td><td>48.17459</td><td>Weekday</td></tr>\n",
       "\t<tr><td>2</td><td>283.0564</td><td>Entire home/apt</td><td>FALSE</td><td>FALSE</td><td>5</td><td> TRUE</td><td>0</td><td>1</td><td>10</td><td>⋯</td><td>2</td><td>2.811773</td><td>0.2441629</td><td>101.24811</td><td>7.250957</td><td>151.36429</td><td>3.618473</td><td>16.33600</td><td>48.21100</td><td>Weekday</td></tr>\n",
       "\t<tr><td>3</td><td>301.7554</td><td>Entire home/apt</td><td>FALSE</td><td>FALSE</td><td>4</td><td> TRUE</td><td>0</td><td>1</td><td>10</td><td>⋯</td><td>2</td><td>3.240595</td><td>0.6104299</td><td> 92.47394</td><td>6.622588</td><td>129.86383</td><td>3.104489</td><td>16.33006</td><td>48.20921</td><td>Weekday</td></tr>\n",
       "\t<tr><td>4</td><td>150.7608</td><td>Entire home/apt</td><td>FALSE</td><td>FALSE</td><td>2</td><td> TRUE</td><td>0</td><td>1</td><td>10</td><td>⋯</td><td>1</td><td>2.241146</td><td>1.1195067</td><td>124.25677</td><td>8.898738</td><td>154.34897</td><td>3.689824</td><td>16.38867</td><td>48.19104</td><td>Weekday</td></tr>\n",
       "\t<tr><td>5</td><td>162.4477</td><td>Private room   </td><td>FALSE</td><td> TRUE</td><td>2</td><td> TRUE</td><td>1</td><td>0</td><td>10</td><td>⋯</td><td>1</td><td>4.611961</td><td>0.1999263</td><td> 52.07794</td><td>3.729599</td><td> 75.51554</td><td>1.805254</td><td>16.39755</td><td>48.24682</td><td>Weekday</td></tr>\n",
       "</tbody>\n",
       "</table>\n"
      ],
      "text/latex": [
       "A tibble: 6 × 21\n",
       "\\begin{tabular}{lllllllllllllllllllll}\n",
       " ...1 & realSum & room\\_type & room\\_shared & room\\_private & person\\_capacity & host\\_is\\_superhost & multi & biz & cleanliness\\_rating & ⋯ & bedrooms & dist & metro\\_dist & attr\\_index & attr\\_index\\_norm & rest\\_index & rest\\_index\\_norm & lng & lat & day\\_type\\\\\n",
       " <dbl> & <dbl> & <chr> & <lgl> & <lgl> & <dbl> & <lgl> & <dbl> & <dbl> & <dbl> & ⋯ & <dbl> & <dbl> & <dbl> & <dbl> & <dbl> & <dbl> & <dbl> & <dbl> & <dbl> & <chr>\\\\\n",
       "\\hline\n",
       "\t 0 & 250.5668 & Entire home/apt & FALSE & FALSE & 3 &  TRUE & 1 & 0 & 10 & ⋯ & 1 & 1.732893 & 0.2126271 & 118.64683 & 8.496979 & 185.09672 & 4.424871 & 16.36500 & 48.22300 & Weekday\\\\\n",
       "\t 1 & 156.6043 & Entire home/apt & FALSE & FALSE & 3 & FALSE & 0 & 0 & 10 & ⋯ & 1 & 4.807912 & 0.2282531 &  80.14502 & 5.739643 &  85.72760 & 2.049380 & 16.33356 & 48.17459 & Weekday\\\\\n",
       "\t 2 & 283.0564 & Entire home/apt & FALSE & FALSE & 5 &  TRUE & 0 & 1 & 10 & ⋯ & 2 & 2.811773 & 0.2441629 & 101.24811 & 7.250957 & 151.36429 & 3.618473 & 16.33600 & 48.21100 & Weekday\\\\\n",
       "\t 3 & 301.7554 & Entire home/apt & FALSE & FALSE & 4 &  TRUE & 0 & 1 & 10 & ⋯ & 2 & 3.240595 & 0.6104299 &  92.47394 & 6.622588 & 129.86383 & 3.104489 & 16.33006 & 48.20921 & Weekday\\\\\n",
       "\t 4 & 150.7608 & Entire home/apt & FALSE & FALSE & 2 &  TRUE & 0 & 1 & 10 & ⋯ & 1 & 2.241146 & 1.1195067 & 124.25677 & 8.898738 & 154.34897 & 3.689824 & 16.38867 & 48.19104 & Weekday\\\\\n",
       "\t 5 & 162.4477 & Private room    & FALSE &  TRUE & 2 &  TRUE & 1 & 0 & 10 & ⋯ & 1 & 4.611961 & 0.1999263 &  52.07794 & 3.729599 &  75.51554 & 1.805254 & 16.39755 & 48.24682 & Weekday\\\\\n",
       "\\end{tabular}\n"
      ],
      "text/markdown": [
       "\n",
       "A tibble: 6 × 21\n",
       "\n",
       "| ...1 &lt;dbl&gt; | realSum &lt;dbl&gt; | room_type &lt;chr&gt; | room_shared &lt;lgl&gt; | room_private &lt;lgl&gt; | person_capacity &lt;dbl&gt; | host_is_superhost &lt;lgl&gt; | multi &lt;dbl&gt; | biz &lt;dbl&gt; | cleanliness_rating &lt;dbl&gt; | ⋯ ⋯ | bedrooms &lt;dbl&gt; | dist &lt;dbl&gt; | metro_dist &lt;dbl&gt; | attr_index &lt;dbl&gt; | attr_index_norm &lt;dbl&gt; | rest_index &lt;dbl&gt; | rest_index_norm &lt;dbl&gt; | lng &lt;dbl&gt; | lat &lt;dbl&gt; | day_type &lt;chr&gt; |\n",
       "|---|---|---|---|---|---|---|---|---|---|---|---|---|---|---|---|---|---|---|---|---|\n",
       "| 0 | 250.5668 | Entire home/apt | FALSE | FALSE | 3 |  TRUE | 1 | 0 | 10 | ⋯ | 1 | 1.732893 | 0.2126271 | 118.64683 | 8.496979 | 185.09672 | 4.424871 | 16.36500 | 48.22300 | Weekday |\n",
       "| 1 | 156.6043 | Entire home/apt | FALSE | FALSE | 3 | FALSE | 0 | 0 | 10 | ⋯ | 1 | 4.807912 | 0.2282531 |  80.14502 | 5.739643 |  85.72760 | 2.049380 | 16.33356 | 48.17459 | Weekday |\n",
       "| 2 | 283.0564 | Entire home/apt | FALSE | FALSE | 5 |  TRUE | 0 | 1 | 10 | ⋯ | 2 | 2.811773 | 0.2441629 | 101.24811 | 7.250957 | 151.36429 | 3.618473 | 16.33600 | 48.21100 | Weekday |\n",
       "| 3 | 301.7554 | Entire home/apt | FALSE | FALSE | 4 |  TRUE | 0 | 1 | 10 | ⋯ | 2 | 3.240595 | 0.6104299 |  92.47394 | 6.622588 | 129.86383 | 3.104489 | 16.33006 | 48.20921 | Weekday |\n",
       "| 4 | 150.7608 | Entire home/apt | FALSE | FALSE | 2 |  TRUE | 0 | 1 | 10 | ⋯ | 1 | 2.241146 | 1.1195067 | 124.25677 | 8.898738 | 154.34897 | 3.689824 | 16.38867 | 48.19104 | Weekday |\n",
       "| 5 | 162.4477 | Private room    | FALSE |  TRUE | 2 |  TRUE | 1 | 0 | 10 | ⋯ | 1 | 4.611961 | 0.1999263 |  52.07794 | 3.729599 |  75.51554 | 1.805254 | 16.39755 | 48.24682 | Weekday |\n",
       "\n"
      ],
      "text/plain": [
       "  ...1 realSum  room_type       room_shared room_private person_capacity\n",
       "1 0    250.5668 Entire home/apt FALSE       FALSE        3              \n",
       "2 1    156.6043 Entire home/apt FALSE       FALSE        3              \n",
       "3 2    283.0564 Entire home/apt FALSE       FALSE        5              \n",
       "4 3    301.7554 Entire home/apt FALSE       FALSE        4              \n",
       "5 4    150.7608 Entire home/apt FALSE       FALSE        2              \n",
       "6 5    162.4477 Private room    FALSE        TRUE        2              \n",
       "  host_is_superhost multi biz cleanliness_rating ⋯ bedrooms dist     metro_dist\n",
       "1  TRUE             1     0   10                 ⋯ 1        1.732893 0.2126271 \n",
       "2 FALSE             0     0   10                 ⋯ 1        4.807912 0.2282531 \n",
       "3  TRUE             0     1   10                 ⋯ 2        2.811773 0.2441629 \n",
       "4  TRUE             0     1   10                 ⋯ 2        3.240595 0.6104299 \n",
       "5  TRUE             0     1   10                 ⋯ 1        2.241146 1.1195067 \n",
       "6  TRUE             1     0   10                 ⋯ 1        4.611961 0.1999263 \n",
       "  attr_index attr_index_norm rest_index rest_index_norm lng      lat     \n",
       "1 118.64683  8.496979        185.09672  4.424871        16.36500 48.22300\n",
       "2  80.14502  5.739643         85.72760  2.049380        16.33356 48.17459\n",
       "3 101.24811  7.250957        151.36429  3.618473        16.33600 48.21100\n",
       "4  92.47394  6.622588        129.86383  3.104489        16.33006 48.20921\n",
       "5 124.25677  8.898738        154.34897  3.689824        16.38867 48.19104\n",
       "6  52.07794  3.729599         75.51554  1.805254        16.39755 48.24682\n",
       "  day_type\n",
       "1 Weekday \n",
       "2 Weekday \n",
       "3 Weekday \n",
       "4 Weekday \n",
       "5 Weekday \n",
       "6 Weekday "
      ]
     },
     "metadata": {},
     "output_type": "display_data"
    },
    {
     "data": {
      "text/html": [
       "<table class=\"dataframe\">\n",
       "<caption>A tibble: 6 × 21</caption>\n",
       "<thead>\n",
       "\t<tr><th scope=col>...1</th><th scope=col>realSum</th><th scope=col>room_type</th><th scope=col>room_shared</th><th scope=col>room_private</th><th scope=col>person_capacity</th><th scope=col>host_is_superhost</th><th scope=col>multi</th><th scope=col>biz</th><th scope=col>cleanliness_rating</th><th scope=col>⋯</th><th scope=col>bedrooms</th><th scope=col>dist</th><th scope=col>metro_dist</th><th scope=col>attr_index</th><th scope=col>attr_index_norm</th><th scope=col>rest_index</th><th scope=col>rest_index_norm</th><th scope=col>lng</th><th scope=col>lat</th><th scope=col>day_type</th></tr>\n",
       "\t<tr><th scope=col>&lt;dbl&gt;</th><th scope=col>&lt;dbl&gt;</th><th scope=col>&lt;chr&gt;</th><th scope=col>&lt;lgl&gt;</th><th scope=col>&lt;lgl&gt;</th><th scope=col>&lt;dbl&gt;</th><th scope=col>&lt;lgl&gt;</th><th scope=col>&lt;dbl&gt;</th><th scope=col>&lt;dbl&gt;</th><th scope=col>&lt;dbl&gt;</th><th scope=col>⋯</th><th scope=col>&lt;dbl&gt;</th><th scope=col>&lt;dbl&gt;</th><th scope=col>&lt;dbl&gt;</th><th scope=col>&lt;dbl&gt;</th><th scope=col>&lt;dbl&gt;</th><th scope=col>&lt;dbl&gt;</th><th scope=col>&lt;dbl&gt;</th><th scope=col>&lt;dbl&gt;</th><th scope=col>&lt;dbl&gt;</th><th scope=col>&lt;chr&gt;</th></tr>\n",
       "</thead>\n",
       "<tbody>\n",
       "\t<tr><td>0</td><td>474.3175</td><td>Entire home/apt</td><td>FALSE</td><td>FALSE</td><td>4</td><td>FALSE</td><td>0</td><td>1</td><td>10</td><td>⋯</td><td>1</td><td>1.111996</td><td>0.63049095</td><td>526.4694</td><td>17.94293</td><td>915.5871</td><td>20.15489</td><td>2.17556</td><td>41.39624</td><td>Weekday</td></tr>\n",
       "\t<tr><td>1</td><td>169.8978</td><td>Private room   </td><td>FALSE</td><td> TRUE</td><td>2</td><td> TRUE</td><td>1</td><td>0</td><td>10</td><td>⋯</td><td>1</td><td>1.751839</td><td>0.12401717</td><td>320.1275</td><td>10.91046</td><td>794.2774</td><td>17.48449</td><td>2.14906</td><td>41.38714</td><td>Weekday</td></tr>\n",
       "\t<tr><td>2</td><td>161.9848</td><td>Private room   </td><td>FALSE</td><td> TRUE</td><td>4</td><td>FALSE</td><td>0</td><td>1</td><td> 9</td><td>⋯</td><td>1</td><td>1.670493</td><td>0.08032198</td><td>344.0739</td><td>11.72659</td><td>840.6736</td><td>18.50581</td><td>2.15357</td><td>41.37859</td><td>Weekday</td></tr>\n",
       "\t<tr><td>3</td><td>367.9568</td><td>Entire home/apt</td><td>FALSE</td><td>FALSE</td><td>3</td><td>FALSE</td><td>0</td><td>1</td><td>10</td><td>⋯</td><td>1</td><td>1.475847</td><td>0.09310686</td><td>400.0574</td><td>13.63460</td><td>946.5899</td><td>20.83736</td><td>2.16839</td><td>41.37390</td><td>Weekday</td></tr>\n",
       "\t<tr><td>4</td><td>196.8953</td><td>Private room   </td><td>FALSE</td><td> TRUE</td><td>3</td><td>FALSE</td><td>1</td><td>0</td><td> 9</td><td>⋯</td><td>1</td><td>1.855452</td><td>0.27248605</td><td>346.0422</td><td>11.79368</td><td>792.2960</td><td>17.44087</td><td>2.15238</td><td>41.37699</td><td>Weekday</td></tr>\n",
       "\t<tr><td>5</td><td>330.9517</td><td>Entire home/apt</td><td>FALSE</td><td>FALSE</td><td>3</td><td>FALSE</td><td>0</td><td>1</td><td> 9</td><td>⋯</td><td>2</td><td>2.565611</td><td>0.70129045</td><td>391.0874</td><td>13.32889</td><td>525.5139</td><td>11.56818</td><td>2.18197</td><td>41.40842</td><td>Weekday</td></tr>\n",
       "</tbody>\n",
       "</table>\n"
      ],
      "text/latex": [
       "A tibble: 6 × 21\n",
       "\\begin{tabular}{lllllllllllllllllllll}\n",
       " ...1 & realSum & room\\_type & room\\_shared & room\\_private & person\\_capacity & host\\_is\\_superhost & multi & biz & cleanliness\\_rating & ⋯ & bedrooms & dist & metro\\_dist & attr\\_index & attr\\_index\\_norm & rest\\_index & rest\\_index\\_norm & lng & lat & day\\_type\\\\\n",
       " <dbl> & <dbl> & <chr> & <lgl> & <lgl> & <dbl> & <lgl> & <dbl> & <dbl> & <dbl> & ⋯ & <dbl> & <dbl> & <dbl> & <dbl> & <dbl> & <dbl> & <dbl> & <dbl> & <dbl> & <chr>\\\\\n",
       "\\hline\n",
       "\t 0 & 474.3175 & Entire home/apt & FALSE & FALSE & 4 & FALSE & 0 & 1 & 10 & ⋯ & 1 & 1.111996 & 0.63049095 & 526.4694 & 17.94293 & 915.5871 & 20.15489 & 2.17556 & 41.39624 & Weekday\\\\\n",
       "\t 1 & 169.8978 & Private room    & FALSE &  TRUE & 2 &  TRUE & 1 & 0 & 10 & ⋯ & 1 & 1.751839 & 0.12401717 & 320.1275 & 10.91046 & 794.2774 & 17.48449 & 2.14906 & 41.38714 & Weekday\\\\\n",
       "\t 2 & 161.9848 & Private room    & FALSE &  TRUE & 4 & FALSE & 0 & 1 &  9 & ⋯ & 1 & 1.670493 & 0.08032198 & 344.0739 & 11.72659 & 840.6736 & 18.50581 & 2.15357 & 41.37859 & Weekday\\\\\n",
       "\t 3 & 367.9568 & Entire home/apt & FALSE & FALSE & 3 & FALSE & 0 & 1 & 10 & ⋯ & 1 & 1.475847 & 0.09310686 & 400.0574 & 13.63460 & 946.5899 & 20.83736 & 2.16839 & 41.37390 & Weekday\\\\\n",
       "\t 4 & 196.8953 & Private room    & FALSE &  TRUE & 3 & FALSE & 1 & 0 &  9 & ⋯ & 1 & 1.855452 & 0.27248605 & 346.0422 & 11.79368 & 792.2960 & 17.44087 & 2.15238 & 41.37699 & Weekday\\\\\n",
       "\t 5 & 330.9517 & Entire home/apt & FALSE & FALSE & 3 & FALSE & 0 & 1 &  9 & ⋯ & 2 & 2.565611 & 0.70129045 & 391.0874 & 13.32889 & 525.5139 & 11.56818 & 2.18197 & 41.40842 & Weekday\\\\\n",
       "\\end{tabular}\n"
      ],
      "text/markdown": [
       "\n",
       "A tibble: 6 × 21\n",
       "\n",
       "| ...1 &lt;dbl&gt; | realSum &lt;dbl&gt; | room_type &lt;chr&gt; | room_shared &lt;lgl&gt; | room_private &lt;lgl&gt; | person_capacity &lt;dbl&gt; | host_is_superhost &lt;lgl&gt; | multi &lt;dbl&gt; | biz &lt;dbl&gt; | cleanliness_rating &lt;dbl&gt; | ⋯ ⋯ | bedrooms &lt;dbl&gt; | dist &lt;dbl&gt; | metro_dist &lt;dbl&gt; | attr_index &lt;dbl&gt; | attr_index_norm &lt;dbl&gt; | rest_index &lt;dbl&gt; | rest_index_norm &lt;dbl&gt; | lng &lt;dbl&gt; | lat &lt;dbl&gt; | day_type &lt;chr&gt; |\n",
       "|---|---|---|---|---|---|---|---|---|---|---|---|---|---|---|---|---|---|---|---|---|\n",
       "| 0 | 474.3175 | Entire home/apt | FALSE | FALSE | 4 | FALSE | 0 | 1 | 10 | ⋯ | 1 | 1.111996 | 0.63049095 | 526.4694 | 17.94293 | 915.5871 | 20.15489 | 2.17556 | 41.39624 | Weekday |\n",
       "| 1 | 169.8978 | Private room    | FALSE |  TRUE | 2 |  TRUE | 1 | 0 | 10 | ⋯ | 1 | 1.751839 | 0.12401717 | 320.1275 | 10.91046 | 794.2774 | 17.48449 | 2.14906 | 41.38714 | Weekday |\n",
       "| 2 | 161.9848 | Private room    | FALSE |  TRUE | 4 | FALSE | 0 | 1 |  9 | ⋯ | 1 | 1.670493 | 0.08032198 | 344.0739 | 11.72659 | 840.6736 | 18.50581 | 2.15357 | 41.37859 | Weekday |\n",
       "| 3 | 367.9568 | Entire home/apt | FALSE | FALSE | 3 | FALSE | 0 | 1 | 10 | ⋯ | 1 | 1.475847 | 0.09310686 | 400.0574 | 13.63460 | 946.5899 | 20.83736 | 2.16839 | 41.37390 | Weekday |\n",
       "| 4 | 196.8953 | Private room    | FALSE |  TRUE | 3 | FALSE | 1 | 0 |  9 | ⋯ | 1 | 1.855452 | 0.27248605 | 346.0422 | 11.79368 | 792.2960 | 17.44087 | 2.15238 | 41.37699 | Weekday |\n",
       "| 5 | 330.9517 | Entire home/apt | FALSE | FALSE | 3 | FALSE | 0 | 1 |  9 | ⋯ | 2 | 2.565611 | 0.70129045 | 391.0874 | 13.32889 | 525.5139 | 11.56818 | 2.18197 | 41.40842 | Weekday |\n",
       "\n"
      ],
      "text/plain": [
       "  ...1 realSum  room_type       room_shared room_private person_capacity\n",
       "1 0    474.3175 Entire home/apt FALSE       FALSE        4              \n",
       "2 1    169.8978 Private room    FALSE        TRUE        2              \n",
       "3 2    161.9848 Private room    FALSE        TRUE        4              \n",
       "4 3    367.9568 Entire home/apt FALSE       FALSE        3              \n",
       "5 4    196.8953 Private room    FALSE        TRUE        3              \n",
       "6 5    330.9517 Entire home/apt FALSE       FALSE        3              \n",
       "  host_is_superhost multi biz cleanliness_rating ⋯ bedrooms dist     metro_dist\n",
       "1 FALSE             0     1   10                 ⋯ 1        1.111996 0.63049095\n",
       "2  TRUE             1     0   10                 ⋯ 1        1.751839 0.12401717\n",
       "3 FALSE             0     1    9                 ⋯ 1        1.670493 0.08032198\n",
       "4 FALSE             0     1   10                 ⋯ 1        1.475847 0.09310686\n",
       "5 FALSE             1     0    9                 ⋯ 1        1.855452 0.27248605\n",
       "6 FALSE             0     1    9                 ⋯ 2        2.565611 0.70129045\n",
       "  attr_index attr_index_norm rest_index rest_index_norm lng     lat     \n",
       "1 526.4694   17.94293        915.5871   20.15489        2.17556 41.39624\n",
       "2 320.1275   10.91046        794.2774   17.48449        2.14906 41.38714\n",
       "3 344.0739   11.72659        840.6736   18.50581        2.15357 41.37859\n",
       "4 400.0574   13.63460        946.5899   20.83736        2.16839 41.37390\n",
       "5 346.0422   11.79368        792.2960   17.44087        2.15238 41.37699\n",
       "6 391.0874   13.32889        525.5139   11.56818        2.18197 41.40842\n",
       "  day_type\n",
       "1 Weekday \n",
       "2 Weekday \n",
       "3 Weekday \n",
       "4 Weekday \n",
       "5 Weekday \n",
       "6 Weekday "
      ]
     },
     "metadata": {},
     "output_type": "display_data"
    }
   ],
   "source": [
    "# head(df_all)\n",
    "# n_obs <- nrow(df_all)\n",
    "# n_vars <- ncol(df_all)\n",
    "\n",
    "# cat(\"Number of observations:\", n_obs, \"\\n\")\n",
    "# cat(\"Number of variables:\", n_vars, \"\\n\")\n",
    "\n",
    "# combine the data into 3 dataframes for each city\n",
    "paris_data <- bind_rows(\n",
    "  paris_weekday %>% mutate(day_type = \"Weekday\"),\n",
    "  paris_weekend %>% mutate(day_type = \"Weekend\")\n",
    ")\n",
    "\n",
    "vienna_data <- bind_rows(\n",
    "  vienna_weekday %>% mutate(day_type = \"Weekday\"),\n",
    "  vienna_weekend %>% mutate(day_type = \"Weekend\")\n",
    ")\n",
    "\n",
    "barcelona_data <- bind_rows(\n",
    "  barcelona_weekday %>% mutate(day_type = \"Weekday\"),\n",
    "  barcelona_weekend %>% mutate(day_type = \"Weekend\")\n",
    ")\n",
    "\n",
    "head(paris_data)\n",
    "head(vienna_data)\n",
    "head(barcelona_data)\n"
   ]
  },
  {
   "cell_type": "code",
   "execution_count": 17,
   "id": "01a3acb0",
   "metadata": {
    "vscode": {
     "languageId": "r"
    }
   },
   "outputs": [
    {
     "data": {
      "text/html": [
       "TRUE"
      ],
      "text/latex": [
       "TRUE"
      ],
      "text/markdown": [
       "TRUE"
      ],
      "text/plain": [
       "[1] TRUE"
      ]
     },
     "metadata": {},
     "output_type": "display_data"
    },
    {
     "data": {
      "text/html": [
       "TRUE"
      ],
      "text/latex": [
       "TRUE"
      ],
      "text/markdown": [
       "TRUE"
      ],
      "text/plain": [
       "[1] TRUE"
      ]
     },
     "metadata": {},
     "output_type": "display_data"
    },
    {
     "data": {
      "text/html": [
       "TRUE"
      ],
      "text/latex": [
       "TRUE"
      ],
      "text/markdown": [
       "TRUE"
      ],
      "text/plain": [
       "[1] TRUE"
      ]
     },
     "metadata": {},
     "output_type": "display_data"
    }
   ],
   "source": [
    "# as.data.frame(skim(df_all))\n",
    "\n",
    "nrow(paris_data) == nrow(paris_weekday) + nrow(paris_weekend)\n",
    "nrow(vienna_data) == nrow(vienna_weekday) + nrow(vienna_weekend)\n",
    "nrow(barcelona_data) == nrow(barcelona_weekday) + nrow(barcelona_weekend)"
   ]
  },
  {
   "cell_type": "code",
   "execution_count": 18,
   "id": "1b9dbcb9",
   "metadata": {
    "vscode": {
     "languageId": "r"
    }
   },
   "outputs": [
    {
     "data": {
      "text/html": [
       "<style>\n",
       ".list-inline {list-style: none; margin:0; padding: 0}\n",
       ".list-inline>li {display: inline-block}\n",
       ".list-inline>li:not(:last-child)::after {content: \"\\00b7\"; padding: 0 .5ex}\n",
       "</style>\n",
       "<ol class=list-inline><li>'...1'</li><li>'realSum'</li><li>'room_type'</li><li>'room_shared'</li><li>'room_private'</li><li>'person_capacity'</li><li>'host_is_superhost'</li><li>'multi'</li><li>'biz'</li><li>'cleanliness_rating'</li><li>'guest_satisfaction_overall'</li><li>'bedrooms'</li><li>'dist'</li><li>'metro_dist'</li><li>'attr_index'</li><li>'attr_index_norm'</li><li>'rest_index'</li><li>'rest_index_norm'</li><li>'lng'</li><li>'lat'</li><li>'day_type'</li></ol>\n"
      ],
      "text/latex": [
       "\\begin{enumerate*}\n",
       "\\item '...1'\n",
       "\\item 'realSum'\n",
       "\\item 'room\\_type'\n",
       "\\item 'room\\_shared'\n",
       "\\item 'room\\_private'\n",
       "\\item 'person\\_capacity'\n",
       "\\item 'host\\_is\\_superhost'\n",
       "\\item 'multi'\n",
       "\\item 'biz'\n",
       "\\item 'cleanliness\\_rating'\n",
       "\\item 'guest\\_satisfaction\\_overall'\n",
       "\\item 'bedrooms'\n",
       "\\item 'dist'\n",
       "\\item 'metro\\_dist'\n",
       "\\item 'attr\\_index'\n",
       "\\item 'attr\\_index\\_norm'\n",
       "\\item 'rest\\_index'\n",
       "\\item 'rest\\_index\\_norm'\n",
       "\\item 'lng'\n",
       "\\item 'lat'\n",
       "\\item 'day\\_type'\n",
       "\\end{enumerate*}\n"
      ],
      "text/markdown": [
       "1. '...1'\n",
       "2. 'realSum'\n",
       "3. 'room_type'\n",
       "4. 'room_shared'\n",
       "5. 'room_private'\n",
       "6. 'person_capacity'\n",
       "7. 'host_is_superhost'\n",
       "8. 'multi'\n",
       "9. 'biz'\n",
       "10. 'cleanliness_rating'\n",
       "11. 'guest_satisfaction_overall'\n",
       "12. 'bedrooms'\n",
       "13. 'dist'\n",
       "14. 'metro_dist'\n",
       "15. 'attr_index'\n",
       "16. 'attr_index_norm'\n",
       "17. 'rest_index'\n",
       "18. 'rest_index_norm'\n",
       "19. 'lng'\n",
       "20. 'lat'\n",
       "21. 'day_type'\n",
       "\n",
       "\n"
      ],
      "text/plain": [
       " [1] \"...1\"                       \"realSum\"                   \n",
       " [3] \"room_type\"                  \"room_shared\"               \n",
       " [5] \"room_private\"               \"person_capacity\"           \n",
       " [7] \"host_is_superhost\"          \"multi\"                     \n",
       " [9] \"biz\"                        \"cleanliness_rating\"        \n",
       "[11] \"guest_satisfaction_overall\" \"bedrooms\"                  \n",
       "[13] \"dist\"                       \"metro_dist\"                \n",
       "[15] \"attr_index\"                 \"attr_index_norm\"           \n",
       "[17] \"rest_index\"                 \"rest_index_norm\"           \n",
       "[19] \"lng\"                        \"lat\"                       \n",
       "[21] \"day_type\"                  "
      ]
     },
     "metadata": {},
     "output_type": "display_data"
    },
    {
     "data": {
      "text/html": [
       "<style>\n",
       ".list-inline {list-style: none; margin:0; padding: 0}\n",
       ".list-inline>li {display: inline-block}\n",
       ".list-inline>li:not(:last-child)::after {content: \"\\00b7\"; padding: 0 .5ex}\n",
       "</style>\n",
       "<ol class=list-inline><li>'...1'</li><li>'realSum'</li><li>'room_type'</li><li>'room_shared'</li><li>'room_private'</li><li>'person_capacity'</li><li>'host_is_superhost'</li><li>'multi'</li><li>'biz'</li><li>'cleanliness_rating'</li><li>'guest_satisfaction_overall'</li><li>'bedrooms'</li><li>'dist'</li><li>'metro_dist'</li><li>'attr_index'</li><li>'attr_index_norm'</li><li>'rest_index'</li><li>'rest_index_norm'</li><li>'lng'</li><li>'lat'</li><li>'day_type'</li></ol>\n"
      ],
      "text/latex": [
       "\\begin{enumerate*}\n",
       "\\item '...1'\n",
       "\\item 'realSum'\n",
       "\\item 'room\\_type'\n",
       "\\item 'room\\_shared'\n",
       "\\item 'room\\_private'\n",
       "\\item 'person\\_capacity'\n",
       "\\item 'host\\_is\\_superhost'\n",
       "\\item 'multi'\n",
       "\\item 'biz'\n",
       "\\item 'cleanliness\\_rating'\n",
       "\\item 'guest\\_satisfaction\\_overall'\n",
       "\\item 'bedrooms'\n",
       "\\item 'dist'\n",
       "\\item 'metro\\_dist'\n",
       "\\item 'attr\\_index'\n",
       "\\item 'attr\\_index\\_norm'\n",
       "\\item 'rest\\_index'\n",
       "\\item 'rest\\_index\\_norm'\n",
       "\\item 'lng'\n",
       "\\item 'lat'\n",
       "\\item 'day\\_type'\n",
       "\\end{enumerate*}\n"
      ],
      "text/markdown": [
       "1. '...1'\n",
       "2. 'realSum'\n",
       "3. 'room_type'\n",
       "4. 'room_shared'\n",
       "5. 'room_private'\n",
       "6. 'person_capacity'\n",
       "7. 'host_is_superhost'\n",
       "8. 'multi'\n",
       "9. 'biz'\n",
       "10. 'cleanliness_rating'\n",
       "11. 'guest_satisfaction_overall'\n",
       "12. 'bedrooms'\n",
       "13. 'dist'\n",
       "14. 'metro_dist'\n",
       "15. 'attr_index'\n",
       "16. 'attr_index_norm'\n",
       "17. 'rest_index'\n",
       "18. 'rest_index_norm'\n",
       "19. 'lng'\n",
       "20. 'lat'\n",
       "21. 'day_type'\n",
       "\n",
       "\n"
      ],
      "text/plain": [
       " [1] \"...1\"                       \"realSum\"                   \n",
       " [3] \"room_type\"                  \"room_shared\"               \n",
       " [5] \"room_private\"               \"person_capacity\"           \n",
       " [7] \"host_is_superhost\"          \"multi\"                     \n",
       " [9] \"biz\"                        \"cleanliness_rating\"        \n",
       "[11] \"guest_satisfaction_overall\" \"bedrooms\"                  \n",
       "[13] \"dist\"                       \"metro_dist\"                \n",
       "[15] \"attr_index\"                 \"attr_index_norm\"           \n",
       "[17] \"rest_index\"                 \"rest_index_norm\"           \n",
       "[19] \"lng\"                        \"lat\"                       \n",
       "[21] \"day_type\"                  "
      ]
     },
     "metadata": {},
     "output_type": "display_data"
    },
    {
     "data": {
      "text/html": [
       "<style>\n",
       ".list-inline {list-style: none; margin:0; padding: 0}\n",
       ".list-inline>li {display: inline-block}\n",
       ".list-inline>li:not(:last-child)::after {content: \"\\00b7\"; padding: 0 .5ex}\n",
       "</style>\n",
       "<ol class=list-inline><li>'...1'</li><li>'realSum'</li><li>'room_type'</li><li>'room_shared'</li><li>'room_private'</li><li>'person_capacity'</li><li>'host_is_superhost'</li><li>'multi'</li><li>'biz'</li><li>'cleanliness_rating'</li><li>'guest_satisfaction_overall'</li><li>'bedrooms'</li><li>'dist'</li><li>'metro_dist'</li><li>'attr_index'</li><li>'attr_index_norm'</li><li>'rest_index'</li><li>'rest_index_norm'</li><li>'lng'</li><li>'lat'</li><li>'day_type'</li></ol>\n"
      ],
      "text/latex": [
       "\\begin{enumerate*}\n",
       "\\item '...1'\n",
       "\\item 'realSum'\n",
       "\\item 'room\\_type'\n",
       "\\item 'room\\_shared'\n",
       "\\item 'room\\_private'\n",
       "\\item 'person\\_capacity'\n",
       "\\item 'host\\_is\\_superhost'\n",
       "\\item 'multi'\n",
       "\\item 'biz'\n",
       "\\item 'cleanliness\\_rating'\n",
       "\\item 'guest\\_satisfaction\\_overall'\n",
       "\\item 'bedrooms'\n",
       "\\item 'dist'\n",
       "\\item 'metro\\_dist'\n",
       "\\item 'attr\\_index'\n",
       "\\item 'attr\\_index\\_norm'\n",
       "\\item 'rest\\_index'\n",
       "\\item 'rest\\_index\\_norm'\n",
       "\\item 'lng'\n",
       "\\item 'lat'\n",
       "\\item 'day\\_type'\n",
       "\\end{enumerate*}\n"
      ],
      "text/markdown": [
       "1. '...1'\n",
       "2. 'realSum'\n",
       "3. 'room_type'\n",
       "4. 'room_shared'\n",
       "5. 'room_private'\n",
       "6. 'person_capacity'\n",
       "7. 'host_is_superhost'\n",
       "8. 'multi'\n",
       "9. 'biz'\n",
       "10. 'cleanliness_rating'\n",
       "11. 'guest_satisfaction_overall'\n",
       "12. 'bedrooms'\n",
       "13. 'dist'\n",
       "14. 'metro_dist'\n",
       "15. 'attr_index'\n",
       "16. 'attr_index_norm'\n",
       "17. 'rest_index'\n",
       "18. 'rest_index_norm'\n",
       "19. 'lng'\n",
       "20. 'lat'\n",
       "21. 'day_type'\n",
       "\n",
       "\n"
      ],
      "text/plain": [
       " [1] \"...1\"                       \"realSum\"                   \n",
       " [3] \"room_type\"                  \"room_shared\"               \n",
       " [5] \"room_private\"               \"person_capacity\"           \n",
       " [7] \"host_is_superhost\"          \"multi\"                     \n",
       " [9] \"biz\"                        \"cleanliness_rating\"        \n",
       "[11] \"guest_satisfaction_overall\" \"bedrooms\"                  \n",
       "[13] \"dist\"                       \"metro_dist\"                \n",
       "[15] \"attr_index\"                 \"attr_index_norm\"           \n",
       "[17] \"rest_index\"                 \"rest_index_norm\"           \n",
       "[19] \"lng\"                        \"lat\"                       \n",
       "[21] \"day_type\"                  "
      ]
     },
     "metadata": {},
     "output_type": "display_data"
    },
    {
     "data": {
      "text/html": [
       "TRUE"
      ],
      "text/latex": [
       "TRUE"
      ],
      "text/markdown": [
       "TRUE"
      ],
      "text/plain": [
       "[1] TRUE"
      ]
     },
     "metadata": {},
     "output_type": "display_data"
    }
   ],
   "source": [
    "# list columns and check if they are the same across all dataframes\n",
    "\n",
    "colnames(paris_data)\n",
    "colnames(vienna_data)\n",
    "colnames(barcelona_data)\n",
    "\n",
    "all(colnames(paris_data) == colnames(vienna_data)) && all(colnames(paris_data) == colnames(barcelona_data))"
   ]
  },
  {
   "cell_type": "code",
   "execution_count": 19,
   "id": "c1de7c90",
   "metadata": {
    "vscode": {
     "languageId": "r"
    }
   },
   "outputs": [],
   "source": [
    "# clean each dataframe\n",
    "\n",
    "# Create a list of dataframes\n",
    "city_data_list <- list(\n",
    "  paris = paris_data,\n",
    "  vienna = vienna_data,\n",
    "  barcelona = barcelona_data\n",
    ")\n",
    "\n",
    "# Clean all dataframes using a for loop\n",
    "for (city in names(city_data_list)) {\n",
    "  city_data_list[[city]] <- city_data_list[[city]] %>%\n",
    "    select(-1, -attr_index, -rest_index) %>%\n",
    "    mutate(\n",
    "      room_type = as.factor(room_type),\n",
    "      host_is_superhost = as.factor(host_is_superhost),\n",
    "      multi = as.factor(multi),\n",
    "      biz = as.factor(biz),\n",
    "      day_type = as.factor(day_type)\n",
    "    ) %>%\n",
    "    filter(realSum <= mean(realSum) + 3*sd(realSum)) %>%\n",
    "    mutate(price_per_person = realSum/person_capacity) %>%\n",
    "    mutate(across(c(cleanliness_rating, guest_satisfaction_overall, \n",
    "                    dist, metro_dist), scale)) %>%\n",
    "    na.omit()\n",
    "}\n",
    "\n",
    "# Assign the cleaned dataframes back to their original names\n",
    "paris_data <- city_data_list$paris\n",
    "vienna_data <- city_data_list$vienna\n",
    "barcelona_data <- city_data_list$barcelona\n"
   ]
  },
  {
   "cell_type": "code",
   "execution_count": 20,
   "id": "5c7c28dc",
   "metadata": {
    "vscode": {
     "languageId": "r"
    }
   },
   "outputs": [
    {
     "data": {
      "image/png": "[encoded data removed]",
      "text/plain": [
       "plot without title"
      ]
     },
     "metadata": {
      "image/png": {
       "height": 420,
       "width": 420
      }
     },
     "output_type": "display_data"
    },
    {
     "data": {
      "image/png": "[encoded data removed]",
      "text/plain": [
       "plot without title"
      ]
     },
     "metadata": {
      "image/png": {
       "height": 420,
       "width": 420
      }
     },
     "output_type": "display_data"
    },
    {
     "data": {
      "image/png": "[encoded data removed]",
      "text/plain": [
       "plot without title"
      ]
     },
     "metadata": {
      "image/png": {
       "height": 420,
       "width": 420
      }
     },
     "output_type": "display_data"
    }
   ],
   "source": [
    "# check distribution of realSum in each city\n",
    "\n",
    "for (city in names(city_data_list)) {\n",
    "\n",
    "  plot_city <- ggplot(city_data_list[[city]], aes(x = realSum)) +\n",
    "    geom_histogram(bins = 30, fill = \"blue\", alpha = 0.7) +\n",
    "    labs(title = paste(\"Distribution of realSum in\", city),\n",
    "         x = \"realSum\",\n",
    "         y = \"Frequency\") +\n",
    "    theme_minimal()\n",
    "  print(plot_city)\n",
    "}"
   ]
  },
  {
   "cell_type": "code",
   "execution_count": 21,
   "id": "9b3c1aec",
   "metadata": {
    "vscode": {
     "languageId": "r"
    }
   },
   "outputs": [],
   "source": [
    "# apply log transformation to realSum in each city\n",
    "\n",
    "for (city in names(city_data_list)) {\n",
    "  city_data_list[[city]] <- city_data_list[[city]] %>%\n",
    "    mutate(log_realSum = log(realSum + 1)) # Adding 1 to avoid log(0)\n",
    "}"
   ]
  },
  {
   "cell_type": "code",
   "execution_count": 22,
   "id": "86b4719f",
   "metadata": {
    "vscode": {
     "languageId": "r"
    }
   },
   "outputs": [],
   "source": [
    "# drop realSum and use log_realSum as the response variable\n",
    "\n",
    "for (city in names(city_data_list)) {\n",
    "  city_data_list[[city]] <- city_data_list[[city]] %>%\n",
    "    select(-realSum)\n",
    "}"
   ]
  },
  {
   "cell_type": "code",
   "execution_count": 23,
   "id": "efd13589",
   "metadata": {
    "vscode": {
     "languageId": "r"
    }
   },
   "outputs": [
    {
     "data": {
      "image/png": "[encoded data removed]",
      "text/plain": [
       "plot without title"
      ]
     },
     "metadata": {
      "image/png": {
       "height": 420,
       "width": 420
      }
     },
     "output_type": "display_data"
    },
    {
     "data": {
      "image/png": "[encoded data removed]",
      "text/plain": [
       "plot without title"
      ]
     },
     "metadata": {
      "image/png": {
       "height": 420,
       "width": 420
      }
     },
     "output_type": "display_data"
    },
    {
     "data": {
      "image/png": "[encoded data removed]",
      "text/plain": [
       "plot without title"
      ]
     },
     "metadata": {
      "image/png": {
       "height": 420,
       "width": 420
      }
     },
     "output_type": "display_data"
    }
   ],
   "source": [
    "# plot distribution of log_realSum in each city again to check\n",
    "\n",
    "for (city in names(city_data_list)) {\n",
    "\n",
    "  plot_city <- ggplot(city_data_list[[city]], aes(x = log_realSum)) +\n",
    "    geom_histogram(bins = 30, fill = \"green\", alpha = 0.7) +\n",
    "    labs(title = paste(\"Distribution of log_realSum in\", city),\n",
    "         x = \"log_realSum\",\n",
    "         y = \"Frequency\") +\n",
    "    theme_minimal()\n",
    "  print(plot_city)\n",
    "}"
   ]
  },
  {
   "cell_type": "code",
   "execution_count": 24,
   "id": "ae27d6e4",
   "metadata": {
    "vscode": {
     "languageId": "r"
    }
   },
   "outputs": [],
   "source": [
    "# split all 3 dataframes into 80% training, 10% testing, and 10% for inference\n",
    "\n",
    "set.seed(123)  # For reproducibility\n",
    "\n",
    "for (city in names(city_data_list)) {\n",
    "  df <- city_data_list[[city]]\n",
    "  \n",
    "  # Create a random sample of row indices for training (80%)\n",
    "  train_indices <- sample(1:nrow(df), size = 0.8 * nrow(df))\n",
    "  \n",
    "  # Create the training set\n",
    "  train_set <- df[train_indices, ]\n",
    "  \n",
    "  # Create the remaining data for testing and inference (20%)\n",
    "  remaining_set <- df[-train_indices, ]\n",
    "  \n",
    "  # Split the remaining set into testing (10%) and inference (10%)\n",
    "  test_indices <- sample(1:nrow(remaining_set), size = 0.5 * nrow(remaining_set))\n",
    "  \n",
    "  test_set <- remaining_set[test_indices, ]\n",
    "  inference_set <- remaining_set[-test_indices, ]\n",
    "  \n",
    "  # Assign the sets back to the list\n",
    "  city_data_list[[city]] <- list(\n",
    "    train = train_set,\n",
    "    test = test_set,\n",
    "    inference = inference_set\n",
    "  )\n",
    "}\n",
    "\n",
    "# Assign the sets back to their original names\n",
    "paris_train <- city_data_list$paris$train\n",
    "paris_test <- city_data_list$paris$test\n",
    "paris_inference <- city_data_list$paris$inference\n",
    "\n",
    "vienna_train <- city_data_list$vienna$train\n",
    "vienna_test <- city_data_list$vienna$test\n",
    "vienna_inference <- city_data_list$vienna$inference\n",
    "\n",
    "barcelona_train <- city_data_list$barcelona$train\n",
    "barcelona_test <- city_data_list$barcelona$test\n",
    "barcelona_inference <- city_data_list$barcelona$inference"
   ]
  },
  {
   "cell_type": "code",
   "execution_count": 25,
   "id": "0f99e38c",
   "metadata": {
    "vscode": {
     "languageId": "r"
    }
   },
   "outputs": [],
   "source": [
    "city_train_list <- list(\n",
    "  paris = paris_train,\n",
    "  vienna = vienna_train,\n",
    "  barcelona = barcelona_train\n",
    ")\n",
    "\n",
    "city_test_list <- list(\n",
    "  paris = paris_test,\n",
    "  vienna = vienna_test,\n",
    "  barcelona = barcelona_test\n",
    ")\n",
    "\n",
    "city_inference_list <- list(\n",
    "  paris = paris_inference,\n",
    "  vienna = vienna_inference,\n",
    "  barcelona = barcelona_inference\n",
    ")"
   ]
  },
  {
   "cell_type": "code",
   "execution_count": 26,
   "id": "0508e127",
   "metadata": {
    "vscode": {
     "languageId": "r"
    }
   },
   "outputs": [
    {
     "name": "stdout",
     "output_type": "stream",
     "text": [
      "\n",
      "Correlation matrix for paris :\n",
      "\n",
      "\n",
      "Correlation matrix for vienna :\n"
     ]
    },
    {
     "data": {
      "image/png": "[encoded data removed]",
      "text/plain": [
       "Plot with title \"Correlation Heatmap - paris\""
      ]
     },
     "metadata": {
      "image/png": {
       "height": 420,
       "width": 420
      }
     },
     "output_type": "display_data"
    },
    {
     "name": "stdout",
     "output_type": "stream",
     "text": [
      "\n",
      "\n",
      "Correlation matrix for barcelona :\n"
     ]
    },
    {
     "data": {
      "image/png": "[encoded data removed]",
      "text/plain": [
       "Plot with title \"Correlation Heatmap - vienna\""
      ]
     },
     "metadata": {
      "image/png": {
       "height": 420,
       "width": 420
      }
     },
     "output_type": "display_data"
    },
    {
     "name": "stdout",
     "output_type": "stream",
     "text": [
      "\n"
     ]
    },
    {
     "data": {
      "image/png": "[encoded data removed]",
      "text/plain": [
       "Plot with title \"Correlation Heatmap - barcelona\""
      ]
     },
     "metadata": {
      "image/png": {
       "height": 420,
       "width": 420
      }
     },
     "output_type": "display_data"
    }
   ],
   "source": [
    "library(corrplot)\n",
    "\n",
    "# Modify the for loop to create correlation heatmaps\n",
    "for (city in names(city_train_list)) {\n",
    "  # Select only numeric columns for correlation\n",
    "  numeric_cols <- city_train_list[[city]] %>%\n",
    "    select_if(is.numeric) %>%\n",
    "    select(-lng, -lat) # excluding coordinates for clarity\n",
    "  \n",
    "  # Calculate correlation matrix\n",
    "  corr_matrix <- cor(numeric_cols, use = \"complete.obs\")\n",
    "  \n",
    "  # Create correlation plot\n",
    "  cat(paste(\"\\nCorrelation matrix for\", city, \":\\n\"))\n",
    "  \n",
    "  # Plot correlation matrix\n",
    "  corrplot(corr_matrix, \n",
    "          method = \"color\",\n",
    "          type = \"full\",\n",
    "          addCoef.col = \"black\",\n",
    "          tl.col = \"black\",\n",
    "          tl.srt = 45,\n",
    "          number.cex = 0.7,\n",
    "          title = paste(\"Correlation Heatmap -\", city),\n",
    "          mar = c(0,0,2,0))\n",
    "  \n",
    "  # Add some space between plots\n",
    "  cat(\"\\n\")\n",
    "}"
   ]
  },
  {
   "cell_type": "code",
   "execution_count": 28,
   "id": "3c5970bd",
   "metadata": {
    "vscode": {
     "languageId": "r"
    }
   },
   "outputs": [
    {
     "data": {
      "text/html": [
       "<dl>\n",
       "\t<dt>$paris</dt>\n",
       "\t\t<dd><style>\n",
       ".list-inline {list-style: none; margin:0; padding: 0}\n",
       ".list-inline>li {display: inline-block}\n",
       ".list-inline>li:not(:last-child)::after {content: \"\\00b7\"; padding: 0 .5ex}\n",
       "</style>\n",
       "<ol class=list-inline><li>'price_per_person'</li><li>'person_capacity'</li><li>'attr_index_norm'</li><li>'rest_index_norm'</li><li>'bedrooms'</li><li>'dist'</li><li>'cleanliness_rating'</li><li>'metro_dist'</li><li>'guest_satisfaction_overall'</li></ol>\n",
       "</dd>\n",
       "\t<dt>$vienna</dt>\n",
       "\t\t<dd><style>\n",
       ".list-inline {list-style: none; margin:0; padding: 0}\n",
       ".list-inline>li {display: inline-block}\n",
       ".list-inline>li:not(:last-child)::after {content: \"\\00b7\"; padding: 0 .5ex}\n",
       "</style>\n",
       "<ol class=list-inline><li>'price_per_person'</li><li>'person_capacity'</li><li>'dist'</li><li>'bedrooms'</li><li>'attr_index_norm'</li><li>'rest_index_norm'</li><li>'metro_dist'</li><li>'cleanliness_rating'</li><li>'guest_satisfaction_overall'</li></ol>\n",
       "</dd>\n",
       "\t<dt>$barcelona</dt>\n",
       "\t\t<dd><style>\n",
       ".list-inline {list-style: none; margin:0; padding: 0}\n",
       ".list-inline>li {display: inline-block}\n",
       ".list-inline>li:not(:last-child)::after {content: \"\\00b7\"; padding: 0 .5ex}\n",
       "</style>\n",
       "<ol class=list-inline><li>'price_per_person'</li><li>'person_capacity'</li><li>'bedrooms'</li><li>'dist'</li><li>'rest_index_norm'</li><li>'attr_index_norm'</li><li>'metro_dist'</li><li>'cleanliness_rating'</li><li>'guest_satisfaction_overall'</li></ol>\n",
       "</dd>\n",
       "</dl>\n"
      ],
      "text/latex": [
       "\\begin{description}\n",
       "\\item[\\$paris] \\begin{enumerate*}\n",
       "\\item 'price\\_per\\_person'\n",
       "\\item 'person\\_capacity'\n",
       "\\item 'attr\\_index\\_norm'\n",
       "\\item 'rest\\_index\\_norm'\n",
       "\\item 'bedrooms'\n",
       "\\item 'dist'\n",
       "\\item 'cleanliness\\_rating'\n",
       "\\item 'metro\\_dist'\n",
       "\\item 'guest\\_satisfaction\\_overall'\n",
       "\\end{enumerate*}\n",
       "\n",
       "\\item[\\$vienna] \\begin{enumerate*}\n",
       "\\item 'price\\_per\\_person'\n",
       "\\item 'person\\_capacity'\n",
       "\\item 'dist'\n",
       "\\item 'bedrooms'\n",
       "\\item 'attr\\_index\\_norm'\n",
       "\\item 'rest\\_index\\_norm'\n",
       "\\item 'metro\\_dist'\n",
       "\\item 'cleanliness\\_rating'\n",
       "\\item 'guest\\_satisfaction\\_overall'\n",
       "\\end{enumerate*}\n",
       "\n",
       "\\item[\\$barcelona] \\begin{enumerate*}\n",
       "\\item 'price\\_per\\_person'\n",
       "\\item 'person\\_capacity'\n",
       "\\item 'bedrooms'\n",
       "\\item 'dist'\n",
       "\\item 'rest\\_index\\_norm'\n",
       "\\item 'attr\\_index\\_norm'\n",
       "\\item 'metro\\_dist'\n",
       "\\item 'cleanliness\\_rating'\n",
       "\\item 'guest\\_satisfaction\\_overall'\n",
       "\\end{enumerate*}\n",
       "\n",
       "\\end{description}\n"
      ],
      "text/markdown": [
       "$paris\n",
       ":   1. 'price_per_person'\n",
       "2. 'person_capacity'\n",
       "3. 'attr_index_norm'\n",
       "4. 'rest_index_norm'\n",
       "5. 'bedrooms'\n",
       "6. 'dist'\n",
       "7. 'cleanliness_rating'\n",
       "8. 'metro_dist'\n",
       "9. 'guest_satisfaction_overall'\n",
       "\n",
       "\n",
       "\n",
       "$vienna\n",
       ":   1. 'price_per_person'\n",
       "2. 'person_capacity'\n",
       "3. 'dist'\n",
       "4. 'bedrooms'\n",
       "5. 'attr_index_norm'\n",
       "6. 'rest_index_norm'\n",
       "7. 'metro_dist'\n",
       "8. 'cleanliness_rating'\n",
       "9. 'guest_satisfaction_overall'\n",
       "\n",
       "\n",
       "\n",
       "$barcelona\n",
       ":   1. 'price_per_person'\n",
       "2. 'person_capacity'\n",
       "3. 'bedrooms'\n",
       "4. 'dist'\n",
       "5. 'rest_index_norm'\n",
       "6. 'attr_index_norm'\n",
       "7. 'metro_dist'\n",
       "8. 'cleanliness_rating'\n",
       "9. 'guest_satisfaction_overall'\n",
       "\n",
       "\n",
       "\n",
       "\n",
       "\n"
      ],
      "text/plain": [
       "$paris\n",
       "[1] \"price_per_person\"           \"person_capacity\"           \n",
       "[3] \"attr_index_norm\"            \"rest_index_norm\"           \n",
       "[5] \"bedrooms\"                   \"dist\"                      \n",
       "[7] \"cleanliness_rating\"         \"metro_dist\"                \n",
       "[9] \"guest_satisfaction_overall\"\n",
       "\n",
       "$vienna\n",
       "[1] \"price_per_person\"           \"person_capacity\"           \n",
       "[3] \"dist\"                       \"bedrooms\"                  \n",
       "[5] \"attr_index_norm\"            \"rest_index_norm\"           \n",
       "[7] \"metro_dist\"                 \"cleanliness_rating\"        \n",
       "[9] \"guest_satisfaction_overall\"\n",
       "\n",
       "$barcelona\n",
       "[1] \"price_per_person\"           \"person_capacity\"           \n",
       "[3] \"bedrooms\"                   \"dist\"                      \n",
       "[5] \"rest_index_norm\"            \"attr_index_norm\"           \n",
       "[7] \"metro_dist\"                 \"cleanliness_rating\"        \n",
       "[9] \"guest_satisfaction_overall\"\n"
      ]
     },
     "metadata": {},
     "output_type": "display_data"
    }
   ],
   "source": [
    "# check if top affected variables are the same across all cities\n",
    "top_vars_list <- list()\n",
    "\n",
    "for (city in names(city_train_list)) {\n",
    "  # Select only numeric columns for correlation\n",
    "  numeric_cols <- city_train_list[[city]] %>%\n",
    "    select_if(is.numeric) %>%\n",
    "    select(-lng, -lat) # excluding coordinates for clarity\n",
    "  \n",
    "  # Calculate correlation matrix\n",
    "  corr_matrix <- cor(numeric_cols, use = \"complete.obs\")\n",
    "  \n",
    "  # Find the top affected variables (e.g., those with high correlation with log_realSum)\n",
    "  top_vars <- sort(abs(corr_matrix[\"log_realSum\", ]), decreasing = TRUE)[-1] # Exclude self-correlation\n",
    "  \n",
    "  # Store the top variables in the list\n",
    "  top_vars_list[[city]] <- names(top_vars) \n",
    "}\n",
    "\n",
    "top_vars_list\n"
   ]
  },
  {
   "cell_type": "markdown",
   "id": "f7ea0c80",
   "metadata": {},
   "source": [
    "**Insights**\n",
    "\n",
    "We see that between these 3 cities, the top 9 affected variables for them are the same (just different in order)"
   ]
  },
  {
   "cell_type": "markdown",
   "id": "b3f9b61f-7941-47b6-a2a2-ecfd79240f92",
   "metadata": {},
   "source": [
    "## Plots"
   ]
  },
  {
   "cell_type": "code",
   "execution_count": 11,
   "id": "b1605178",
   "metadata": {
    "vscode": {
     "languageId": "r"
    }
   },
   "outputs": [],
   "source": [
    "# ggplot(df_all, aes(x = log(realSum))) +\n",
    "#   geom_histogram(bins = 50, fill = \"skyblue\", color = \"white\") +\n",
    "#   labs(title = \"Distribution of Airbnb Prices (log scale)\",\n",
    "#        x = \"Price (log10)\",\n",
    "#        y = \"Count\") +\n",
    "#   theme_minimal()\n",
    "\n"
   ]
  },
  {
   "cell_type": "code",
   "execution_count": 12,
   "id": "3b86e384",
   "metadata": {
    "vscode": {
     "languageId": "r"
    }
   },
   "outputs": [],
   "source": [
    "# ggplot(df_all, aes(x = realSum)) +\n",
    "#   geom_histogram(bins = 50, fill = \"skyblue\", color = \"white\") +\n",
    "#   labs(\n",
    "#     title = \"Airbnb Price Distribution by City (Original Scale)\",\n",
    "#     x = \"Price (realSum)\",\n",
    "#     y = \"Count\"\n",
    "#   ) +\n",
    "#   theme_minimal()"
   ]
  },
  {
   "cell_type": "code",
   "execution_count": 13,
   "id": "48a255ed-c09a-46cc-92f9-03c82a2952b3",
   "metadata": {
    "vscode": {
     "languageId": "r"
    }
   },
   "outputs": [],
   "source": [
    "# ggplot(df_all, aes(x = room_type, y = realSum)) +\n",
    "#   geom_boxplot(fill = \"skyblue\") +\n",
    "#   scale_y_log10() +\n",
    "#   labs(title = \"Price by Room Type\", x = \"Room Type\", y = \"Price (log scale)\")\n"
   ]
  },
  {
   "cell_type": "code",
   "execution_count": 14,
   "id": "67ff4d4a-e46b-4f61-be13-1c1a36956112",
   "metadata": {
    "vscode": {
     "languageId": "r"
    }
   },
   "outputs": [],
   "source": [
    "# ggplot(df_all, aes(x = dist, y = realSum, color = day_type)) +\n",
    "#   geom_point(alpha = 0.5) +\n",
    "#   geom_smooth() +  \n",
    "#   scale_y_log10() +\n",
    "#   labs(title = \"Price vs Distance from City Centre\",\n",
    "#        x = \"Distance to Centre\", y = \"Price (log scale)\")\n",
    "\n"
   ]
  },
  {
   "cell_type": "code",
   "execution_count": 15,
   "id": "bf71c17f-2fdb-4a0f-8037-9fe9e150efcd",
   "metadata": {
    "vscode": {
     "languageId": "r"
    }
   },
   "outputs": [],
   "source": [
    "# ggplot(df_all, aes(x = day_type, y = realSum, fill = day_type)) +\n",
    "#   geom_boxplot(outlier.alpha = 0.2) +\n",
    "#   stat_summary(fun = mean, geom = \"point\", shape = 18, size = 3, color = \"red\") +\n",
    "#   scale_y_log10() +\n",
    "#   labs(title = \"Price Distribution by Day Type (with Mean)\",\n",
    "#        x = \"Day Type\", y = \"Price (log scale)\") +\n",
    "#   theme_minimal()\n"
   ]
  },
  {
   "cell_type": "code",
   "execution_count": 16,
   "id": "53dfb73c",
   "metadata": {
    "vscode": {
     "languageId": "r"
    }
   },
   "outputs": [],
   "source": [
    "# ggplot(df_all, aes(x = factor(person_capacity), y = log(realSum))) +\n",
    "#   geom_boxplot(fill = \"lightblue\", outlier.alpha = 0.2) +\n",
    "#   labs(\n",
    "#     title = \"Price Distribution by Person Capacity\",\n",
    "#     x = \"Person Capacity (as factor)\",\n",
    "#     y = \"Price (realSum)\"\n",
    "#   ) +\n",
    "#   theme_minimal()\n",
    "\n"
   ]
  },
  {
   "cell_type": "code",
   "execution_count": 17,
   "id": "7f84cff9-cdfc-499b-9fbf-6cb6be09725d",
   "metadata": {
    "vscode": {
     "languageId": "r"
    }
   },
   "outputs": [],
   "source": [
    "# ggplot(df_all, aes(x = factor(cleanliness_rating), y = realSum)) +\n",
    "#   geom_boxplot(fill = \"lightgreen\", outlier.alpha = 0.2) +\n",
    "#   scale_y_log10() +\n",
    "#   labs(\n",
    "#     title = \"Price Distribution by Cleanliness Rating\",\n",
    "#     x = \"Cleanliness Rating (as factor)\",\n",
    "#     y = \"Price (log scale)\"\n",
    "#   ) +\n",
    "#   theme_minimal()\n",
    "\n",
    "\n"
   ]
  },
  {
   "cell_type": "code",
   "execution_count": 32,
   "id": "b8ca984f",
   "metadata": {
    "vscode": {
     "languageId": "r"
    }
   },
   "outputs": [
    {
     "name": "stdout",
     "output_type": "stream",
     "text": [
      "[1] \"\\nMulticollinearity VIF values for Paris:\\n\"\n",
      "          price_per_person            person_capacity \n",
      "                  1.379467                   1.531169 \n",
      "                  bedrooms            attr_index_norm \n",
      "                  1.427406                   2.668540 \n",
      "           rest_index_norm                       dist \n",
      "                  3.826508                   2.142829 \n",
      "        cleanliness_rating                 metro_dist \n",
      "                  1.801866                   1.097319 \n",
      "guest_satisfaction_overall \n",
      "                  1.799275 \n"
     ]
    }
   ],
   "source": [
    "## check for multicollinearity between top predictors only in each city\n",
    "\n",
    "# for (city in names(city_train_list)) {\n",
    "#     fit_city <- lm(log_realSum ~ price_per_person + person_capacity + bedrooms + attr_index_norm + rest_index_norm + dist + cleanliness_rating + metro_dist + guest_satisfaction_overall, data = city_train_list[[city]])\n",
    "#     vif_values <- vif(fit_city)  \n",
    "#   cat(paste(\"\\nMulticollinearity VIF values for\", city, \":\\n\"))\n",
    "#   print(vif_values)\n",
    "# }\n",
    "\n",
    "fit_paris <- lm(log_realSum ~ price_per_person + person_capacity + bedrooms + attr_index_norm + rest_index_norm + dist + cleanliness_rating + metro_dist + guest_satisfaction_overall, data = paris_train)\n",
    "paris_values <- vif(fit_paris)\n",
    "print(\"\\nMulticollinearity VIF values for Paris:\\n\")\n",
    "print(paris_values)"
   ]
  },
  {
   "cell_type": "code",
   "execution_count": 33,
   "id": "dfa135c7",
   "metadata": {
    "vscode": {
     "languageId": "r"
    }
   },
   "outputs": [
    {
     "name": "stdout",
     "output_type": "stream",
     "text": [
      "[1] \"\\nMulticollinearity VIF values for Vienna:\\n\"\n",
      "          price_per_person            person_capacity \n",
      "                  1.365988                   1.670561 \n",
      "                  bedrooms            attr_index_norm \n",
      "                  1.413068                   4.511581 \n",
      "           rest_index_norm                       dist \n",
      "                  4.577650                   2.219911 \n",
      "        cleanliness_rating                 metro_dist \n",
      "                  1.619600                   1.483129 \n",
      "guest_satisfaction_overall \n",
      "                  1.626493 \n"
     ]
    }
   ],
   "source": [
    "fit_vienna <- lm(log_realSum ~ price_per_person + person_capacity + bedrooms + attr_index_norm + rest_index_norm + dist + cleanliness_rating + metro_dist + guest_satisfaction_overall, data = vienna_train)\n",
    "vienna_values <- vif(fit_vienna)\n",
    "print(\"\\nMulticollinearity VIF values for Vienna:\\n\")\n",
    "print(vienna_values)"
   ]
  },
  {
   "cell_type": "code",
   "execution_count": 34,
   "id": "8a000079",
   "metadata": {
    "vscode": {
     "languageId": "r"
    }
   },
   "outputs": [
    {
     "name": "stdout",
     "output_type": "stream",
     "text": [
      "[1] \"\\nMulticollinearity VIF values for Barcelona:\\n\"\n",
      "          price_per_person            person_capacity \n",
      "                  1.096544                   2.111964 \n",
      "                  bedrooms            attr_index_norm \n",
      "                  2.108552                   2.073790 \n",
      "           rest_index_norm                       dist \n",
      "                  3.781395                   3.410019 \n",
      "        cleanliness_rating                 metro_dist \n",
      "                  2.237041                   1.257433 \n",
      "guest_satisfaction_overall \n",
      "                  2.254291 \n"
     ]
    }
   ],
   "source": [
    "fit_barcelona <- lm(log_realSum ~ price_per_person + person_capacity + bedrooms + attr_index_norm + rest_index_norm + dist + cleanliness_rating + metro_dist + guest_satisfaction_overall, data = barcelona_train)\n",
    "barcelona_values <- vif(fit_barcelona)\n",
    "print(\"\\nMulticollinearity VIF values for Barcelona:\\n\")\n",
    "print(barcelona_values)"
   ]
  },
  {
   "cell_type": "markdown",
   "id": "b5a4bb29",
   "metadata": {},
   "source": [
    "**Insights:**\n",
    "\n",
    "In all 3 cities, rest_index_norm has the highest VIF (close to 4 in Paris and Barcelona and close to 5 in Vienna)"
   ]
  },
  {
   "cell_type": "code",
   "execution_count": null,
   "id": "a1d874cf",
   "metadata": {
    "vscode": {
     "languageId": "r"
    }
   },
   "outputs": [
    {
     "name": "stdout",
     "output_type": "stream",
     "text": [
      "[1] \"\\nNew multicollinearity VIF values for Paris:\\n\"\n",
      "          price_per_person            person_capacity \n",
      "                  1.366179                   1.528739 \n",
      "                  bedrooms            attr_index_norm \n",
      "                  1.426327                   1.642165 \n",
      "                      dist         cleanliness_rating \n",
      "                  1.455399                   1.801855 \n",
      "                metro_dist guest_satisfaction_overall \n",
      "                  1.088562                   1.798957 \n"
     ]
    }
   ],
   "source": [
    "fit_paris_0 <- lm(log_realSum ~ price_per_person + person_capacity + bedrooms + attr_index_norm + dist + cleanliness_rating + metro_dist + guest_satisfaction_overall, data = paris_train)\n",
    "paris_values_0 <- vif(fit_paris_0)\n",
    "print(\"\\nNew multicollinearity VIF values for Paris:\\n\")\n",
    "print(paris_values_0)"
   ]
  },
  {
   "cell_type": "code",
   "execution_count": 38,
   "id": "d24a4054",
   "metadata": {
    "vscode": {
     "languageId": "r"
    }
   },
   "outputs": [
    {
     "name": "stdout",
     "output_type": "stream",
     "text": [
      "[1] \"\\nNew multicollinearity VIF values for Vienna:\\n\"\n",
      "          price_per_person            person_capacity \n",
      "                  1.365968                   1.669624 \n",
      "                  bedrooms            attr_index_norm \n",
      "                  1.409903                   1.606946 \n",
      "                      dist         cleanliness_rating \n",
      "                  2.109671                   1.619487 \n",
      "                metro_dist guest_satisfaction_overall \n",
      "                  1.475966                   1.626432 \n"
     ]
    }
   ],
   "source": [
    "fit_vienna_0 <- lm(log_realSum ~ price_per_person + person_capacity + bedrooms + attr_index_norm + dist + cleanliness_rating + metro_dist + guest_satisfaction_overall, data = vienna_train)\n",
    "vienna_values_0 <- vif(fit_vienna_0)\n",
    "print(\"\\nNew multicollinearity VIF values for Vienna:\\n\")\n",
    "print(vienna_values_0)"
   ]
  },
  {
   "cell_type": "code",
   "execution_count": 39,
   "id": "5e63737f",
   "metadata": {
    "vscode": {
     "languageId": "r"
    }
   },
   "outputs": [
    {
     "name": "stdout",
     "output_type": "stream",
     "text": [
      "[1] \"\\nNew multicollinearity VIF values for Barcelona:\\n\"\n",
      "          price_per_person            person_capacity \n",
      "                  1.096471                   2.111916 \n",
      "                  bedrooms            attr_index_norm \n",
      "                  2.093392                   1.744580 \n",
      "                      dist         cleanliness_rating \n",
      "                  1.922995                   2.234935 \n",
      "                metro_dist guest_satisfaction_overall \n",
      "                  1.256214                   2.253126 \n"
     ]
    }
   ],
   "source": [
    "fit_barcelona_0 <- lm(log_realSum ~ price_per_person + person_capacity + bedrooms + attr_index_norm + dist + cleanliness_rating + metro_dist + guest_satisfaction_overall, data = barcelona_train)\n",
    "barcelona_values_0 <- vif(fit_barcelona_0)\n",
    "print(\"\\nNew multicollinearity VIF values for Barcelona:\\n\")\n",
    "print(barcelona_values_0)"
   ]
  },
  {
   "cell_type": "code",
   "execution_count": 40,
   "id": "bbed020d",
   "metadata": {
    "vscode": {
     "languageId": "r"
    }
   },
   "outputs": [
    {
     "name": "stdout",
     "output_type": "stream",
     "text": [
      "VIF Summary Statistics Before vs After dropping rest_index_norm:\n",
      "\n",
      "Paris:\n",
      "Before: 1.097, 1.799, 3.827 \n",
      "After:  1.089, 1.492, 1.802 \n",
      "\n",
      "Vienna:\n",
      "Before: 1.366, 1.626, 4.578 \n",
      "After:  1.366, 1.613, 2.11 \n",
      "\n",
      "Barcelona:\n",
      "Before: 1.097, 2.112, 3.781 \n",
      "After:  1.096, 2.008, 2.253 \n"
     ]
    }
   ],
   "source": [
    "# double check to see if the VIFs are improved\n",
    "\n",
    "# Function to calculate VIF summary statistics\n",
    "vif_summary <- function(vif_values) {\n",
    "  return(c(\n",
    "    min = round(min(vif_values), 3),\n",
    "    median = round(median(vif_values), 3),\n",
    "    max = round(max(vif_values), 3)\n",
    "  ))\n",
    "}\n",
    "\n",
    "# Create comparison table\n",
    "cat(\"VIF Summary Statistics Before vs After dropping rest_index_norm:\\n\\n\")\n",
    "\n",
    "# Paris comparison\n",
    "cat(\"Paris:\\n\")\n",
    "cat(\"Before:\", paste(vif_summary(paris_values), collapse = \", \"), \"\\n\")\n",
    "cat(\"After: \", paste(vif_summary(paris_values_0), collapse = \", \"), \"\\n\\n\")\n",
    "\n",
    "# Vienna comparison\n",
    "cat(\"Vienna:\\n\")\n",
    "cat(\"Before:\", paste(vif_summary(vienna_values), collapse = \", \"), \"\\n\")\n",
    "cat(\"After: \", paste(vif_summary(vienna_values_0), collapse = \", \"), \"\\n\\n\")\n",
    "\n",
    "# Barcelona comparison\n",
    "cat(\"Barcelona:\\n\")\n",
    "cat(\"Before:\", paste(vif_summary(barcelona_values), collapse = \", \"), \"\\n\")\n",
    "cat(\"After: \", paste(vif_summary(barcelona_values_0), collapse = \", \"), \"\\n\")"
   ]
  },
  {
   "cell_type": "markdown",
   "id": "947a3db2",
   "metadata": {},
   "source": [
    "**Insights**\n",
    "\n",
    "After dropping rest_index_norm from each of the 3 cities, we can see that although the min and median VIFs slightly decrease, the maximum VIFs decrease significantly"
   ]
  },
  {
   "cell_type": "markdown",
   "id": "9a8a25b1-ef22-442b-a888-f27a64032cd0",
   "metadata": {},
   "source": [
    "### Research Question\n",
    "\n",
    "**Question:**  \n",
    "How do room characteristics, spatial factors, ratings, and amenity-related features influence Airbnb listing prices in Barcelona, Paris, and Vienna? Do these effects differ by city?\n",
    "\n",
    "**Response Variable:**  \n",
    "- `log(realSum)` — the natural logarithm of the total price of the Airbnb listing.  \n",
    "  (We use log-transformed price to address skewness and stabilize variance.)\n",
    "\n",
    "**Explanatory Variables:**  \n",
    "Each city uses a slightly different set of predictors based on its own correlation structure and multicollinearity profile. However, the models are consistently built from the following domains:\n",
    "\n",
    "- Room characteristics: `bedrooms`, `person_capacity`, `price_per_person`\n",
    "- Spatial features: `dist`, `metro_dist`\n",
    "- Ratings: `cleanliness_rating`, `guest_satisfaction_overall`\n",
    "- Amenity indicators: `attr_index_norm`\n",
    "\n",
    "\n",
    "**Purpose:**  \n",
    "Our goal is both **inference** and **prediction**:\n",
    "- **Inference**: Identify which features are statistically significant predictors of price within each city and compare effect sizes across cities.\n",
    "- **Prediction**: Evaluate model performance on held-out test data using RMSE and MAE, ensuring that the fitted models generalize well.\n",
    "\n",
    "The dataset contains hundreds of observations from multiple cities, with detailed listing and location attributes. This richness allows us to examine price behavior across different market segments and understand the drivers of pricing.\n",
    "\n",
    "\n",
    "### Model Assumptions AND Planning\n",
    "\n",
    "To apply linear regression, we assume:\n",
    "\n",
    "1. **Linearity in parameters**:  \n",
    "   The model assumes that the outcome (here, log-transformed price) is a linear function of the **parameters**.  \n",
    "   Note that this does **not** require that the relationship between predictors and the response be strictly linear.  \n",
    "\n",
    "2. **Independence**:  \n",
    "   The observations are assumed to be independent. This may be violated if there are clusters (e.g., listings from the same host or neighborhood).\n",
    "\n",
    "3. **Homoscedasticity**:  \n",
    "   The variance of residuals is assumed constant across all levels of the predictors.  \n",
    "   We partially address this with a log transformation of the response variable.\n",
    "\n",
    "4. **Normality of residuals**:  \n",
    "   For inference purposes, we assume that residuals are approximately normally distributed.  \n",
    "   This assumption becomes less critical when the focus is prediction, or when using large sample sizes.\n",
    "\n",
    "5. **No perfect multicollinearity**:  \n",
    "   Predictors must not be exact linear combinations of each other.  \n",
    "   This can be checked using variance inflation factors (VIF).\n",
    "\n",
    "### Proposed Method: Multiple Linear Regression with Transformations and Interactions\n",
    "\n",
    "We propose using a **multiple linear regression model** on the log-transformed price.\n",
    "\n",
    "#### Why this method is appropriate:\n",
    "- It allows for **interpretability**: coefficients can be interpreted as percentage effects on price.\n",
    "- The **log transformation** helps address **skewed price distribution** and **heteroscedasticity**.\n",
    "- Regression provides tools for **inference** (significance testing, confidence intervals) and **prediction** (fitted values, cross-validation).\n",
    "\n"
   ]
  },
  {
   "cell_type": "code",
   "execution_count": 27,
   "id": "57833358-0dbc-484f-ae2b-1b840c07240e",
   "metadata": {
    "vscode": {
     "languageId": "r"
    }
   },
   "outputs": [],
   "source": [
    "# model_addtive_full <- lm(realSum ~room_type + person_capacity + cleanliness_rating + guest_satisfaction_overall + day_type + dist + metro_dist, df_all)"
   ]
  },
  {
   "cell_type": "code",
   "execution_count": 28,
   "id": "1f5b0c50-5c12-41c2-9ddb-9a56d28de697",
   "metadata": {
    "vscode": {
     "languageId": "r"
    }
   },
   "outputs": [],
   "source": [
    "# model_addtive_full_result <- tidy(model_addtive_full)|>mutate(across(where(is.numeric), ~ round(.x, 4)))\n",
    "# model_addtive_full_result"
   ]
  },
  {
   "cell_type": "code",
   "execution_count": 29,
   "id": "214633ea-ef0b-4fd4-9c5c-0919e9cc8595",
   "metadata": {
    "vscode": {
     "languageId": "r"
    }
   },
   "outputs": [],
   "source": [
    "# plot(model_addtive_full, which = 1)"
   ]
  },
  {
   "cell_type": "markdown",
   "id": "50db5395-f3a5-4c33-8d67-caa4faa7f3a7",
   "metadata": {},
   "source": [
    "## log-transformation Model"
   ]
  },
  {
   "cell_type": "markdown",
   "id": "8f279844-a180-459f-9bf3-752eadc04109",
   "metadata": {},
   "source": [
    "### Model Specification\n",
    "\n",
    "We fit a **log-linear multiple regression model** to explore the nonlinear and interaction effects of various Airbnb listing features on the log-transformed total price (`log(realSum)`).\n",
    "\n",
    "#### Model Formula\n",
    "\n",
    "Let \\( Y_i = \\log(\\text{realSum}_i) \\), then the model is:\n",
    "\n",
    "\\[\n",
    "\\begin{aligned}\n",
    "Y_i =\\ & \\beta_0 + \\beta_1 \\cdot \\text{price\\_per\\_person}_i + \\beta_2 \\cdot \\text{person\\_capacity}_i + \\beta_3 \\cdot \\text{bedrooms}_i \\\\\n",
    "&+ \\beta_4 \\cdot \\text{attr\\_index\\_norm}_i + \\beta_5 \\cdot \\text{dist}_i + \\beta_6 \\cdot \\text{cleanliness\\_rating}_i + \\beta_7 \\cdot \\text{metro\\_dist}_i + \\beta_8 \\cdot \\text{guest\\_satisfaction\\_overall} \\varepsilon_i \\\n",
    "\\end{aligned}\n",
    "\\]\n",
    "\n",
    "Where:\n",
    "\n",
    "- \\( \\varepsilon_i \\sim N(0, \\sigma^2) \\) is the error term\n",
    "- \\( \\log(\\text{realSum}) \\) ensures that the predicted price remains strictly positive and helps stabilize variance\n",
    "\n",
    "#### Features of the Model\n",
    "\n",
    "- Uses **log-transformed response variable** to reduce skewness and improve model fit\n",
    "\n",
    "This model allows for both nonlinear relationships and interaction effects, providing a more flexible structure to capture the complex determinants of Airbnb pricing.\n"
   ]
  },
  {
   "cell_type": "code",
   "execution_count": null,
   "id": "c19c5867-2ab5-40ee-bf6a-ab985bac0ba7",
   "metadata": {
    "vscode": {
     "languageId": "r"
    }
   },
   "outputs": [],
   "source": [
    "# model_additive_log <- lm(log(realSum) ~ \n",
    "#                          room_type * bedrooms + \n",
    "#                          room_type * person_capacity + \n",
    "#                          cleanliness_rating + I(cleanliness_rating^2) + \n",
    "#                          guest_satisfaction_overall + I(guest_satisfaction_overall^2) + \n",
    "#                          day_type * person_capacity + \n",
    "#                          dist + I(dist^2) + \n",
    "#                          metro_dist + I(metro_dist^2) + \n",
    "#                          attr_index_norm + rest_index_norm,\n",
    "#                          data = df_all)\n"
   ]
  },
  {
   "cell_type": "code",
   "execution_count": null,
   "id": "ebf01ead",
   "metadata": {
    "vscode": {
     "languageId": "r"
    }
   },
   "outputs": [
    {
     "name": "stderr",
     "output_type": "stream",
     "text": [
      "Installing package into 'C:/Users/quydu/AppData/Local/R/win-library/4.5'\n",
      "(as 'lib' is unspecified)\n",
      "\n"
     ]
    },
    {
     "name": "stderr",
     "output_type": "stream",
     "text": [
      "also installing the dependencies 'listenv', 'parallelly', 'future', 'globals', 'shape', 'future.apply', 'progressr', 'SQUAREM', 'diagram', 'lava', 'prodlim', 'proxy', 'iterators', 'clock', 'gower', 'hardhat', 'ipred', 'sparsevctrs', 'timeDate', 'e1071', 'foreach', 'ModelMetrics', 'plyr', 'pROC', 'recipes', 'reshape2'\n",
      "\n",
      "\n"
     ]
    },
    {
     "name": "stdout",
     "output_type": "stream",
     "text": [
      "package 'listenv' successfully unpacked and MD5 sums checked\n",
      "package 'parallelly' successfully unpacked and MD5 sums checked\n",
      "package 'future' successfully unpacked and MD5 sums checked\n",
      "package 'globals' successfully unpacked and MD5 sums checked\n",
      "package 'shape' successfully unpacked and MD5 sums checked\n",
      "package 'future.apply' successfully unpacked and MD5 sums checked\n",
      "package 'progressr' successfully unpacked and MD5 sums checked\n",
      "package 'SQUAREM' successfully unpacked and MD5 sums checked\n",
      "package 'diagram' successfully unpacked and MD5 sums checked\n",
      "package 'lava' successfully unpacked and MD5 sums checked\n",
      "package 'prodlim' successfully unpacked and MD5 sums checked\n",
      "package 'proxy' successfully unpacked and MD5 sums checked\n",
      "package 'iterators' successfully unpacked and MD5 sums checked\n",
      "package 'clock' successfully unpacked and MD5 sums checked\n",
      "package 'gower' successfully unpacked and MD5 sums checked\n",
      "package 'hardhat' successfully unpacked and MD5 sums checked\n",
      "package 'ipred' successfully unpacked and MD5 sums checked\n",
      "package 'sparsevctrs' successfully unpacked and MD5 sums checked\n",
      "package 'timeDate' successfully unpacked and MD5 sums checked\n",
      "package 'e1071' successfully unpacked and MD5 sums checked\n",
      "package 'foreach' successfully unpacked and MD5 sums checked\n",
      "package 'ModelMetrics' successfully unpacked and MD5 sums checked\n",
      "package 'plyr' successfully unpacked and MD5 sums checked\n",
      "package 'pROC' successfully unpacked and MD5 sums checked\n",
      "package 'recipes' successfully unpacked and MD5 sums checked\n",
      "package 'reshape2' successfully unpacked and MD5 sums checked\n",
      "package 'caret' successfully unpacked and MD5 sums checked\n",
      "\n",
      "The downloaded binary packages are in\n",
      "\tC:\\Users\\quydu\\AppData\\Local\\Temp\\RtmpQDfY1p\\downloaded_packages\n"
     ]
    },
    {
     "name": "stderr",
     "output_type": "stream",
     "text": [
      "Loading required package: lattice\n",
      "\n"
     ]
    }
   ],
   "source": [
    "# cross-validate the model using k-fold cross-validation\n",
    "# install.packages(\"caret\") # uncomment if you haven't installed caret yet\n",
    "library(caret)"
   ]
  },
  {
   "cell_type": "code",
   "execution_count": 47,
   "id": "4f56b03c",
   "metadata": {
    "vscode": {
     "languageId": "r"
    }
   },
   "outputs": [],
   "source": [
    "# Define the number of folds for cross-validation\n",
    "k_folds <- 5\n",
    "\n",
    "# Function to perform k-fold cross-validation\n",
    "cross_validate_model <- function(model, data, k_folds) {\n",
    "    # Create a train control object for cross-validation\n",
    "    train_control <- trainControl(method = \"cv\", number = k_folds)\n",
    "    \n",
    "    # Fit the model using cross-validation\n",
    "    cv_model <- train(log_realSum ~ price_per_person + person_capacity + bedrooms + attr_index_norm + dist + cleanliness_rating + metro_dist + guest_satisfaction_overall,\n",
    "                        data = data,\n",
    "                        method = \"lm\",\n",
    "                        trControl = train_control)\n",
    "    \n",
    "    return(cv_model)\n",
    "    }\n",
    "\n",
    "# Perform cross-validation for each city's training data\n",
    "cv_paris <- cross_validate_model(fit_paris_0, paris_train, k_folds)\n",
    "cv_vienna <- cross_validate_model(fit_vienna_0, vienna_train, k_folds)\n",
    "cv_barcelona <- cross_validate_model(fit_barcelona_0, barcelona_train, k_folds)"
   ]
  },
  {
   "cell_type": "code",
   "execution_count": 48,
   "id": "6fcdd57d",
   "metadata": {
    "vscode": {
     "languageId": "r"
    }
   },
   "outputs": [
    {
     "name": "stdout",
     "output_type": "stream",
     "text": [
      "[1] \"Cross-validation Results by City:\"\n",
      "       City  RMSE    R2   MAE\n",
      "1     Paris 0.162 0.888 0.099\n",
      "2    Vienna 0.143 0.875 0.095\n",
      "3 Barcelona 0.128 0.943 0.088\n"
     ]
    }
   ],
   "source": [
    "# Extract and compare cross-validation results\n",
    "cv_results <- data.frame(\n",
    "  City = c(\"Paris\", \"Vienna\", \"Barcelona\"),\n",
    "  RMSE = c(\n",
    "    cv_paris$results$RMSE,\n",
    "    cv_vienna$results$RMSE,\n",
    "    cv_barcelona$results$RMSE\n",
    "  ),\n",
    "  R2 = c(\n",
    "    cv_paris$results$Rsquared,\n",
    "    cv_vienna$results$Rsquared,\n",
    "    cv_barcelona$results$Rsquared\n",
    "  ),\n",
    "  MAE = c(\n",
    "    cv_paris$results$MAE,\n",
    "    cv_vienna$results$MAE,\n",
    "    cv_barcelona$results$MAE\n",
    "  )\n",
    ")\n",
    "\n",
    "# Round results to 3 decimal places\n",
    "cv_results[,2:4] <- round(cv_results[,2:4], 3)\n",
    "\n",
    "# Display results\n",
    "print(\"Cross-validation Results by City:\")\n",
    "print(cv_results)"
   ]
  },
  {
   "cell_type": "markdown",
   "id": "7e629e4d",
   "metadata": {},
   "source": [
    "**Insights**\n",
    "\n",
    "- R^2 > 0.87 for all cities --> strong explanatory power\n",
    "- low RMSE and MAE --> model predictors are close to the actual log_realSum values\n",
    "- consistency across cities "
   ]
  },
  {
   "cell_type": "code",
   "execution_count": 50,
   "id": "ff460160",
   "metadata": {
    "vscode": {
     "languageId": "r"
    }
   },
   "outputs": [
    {
     "data": {
      "image/png": "[encoded data removed]",
      "text/plain": [
       "plot without title"
      ]
     },
     "metadata": {
      "image/png": {
       "height": 420,
       "width": 420
      }
     },
     "output_type": "display_data"
    },
    {
     "data": {
      "image/png": "[encoded data removed]",
      "text/plain": [
       "plot without title"
      ]
     },
     "metadata": {
      "image/png": {
       "height": 420,
       "width": 420
      }
     },
     "output_type": "display_data"
    },
    {
     "data": {
      "image/png": "[encoded data removed]",
      "text/plain": [
       "plot without title"
      ]
     },
     "metadata": {
      "image/png": {
       "height": 420,
       "width": 420
      }
     },
     "output_type": "display_data"
    }
   ],
   "source": [
    "# visualizations of residuals for each city\n",
    "\n",
    "city_models <- list(\n",
    "  paris = fit_paris_0,\n",
    "  vienna = fit_vienna_0,\n",
    "  barcelona = fit_barcelona_0\n",
    ")\n",
    "\n",
    "for (city in names(city_models)) {\n",
    "  model <- city_models[[city]]\n",
    "  \n",
    "  # Create a data frame of residuals\n",
    "  residuals_df <- data.frame(\n",
    "    Residuals = resid(model),\n",
    "    Fitted = fitted(model)\n",
    "  )\n",
    "  \n",
    "  # Plot residuals vs fitted values\n",
    "  plot_residuals <- ggplot(residuals_df, aes(x = Fitted, y = Residuals)) +\n",
    "    geom_point(alpha = 0.5) +\n",
    "    geom_hline(yintercept = 0, linetype = \"dashed\", color = \"red\") +\n",
    "    labs(title = paste(\"Residuals vs Fitted Values -\", city),\n",
    "         x = \"Fitted Values\",\n",
    "         y = \"Residuals\") +\n",
    "    theme_minimal()\n",
    "  \n",
    "  print(plot_residuals)\n",
    "}"
   ]
  },
  {
   "cell_type": "code",
   "execution_count": 51,
   "id": "a83eaa50",
   "metadata": {
    "vscode": {
     "languageId": "r"
    }
   },
   "outputs": [
    {
     "data": {
      "image/png": "[encoded data removed]",
      "text/plain": [
       "Plot with title \"Paris Model: Scale-Location\""
      ]
     },
     "metadata": {
      "image/png": {
       "height": 420,
       "width": 420
      }
     },
     "output_type": "display_data"
    },
    {
     "data": {
      "image/png": "[encoded data removed]",
      "text/plain": [
       "Plot with title \"Residuals vs guest_satisfaction_overall\""
      ]
     },
     "metadata": {
      "image/png": {
       "height": 420,
       "width": 420
      }
     },
     "output_type": "display_data"
    }
   ],
   "source": [
    "# find source of problems in Paris model\n",
    "\n",
    "# Create diagnostic plots for Paris model\n",
    "par(mfrow = c(2,2))\n",
    "\n",
    "# 1. Residuals vs Fitted (Linearity check)\n",
    "plot(fit_paris_0, which = 1, main = \"Paris Model: Residuals vs Fitted\")\n",
    "\n",
    "# 2. Scale-Location plot (Homoscedasticity check)\n",
    "plot(fit_paris_0, which = 3, main = \"Paris Model: Scale-Location\")\n",
    "\n",
    "# 3. Additional diagnostic plots\n",
    "# Create data frame with fitted values and residuals\n",
    "paris_diagnostics <- data.frame(\n",
    "  fitted = fitted(fit_paris_0),\n",
    "  residuals = resid(fit_paris_0),\n",
    "  std_residuals = rstandard(fit_paris_0)\n",
    ")\n",
    "\n",
    "# Scatter plots for each predictor vs residuals\n",
    "predictors <- c(\"price_per_person\", \"person_capacity\", \"bedrooms\", \"attr_index_norm\", \n",
    "                \"dist\", \"cleanliness_rating\", \"metro_dist\", \"guest_satisfaction_overall\")\n",
    "\n",
    "par(mfrow = c(3,3))\n",
    "for(pred in predictors) {\n",
    "  plot(paris_train[[pred]], paris_diagnostics$residuals,\n",
    "       xlab = pred, ylab = \"Residuals\",\n",
    "       main = paste(\"Residuals vs\", pred))\n",
    "  abline(h = 0, col = \"red\", lty = 2)\n",
    "}\n",
    "\n",
    "# Reset plotting parameters\n",
    "par(mfrow = c(1,1))"
   ]
  },
  {
   "cell_type": "code",
   "execution_count": null,
   "id": "78e540c2-e75a-410f-8851-366fdf4d193f",
   "metadata": {
    "vscode": {
     "languageId": "r"
    }
   },
   "outputs": [
    {
     "data": {
      "text/html": [
       "<table class=\"dataframe\">\n",
       "<caption>A tibble: 10 × 7</caption>\n",
       "<thead>\n",
       "\t<tr><th scope=col>term</th><th scope=col>estimate</th><th scope=col>std.error</th><th scope=col>statistic</th><th scope=col>p.value</th><th scope=col>conf.low</th><th scope=col>conf.high</th></tr>\n",
       "\t<tr><th scope=col>&lt;chr&gt;</th><th scope=col>&lt;dbl&gt;</th><th scope=col>&lt;dbl&gt;</th><th scope=col>&lt;dbl&gt;</th><th scope=col>&lt;dbl&gt;</th><th scope=col>&lt;dbl&gt;</th><th scope=col>&lt;dbl&gt;</th></tr>\n",
       "</thead>\n",
       "<tbody>\n",
       "\t<tr><td>(Intercept)               </td><td> 4.0951</td><td>0.0111</td><td>368.3923</td><td>0.0000</td><td> 4.0733</td><td> 4.1169</td></tr>\n",
       "\t<tr><td>price_per_person          </td><td> 0.0059</td><td>0.0000</td><td>142.8413</td><td>0.0000</td><td> 0.0058</td><td> 0.0060</td></tr>\n",
       "\t<tr><td>person_capacity           </td><td> 0.2698</td><td>0.0023</td><td>117.3236</td><td>0.0000</td><td> 0.2652</td><td> 0.2743</td></tr>\n",
       "\t<tr><td>bedrooms                  </td><td> 0.0213</td><td>0.0042</td><td>  5.0846</td><td>0.0000</td><td> 0.0131</td><td> 0.0295</td></tr>\n",
       "\t<tr><td>attr_index_norm           </td><td> 0.0036</td><td>0.0005</td><td>  7.6518</td><td>0.0000</td><td> 0.0027</td><td> 0.0045</td></tr>\n",
       "\t<tr><td>rest_index_norm           </td><td> 0.0012</td><td>0.0003</td><td>  4.2679</td><td>0.0000</td><td> 0.0006</td><td> 0.0017</td></tr>\n",
       "\t<tr><td>dist                      </td><td> 0.0026</td><td>0.0032</td><td>  0.8029</td><td>0.4221</td><td>-0.0038</td><td> 0.0090</td></tr>\n",
       "\t<tr><td>cleanliness_rating        </td><td> 0.0167</td><td>0.0029</td><td>  5.7592</td><td>0.0000</td><td> 0.0110</td><td> 0.0224</td></tr>\n",
       "\t<tr><td>metro_dist                </td><td> 0.0034</td><td>0.0023</td><td>  1.4709</td><td>0.1414</td><td>-0.0011</td><td> 0.0080</td></tr>\n",
       "\t<tr><td>guest_satisfaction_overall</td><td>-0.0089</td><td>0.0030</td><td> -3.0226</td><td>0.0025</td><td>-0.0147</td><td>-0.0031</td></tr>\n",
       "</tbody>\n",
       "</table>\n"
      ],
      "text/latex": [
       "A tibble: 10 × 7\n",
       "\\begin{tabular}{lllllll}\n",
       " term & estimate & std.error & statistic & p.value & conf.low & conf.high\\\\\n",
       " <chr> & <dbl> & <dbl> & <dbl> & <dbl> & <dbl> & <dbl>\\\\\n",
       "\\hline\n",
       "\t (Intercept)                &  4.0951 & 0.0111 & 368.3923 & 0.0000 &  4.0733 &  4.1169\\\\\n",
       "\t price\\_per\\_person           &  0.0059 & 0.0000 & 142.8413 & 0.0000 &  0.0058 &  0.0060\\\\\n",
       "\t person\\_capacity            &  0.2698 & 0.0023 & 117.3236 & 0.0000 &  0.2652 &  0.2743\\\\\n",
       "\t bedrooms                   &  0.0213 & 0.0042 &   5.0846 & 0.0000 &  0.0131 &  0.0295\\\\\n",
       "\t attr\\_index\\_norm            &  0.0036 & 0.0005 &   7.6518 & 0.0000 &  0.0027 &  0.0045\\\\\n",
       "\t rest\\_index\\_norm            &  0.0012 & 0.0003 &   4.2679 & 0.0000 &  0.0006 &  0.0017\\\\\n",
       "\t dist                       &  0.0026 & 0.0032 &   0.8029 & 0.4221 & -0.0038 &  0.0090\\\\\n",
       "\t cleanliness\\_rating         &  0.0167 & 0.0029 &   5.7592 & 0.0000 &  0.0110 &  0.0224\\\\\n",
       "\t metro\\_dist                 &  0.0034 & 0.0023 &   1.4709 & 0.1414 & -0.0011 &  0.0080\\\\\n",
       "\t guest\\_satisfaction\\_overall & -0.0089 & 0.0030 &  -3.0226 & 0.0025 & -0.0147 & -0.0031\\\\\n",
       "\\end{tabular}\n"
      ],
      "text/markdown": [
       "\n",
       "A tibble: 10 × 7\n",
       "\n",
       "| term &lt;chr&gt; | estimate &lt;dbl&gt; | std.error &lt;dbl&gt; | statistic &lt;dbl&gt; | p.value &lt;dbl&gt; | conf.low &lt;dbl&gt; | conf.high &lt;dbl&gt; |\n",
       "|---|---|---|---|---|---|---|\n",
       "| (Intercept)                |  4.0951 | 0.0111 | 368.3923 | 0.0000 |  4.0733 |  4.1169 |\n",
       "| price_per_person           |  0.0059 | 0.0000 | 142.8413 | 0.0000 |  0.0058 |  0.0060 |\n",
       "| person_capacity            |  0.2698 | 0.0023 | 117.3236 | 0.0000 |  0.2652 |  0.2743 |\n",
       "| bedrooms                   |  0.0213 | 0.0042 |   5.0846 | 0.0000 |  0.0131 |  0.0295 |\n",
       "| attr_index_norm            |  0.0036 | 0.0005 |   7.6518 | 0.0000 |  0.0027 |  0.0045 |\n",
       "| rest_index_norm            |  0.0012 | 0.0003 |   4.2679 | 0.0000 |  0.0006 |  0.0017 |\n",
       "| dist                       |  0.0026 | 0.0032 |   0.8029 | 0.4221 | -0.0038 |  0.0090 |\n",
       "| cleanliness_rating         |  0.0167 | 0.0029 |   5.7592 | 0.0000 |  0.0110 |  0.0224 |\n",
       "| metro_dist                 |  0.0034 | 0.0023 |   1.4709 | 0.1414 | -0.0011 |  0.0080 |\n",
       "| guest_satisfaction_overall | -0.0089 | 0.0030 |  -3.0226 | 0.0025 | -0.0147 | -0.0031 |\n",
       "\n"
      ],
      "text/plain": [
       "   term                       estimate std.error statistic p.value conf.low\n",
       "1  (Intercept)                 4.0951  0.0111    368.3923  0.0000   4.0733 \n",
       "2  price_per_person            0.0059  0.0000    142.8413  0.0000   0.0058 \n",
       "3  person_capacity             0.2698  0.0023    117.3236  0.0000   0.2652 \n",
       "4  bedrooms                    0.0213  0.0042      5.0846  0.0000   0.0131 \n",
       "5  attr_index_norm             0.0036  0.0005      7.6518  0.0000   0.0027 \n",
       "6  rest_index_norm             0.0012  0.0003      4.2679  0.0000   0.0006 \n",
       "7  dist                        0.0026  0.0032      0.8029  0.4221  -0.0038 \n",
       "8  cleanliness_rating          0.0167  0.0029      5.7592  0.0000   0.0110 \n",
       "9  metro_dist                  0.0034  0.0023      1.4709  0.1414  -0.0011 \n",
       "10 guest_satisfaction_overall -0.0089  0.0030     -3.0226  0.0025  -0.0147 \n",
       "   conf.high\n",
       "1   4.1169  \n",
       "2   0.0060  \n",
       "3   0.2743  \n",
       "4   0.0295  \n",
       "5   0.0045  \n",
       "6   0.0017  \n",
       "7   0.0090  \n",
       "8   0.0224  \n",
       "9   0.0080  \n",
       "10 -0.0031  "
      ]
     },
     "metadata": {},
     "output_type": "display_data"
    }
   ],
   "source": [
    "# model_addtive_log_result <- tidy(model_additive_log)|>mutate(across(where(is.numeric), ~ round(.x, 4)))\n",
    "# model_addtive_log_result\n",
    "\n",
    "# see paris full model\n",
    "model_paris_result <- tidy(fit_paris, conf.int = TRUE) |> mutate(across(where(is.numeric), ~ round(.x, 4)))\n",
    "model_paris_result"
   ]
  },
  {
   "cell_type": "code",
   "execution_count": 42,
   "id": "ba525656",
   "metadata": {
    "vscode": {
     "languageId": "r"
    }
   },
   "outputs": [
    {
     "data": {
      "text/html": [
       "<table class=\"dataframe\">\n",
       "<caption>A tibble: 9 × 7</caption>\n",
       "<thead>\n",
       "\t<tr><th scope=col>term</th><th scope=col>estimate</th><th scope=col>std.error</th><th scope=col>statistic</th><th scope=col>p.value</th><th scope=col>conf.low</th><th scope=col>conf.high</th></tr>\n",
       "\t<tr><th scope=col>&lt;chr&gt;</th><th scope=col>&lt;dbl&gt;</th><th scope=col>&lt;dbl&gt;</th><th scope=col>&lt;dbl&gt;</th><th scope=col>&lt;dbl&gt;</th><th scope=col>&lt;dbl&gt;</th><th scope=col>&lt;dbl&gt;</th></tr>\n",
       "</thead>\n",
       "<tbody>\n",
       "\t<tr><td>(Intercept)               </td><td> 3.7991</td><td>0.0127</td><td>298.9861</td><td>0.0000</td><td> 3.7741</td><td> 3.8240</td></tr>\n",
       "\t<tr><td>price_per_person          </td><td> 0.0094</td><td>0.0001</td><td>105.0712</td><td>0.0000</td><td> 0.0092</td><td> 0.0096</td></tr>\n",
       "\t<tr><td>person_capacity           </td><td> 0.2521</td><td>0.0027</td><td> 93.9336</td><td>0.0000</td><td> 0.2469</td><td> 0.2574</td></tr>\n",
       "\t<tr><td>bedrooms                  </td><td> 0.0084</td><td>0.0053</td><td>  1.5922</td><td>0.1114</td><td>-0.0019</td><td> 0.0187</td></tr>\n",
       "\t<tr><td>attr_index_norm           </td><td> 0.0011</td><td>0.0006</td><td>  2.0082</td><td>0.0447</td><td> 0.0000</td><td> 0.0022</td></tr>\n",
       "\t<tr><td>dist                      </td><td>-0.0366</td><td>0.0039</td><td> -9.2920</td><td>0.0000</td><td>-0.0444</td><td>-0.0289</td></tr>\n",
       "\t<tr><td>cleanliness_rating        </td><td> 0.0256</td><td>0.0035</td><td>  7.3590</td><td>0.0000</td><td> 0.0188</td><td> 0.0324</td></tr>\n",
       "\t<tr><td>metro_dist                </td><td> 0.0024</td><td>0.0033</td><td>  0.7218</td><td>0.4705</td><td>-0.0041</td><td> 0.0090</td></tr>\n",
       "\t<tr><td>guest_satisfaction_overall</td><td>-0.0025</td><td>0.0035</td><td> -0.7206</td><td>0.4712</td><td>-0.0094</td><td> 0.0044</td></tr>\n",
       "</tbody>\n",
       "</table>\n"
      ],
      "text/latex": [
       "A tibble: 9 × 7\n",
       "\\begin{tabular}{lllllll}\n",
       " term & estimate & std.error & statistic & p.value & conf.low & conf.high\\\\\n",
       " <chr> & <dbl> & <dbl> & <dbl> & <dbl> & <dbl> & <dbl>\\\\\n",
       "\\hline\n",
       "\t (Intercept)                &  3.7991 & 0.0127 & 298.9861 & 0.0000 &  3.7741 &  3.8240\\\\\n",
       "\t price\\_per\\_person           &  0.0094 & 0.0001 & 105.0712 & 0.0000 &  0.0092 &  0.0096\\\\\n",
       "\t person\\_capacity            &  0.2521 & 0.0027 &  93.9336 & 0.0000 &  0.2469 &  0.2574\\\\\n",
       "\t bedrooms                   &  0.0084 & 0.0053 &   1.5922 & 0.1114 & -0.0019 &  0.0187\\\\\n",
       "\t attr\\_index\\_norm            &  0.0011 & 0.0006 &   2.0082 & 0.0447 &  0.0000 &  0.0022\\\\\n",
       "\t dist                       & -0.0366 & 0.0039 &  -9.2920 & 0.0000 & -0.0444 & -0.0289\\\\\n",
       "\t cleanliness\\_rating         &  0.0256 & 0.0035 &   7.3590 & 0.0000 &  0.0188 &  0.0324\\\\\n",
       "\t metro\\_dist                 &  0.0024 & 0.0033 &   0.7218 & 0.4705 & -0.0041 &  0.0090\\\\\n",
       "\t guest\\_satisfaction\\_overall & -0.0025 & 0.0035 &  -0.7206 & 0.4712 & -0.0094 &  0.0044\\\\\n",
       "\\end{tabular}\n"
      ],
      "text/markdown": [
       "\n",
       "A tibble: 9 × 7\n",
       "\n",
       "| term &lt;chr&gt; | estimate &lt;dbl&gt; | std.error &lt;dbl&gt; | statistic &lt;dbl&gt; | p.value &lt;dbl&gt; | conf.low &lt;dbl&gt; | conf.high &lt;dbl&gt; |\n",
       "|---|---|---|---|---|---|---|\n",
       "| (Intercept)                |  3.7991 | 0.0127 | 298.9861 | 0.0000 |  3.7741 |  3.8240 |\n",
       "| price_per_person           |  0.0094 | 0.0001 | 105.0712 | 0.0000 |  0.0092 |  0.0096 |\n",
       "| person_capacity            |  0.2521 | 0.0027 |  93.9336 | 0.0000 |  0.2469 |  0.2574 |\n",
       "| bedrooms                   |  0.0084 | 0.0053 |   1.5922 | 0.1114 | -0.0019 |  0.0187 |\n",
       "| attr_index_norm            |  0.0011 | 0.0006 |   2.0082 | 0.0447 |  0.0000 |  0.0022 |\n",
       "| dist                       | -0.0366 | 0.0039 |  -9.2920 | 0.0000 | -0.0444 | -0.0289 |\n",
       "| cleanliness_rating         |  0.0256 | 0.0035 |   7.3590 | 0.0000 |  0.0188 |  0.0324 |\n",
       "| metro_dist                 |  0.0024 | 0.0033 |   0.7218 | 0.4705 | -0.0041 |  0.0090 |\n",
       "| guest_satisfaction_overall | -0.0025 | 0.0035 |  -0.7206 | 0.4712 | -0.0094 |  0.0044 |\n",
       "\n"
      ],
      "text/plain": [
       "  term                       estimate std.error statistic p.value conf.low\n",
       "1 (Intercept)                 3.7991  0.0127    298.9861  0.0000   3.7741 \n",
       "2 price_per_person            0.0094  0.0001    105.0712  0.0000   0.0092 \n",
       "3 person_capacity             0.2521  0.0027     93.9336  0.0000   0.2469 \n",
       "4 bedrooms                    0.0084  0.0053      1.5922  0.1114  -0.0019 \n",
       "5 attr_index_norm             0.0011  0.0006      2.0082  0.0447   0.0000 \n",
       "6 dist                       -0.0366  0.0039     -9.2920  0.0000  -0.0444 \n",
       "7 cleanliness_rating          0.0256  0.0035      7.3590  0.0000   0.0188 \n",
       "8 metro_dist                  0.0024  0.0033      0.7218  0.4705  -0.0041 \n",
       "9 guest_satisfaction_overall -0.0025  0.0035     -0.7206  0.4712  -0.0094 \n",
       "  conf.high\n",
       "1  3.8240  \n",
       "2  0.0096  \n",
       "3  0.2574  \n",
       "4  0.0187  \n",
       "5  0.0022  \n",
       "6 -0.0289  \n",
       "7  0.0324  \n",
       "8  0.0090  \n",
       "9  0.0044  "
      ]
     },
     "metadata": {},
     "output_type": "display_data"
    }
   ],
   "source": [
    "# see vienna full model \n",
    "\n",
    "model_vienna_result <- tidy(fit_vienna_0,conf.int =TRUE)|>mutate(across(where(is.numeric), ~ round(.x, 4)))\n",
    "model_vienna_result"
   ]
  },
  {
   "cell_type": "code",
   "execution_count": 43,
   "id": "00f905a2",
   "metadata": {
    "vscode": {
     "languageId": "r"
    }
   },
   "outputs": [
    {
     "data": {
      "text/html": [
       "<table class=\"dataframe\">\n",
       "<caption>A tibble: 9 × 7</caption>\n",
       "<thead>\n",
       "\t<tr><th scope=col>term</th><th scope=col>estimate</th><th scope=col>std.error</th><th scope=col>statistic</th><th scope=col>p.value</th><th scope=col>conf.low</th><th scope=col>conf.high</th></tr>\n",
       "\t<tr><th scope=col>&lt;chr&gt;</th><th scope=col>&lt;dbl&gt;</th><th scope=col>&lt;dbl&gt;</th><th scope=col>&lt;dbl&gt;</th><th scope=col>&lt;dbl&gt;</th><th scope=col>&lt;dbl&gt;</th><th scope=col>&lt;dbl&gt;</th></tr>\n",
       "</thead>\n",
       "<tbody>\n",
       "\t<tr><td>(Intercept)               </td><td> 3.9249</td><td>0.0109</td><td>360.8500</td><td>0.0000</td><td> 3.9036</td><td> 3.9463</td></tr>\n",
       "\t<tr><td>price_per_person          </td><td> 0.0074</td><td>0.0001</td><td>130.9491</td><td>0.0000</td><td> 0.0073</td><td> 0.0075</td></tr>\n",
       "\t<tr><td>person_capacity           </td><td> 0.3050</td><td>0.0034</td><td> 88.9369</td><td>0.0000</td><td> 0.2982</td><td> 0.3117</td></tr>\n",
       "\t<tr><td>bedrooms                  </td><td>-0.0205</td><td>0.0081</td><td> -2.5426</td><td>0.0111</td><td>-0.0363</td><td>-0.0047</td></tr>\n",
       "\t<tr><td>attr_index_norm           </td><td>-0.0009</td><td>0.0004</td><td> -2.3785</td><td>0.0175</td><td>-0.0016</td><td>-0.0002</td></tr>\n",
       "\t<tr><td>dist                      </td><td>-0.0532</td><td>0.0037</td><td>-14.2261</td><td>0.0000</td><td>-0.0605</td><td>-0.0459</td></tr>\n",
       "\t<tr><td>cleanliness_rating        </td><td> 0.0165</td><td>0.0040</td><td>  4.0993</td><td>0.0000</td><td> 0.0086</td><td> 0.0243</td></tr>\n",
       "\t<tr><td>metro_dist                </td><td> 0.0107</td><td>0.0031</td><td>  3.4655</td><td>0.0005</td><td> 0.0047</td><td> 0.0168</td></tr>\n",
       "\t<tr><td>guest_satisfaction_overall</td><td> 0.0006</td><td>0.0041</td><td>  0.1402</td><td>0.8885</td><td>-0.0075</td><td> 0.0086</td></tr>\n",
       "</tbody>\n",
       "</table>\n"
      ],
      "text/latex": [
       "A tibble: 9 × 7\n",
       "\\begin{tabular}{lllllll}\n",
       " term & estimate & std.error & statistic & p.value & conf.low & conf.high\\\\\n",
       " <chr> & <dbl> & <dbl> & <dbl> & <dbl> & <dbl> & <dbl>\\\\\n",
       "\\hline\n",
       "\t (Intercept)                &  3.9249 & 0.0109 & 360.8500 & 0.0000 &  3.9036 &  3.9463\\\\\n",
       "\t price\\_per\\_person           &  0.0074 & 0.0001 & 130.9491 & 0.0000 &  0.0073 &  0.0075\\\\\n",
       "\t person\\_capacity            &  0.3050 & 0.0034 &  88.9369 & 0.0000 &  0.2982 &  0.3117\\\\\n",
       "\t bedrooms                   & -0.0205 & 0.0081 &  -2.5426 & 0.0111 & -0.0363 & -0.0047\\\\\n",
       "\t attr\\_index\\_norm            & -0.0009 & 0.0004 &  -2.3785 & 0.0175 & -0.0016 & -0.0002\\\\\n",
       "\t dist                       & -0.0532 & 0.0037 & -14.2261 & 0.0000 & -0.0605 & -0.0459\\\\\n",
       "\t cleanliness\\_rating         &  0.0165 & 0.0040 &   4.0993 & 0.0000 &  0.0086 &  0.0243\\\\\n",
       "\t metro\\_dist                 &  0.0107 & 0.0031 &   3.4655 & 0.0005 &  0.0047 &  0.0168\\\\\n",
       "\t guest\\_satisfaction\\_overall &  0.0006 & 0.0041 &   0.1402 & 0.8885 & -0.0075 &  0.0086\\\\\n",
       "\\end{tabular}\n"
      ],
      "text/markdown": [
       "\n",
       "A tibble: 9 × 7\n",
       "\n",
       "| term &lt;chr&gt; | estimate &lt;dbl&gt; | std.error &lt;dbl&gt; | statistic &lt;dbl&gt; | p.value &lt;dbl&gt; | conf.low &lt;dbl&gt; | conf.high &lt;dbl&gt; |\n",
       "|---|---|---|---|---|---|---|\n",
       "| (Intercept)                |  3.9249 | 0.0109 | 360.8500 | 0.0000 |  3.9036 |  3.9463 |\n",
       "| price_per_person           |  0.0074 | 0.0001 | 130.9491 | 0.0000 |  0.0073 |  0.0075 |\n",
       "| person_capacity            |  0.3050 | 0.0034 |  88.9369 | 0.0000 |  0.2982 |  0.3117 |\n",
       "| bedrooms                   | -0.0205 | 0.0081 |  -2.5426 | 0.0111 | -0.0363 | -0.0047 |\n",
       "| attr_index_norm            | -0.0009 | 0.0004 |  -2.3785 | 0.0175 | -0.0016 | -0.0002 |\n",
       "| dist                       | -0.0532 | 0.0037 | -14.2261 | 0.0000 | -0.0605 | -0.0459 |\n",
       "| cleanliness_rating         |  0.0165 | 0.0040 |   4.0993 | 0.0000 |  0.0086 |  0.0243 |\n",
       "| metro_dist                 |  0.0107 | 0.0031 |   3.4655 | 0.0005 |  0.0047 |  0.0168 |\n",
       "| guest_satisfaction_overall |  0.0006 | 0.0041 |   0.1402 | 0.8885 | -0.0075 |  0.0086 |\n",
       "\n"
      ],
      "text/plain": [
       "  term                       estimate std.error statistic p.value conf.low\n",
       "1 (Intercept)                 3.9249  0.0109    360.8500  0.0000   3.9036 \n",
       "2 price_per_person            0.0074  0.0001    130.9491  0.0000   0.0073 \n",
       "3 person_capacity             0.3050  0.0034     88.9369  0.0000   0.2982 \n",
       "4 bedrooms                   -0.0205  0.0081     -2.5426  0.0111  -0.0363 \n",
       "5 attr_index_norm            -0.0009  0.0004     -2.3785  0.0175  -0.0016 \n",
       "6 dist                       -0.0532  0.0037    -14.2261  0.0000  -0.0605 \n",
       "7 cleanliness_rating          0.0165  0.0040      4.0993  0.0000   0.0086 \n",
       "8 metro_dist                  0.0107  0.0031      3.4655  0.0005   0.0047 \n",
       "9 guest_satisfaction_overall  0.0006  0.0041      0.1402  0.8885  -0.0075 \n",
       "  conf.high\n",
       "1  3.9463  \n",
       "2  0.0075  \n",
       "3  0.3117  \n",
       "4 -0.0047  \n",
       "5 -0.0002  \n",
       "6 -0.0459  \n",
       "7  0.0243  \n",
       "8  0.0168  \n",
       "9  0.0086  "
      ]
     },
     "metadata": {},
     "output_type": "display_data"
    }
   ],
   "source": [
    "# see barcelona full model\n",
    "model_barcelona_result <- tidy(fit_barcelona_0,conf.int =TRUE)|>mutate(across(where(is.numeric), ~ round(.x, 4)))\n",
    "model_barcelona_result"
   ]
  },
  {
   "cell_type": "markdown",
   "id": "3eb9330b",
   "metadata": {},
   "source": [
    "**Insights (p-value < 0.05>)**\n",
    "\n",
    "1. Paris\n",
    "- all predictors are significant.\n",
    "\n",
    "- amenity_pc1 has a negative coefficient, which suggests that better amenities are negatively associated with price. This is counterintuitive, so further interpretation of amenity_pc1 is needed.\n",
    "\n",
    "- dist has a positive coefficient, which suggests that further from city center is positively associated with higher price, also counterintuitive. Again, further inspection is needed.\n",
    "\n",
    "2. Barcelona\n",
    "- price_per_person, person_capacity, dist, and amenity_pc1 are significant.\n",
    "\n",
    "- bedrooms is not significant (p = 0.0729), which may not make much sense in real life. Further investigation is needed.\n",
    "\n",
    "- dist has a strong negative effect, which makes sense here.\n",
    "\n",
    "3. Vienna\n",
    "\n",
    "- Only bedrooms is not significant here either. Again, further exploration is needed.\n",
    "\n",
    "- dist has a negative effect, consistent with Barcelona."
   ]
  },
  {
   "cell_type": "code",
   "execution_count": 31,
   "id": "c27b0077-32c7-41e8-8f31-3c029850e13e",
   "metadata": {
    "vscode": {
     "languageId": "r"
    }
   },
   "outputs": [],
   "source": [
    "# plot(model_additive_log, which = 1)"
   ]
  },
  {
   "cell_type": "code",
   "execution_count": 32,
   "id": "3e9c88fb-d17c-4b34-919e-3b77d6e8f9ea",
   "metadata": {
    "vscode": {
     "languageId": "r"
    }
   },
   "outputs": [],
   "source": [
    "# vif(model_additive_log, type = \"predictor\")"
   ]
  },
  {
   "cell_type": "code",
   "execution_count": 34,
   "id": "1647c05e-d463-40b8-84ce-d67142f0a521",
   "metadata": {
    "vscode": {
     "languageId": "r"
    }
   },
   "outputs": [],
   "source": [
    "# model_additive_log_refine <- lm(log(realSum) ~ \n",
    "#                          room_type + bedrooms + \n",
    "#                          + cleanliness_rating \n",
    "#                                 + I(cleanliness_rating^2) + \n",
    "#                          guest_satisfaction_overall + I(guest_satisfaction_overall^2) + \n",
    "#                           + dist + I(dist^2) + \n",
    "#                          metro_dist + I(metro_dist^2) + \n",
    "#                          attr_index_norm + rest_index_norm,\n",
    "#                          data = df_all)"
   ]
  },
  {
   "cell_type": "code",
   "execution_count": 36,
   "id": "08be400a-07b2-4f1a-9a6f-0a5e56c93378",
   "metadata": {
    "vscode": {
     "languageId": "r"
    }
   },
   "outputs": [],
   "source": [
    "# model_additive_log_refine_result <- tidy(model_additive_log_refine,conf.int =TRUE)|>mutate(across(where(is.numeric), ~ round(.x, 4)))\n",
    "# model_additive_log_refine_result\n",
    "# summary(model_additive_log_refine)"
   ]
  },
  {
   "cell_type": "markdown",
   "id": "5578c392-249b-494b-927c-ce5f54750cbe",
   "metadata": {},
   "source": [
    "### Issues to explore and how to inspect them"
   ]
  },
  {
   "cell_type": "code",
   "execution_count": 37,
   "id": "b18ba9e9-d9cc-4ac7-b930-48e787902eac",
   "metadata": {
    "vscode": {
     "languageId": "r"
    }
   },
   "outputs": [],
   "source": [
    "# model_additive_log_refine_no2 <- lm(log(realSum) ~ \n",
    "#                          room_type + bedrooms + \n",
    "#                          + cleanliness_rating \n",
    "#                          + guest_satisfaction_overall \n",
    "#                           + dist+\n",
    "#                          metro_dist +  \n",
    "#                          attr_index_norm + rest_index_norm,\n",
    "#                          data = df_all)"
   ]
  },
  {
   "cell_type": "code",
   "execution_count": 38,
   "id": "18641c33-7476-4660-b143-6fa8f0d63f77",
   "metadata": {
    "vscode": {
     "languageId": "r"
    }
   },
   "outputs": [],
   "source": [
    "# anova(model_additive_log_refine_no2,model_additive_log_refine)|>mutate(across(where(is.numeric), ~ round(.x, 4)))\n",
    "# summary(model_additive_log_refine_no2)"
   ]
  }
 ],
 "metadata": {
  "kernelspec": {
   "display_name": "R",
   "language": "R",
   "name": "ir"
  },
  "language_info": {
   "codemirror_mode": "r",
   "file_extension": ".r",
   "mimetype": "text/x-r-source",
   "name": "R",
   "pygments_lexer": "r",
   "version": "4.5.1"
  }
 },
 "nbformat": 4,
 "nbformat_minor": 5
}
